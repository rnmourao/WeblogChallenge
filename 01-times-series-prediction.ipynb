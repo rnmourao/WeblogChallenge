{
 "metadata": {
  "language_info": {
   "codemirror_mode": {
    "name": "ipython",
    "version": 3
   },
   "file_extension": ".py",
   "mimetype": "text/x-python",
   "name": "python",
   "nbconvert_exporter": "python",
   "pygments_lexer": "ipython3",
   "version": "3.8.2-final"
  },
  "orig_nbformat": 2,
  "kernelspec": {
   "name": "Python 3.8.2 64-bit ('venv')",
   "display_name": "Python 3.8.2 64-bit ('venv')",
   "metadata": {
    "interpreter": {
     "hash": "2213592b4299e9f91d4a2708979e9e16ce1a6b9567b6946a5b9fb8c28aec46ae"
    }
   }
  }
 },
 "nbformat": 4,
 "nbformat_minor": 2,
 "cells": [
  {
   "cell_type": "code",
   "execution_count": 1,
   "metadata": {},
   "outputs": [],
   "source": [
    "from pyspark.sql import SparkSession\n",
    "from pyspark import SparkContext\n",
    "from pyspark.sql.window import Window\n",
    "from pyspark.sql.functions import lag, to_timestamp, col, when, sum, avg, count, split, explode, udf, collect_list, monotonically_increasing_id, row_number, size\n",
    "from pyspark import Row\n",
    "from pyspark.ml.linalg import Vectors, VectorUDT\n",
    "from pyspark.sql.types import ArrayType, TimestampType\n",
    "import datetime\n",
    "from matplotlib import pyplot as plt"
   ]
  },
  {
   "cell_type": "code",
   "execution_count": 2,
   "metadata": {},
   "outputs": [],
   "source": [
    "from pyspark.ml.feature import VectorAssembler\n",
    "from pyspark.ml.regression import RandomForestRegressor, LinearRegression\n",
    "from pyspark.ml.tuning import CrossValidator, ParamGridBuilder\n",
    "from pyspark.ml.evaluation import RegressionEvaluator"
   ]
  },
  {
   "cell_type": "code",
   "execution_count": 3,
   "metadata": {},
   "outputs": [],
   "source": [
    "sc = SparkContext.getOrCreate()"
   ]
  },
  {
   "cell_type": "code",
   "execution_count": 4,
   "metadata": {},
   "outputs": [],
   "source": [
    "spark = SparkSession.builder.getOrCreate()"
   ]
  },
  {
   "cell_type": "code",
   "execution_count": 5,
   "metadata": {},
   "outputs": [],
   "source": [
    "df = spark.read \\\n",
    "       .format(\"csv\") \\\n",
    "       .option(\"header\", \"true\") \\\n",
    "       .load(\"data/user_session_id/*.csv\")"
   ]
  },
  {
   "cell_type": "code",
   "execution_count": 6,
   "metadata": {
    "tags": []
   },
   "outputs": [
    {
     "output_type": "execute_result",
     "data": {
      "text/plain": [
       "                           _c0               _c1                  _c2  \\\n",
       "0  2015-07-22T10:36:50.817943Z  marketpalce-shop     1.186.38.4:58489   \n",
       "1  2015-07-22T16:21:56.041857Z  marketpalce-shop  1.187.131.255:14811   \n",
       "2  2015-07-22T10:49:44.888120Z  marketpalce-shop    1.187.7.103:15975   \n",
       "3  2015-07-22T10:49:46.328464Z  marketpalce-shop    1.187.7.103:15975   \n",
       "4  2015-07-22T06:55:07.710503Z  marketpalce-shop   1.22.132.104:61347   \n",
       "5  2015-07-22T06:55:08.919650Z  marketpalce-shop   1.22.132.104:61347   \n",
       "6  2015-07-22T06:55:09.257625Z  marketpalce-shop   1.22.132.104:61347   \n",
       "7  2015-07-22T06:55:09.278240Z  marketpalce-shop   1.22.132.104:61348   \n",
       "8  2015-07-22T06:55:09.338510Z  marketpalce-shop   1.22.132.104:61346   \n",
       "9  2015-07-22T06:55:23.245820Z  marketpalce-shop   1.22.132.104:61346   \n",
       "\n",
       "             _c3     _c4       _c5     _c6  _c7  _c8  _c9  ...  \\\n",
       "0  10.0.4.217:80  2.2E-5  0.015808  2.1E-5  200  200    0  ...   \n",
       "1  10.0.4.150:80  2.4E-5  0.003184  2.1E-5  200  200    0  ...   \n",
       "2  10.0.6.178:80  2.5E-5  0.071696  2.1E-5  200  200  190  ...   \n",
       "3  10.0.6.108:80  2.5E-5  0.002051  2.1E-5  200  200    0  ...   \n",
       "4  10.0.4.225:80  2.5E-5  0.006085  2.1E-5  200  200    0  ...   \n",
       "5  10.0.6.108:80  2.3E-5  0.010206  2.4E-5  200  200    0  ...   \n",
       "6  10.0.6.108:80  2.5E-5  0.004596  2.2E-5  200  200    0  ...   \n",
       "7  10.0.6.158:80  2.5E-5  0.006642  2.1E-5  200  200    0  ...   \n",
       "8  10.0.6.199:80  2.6E-5  0.005262  2.0E-5  200  200    0  ...   \n",
       "9  10.0.4.225:80  2.3E-5  0.004889  2.1E-5  200  200    0  ...   \n",
       "\n",
       "                                                _c11  \\\n",
       "0  GET https://paytm.com:443/shop?utm_source=Affi...   \n",
       "1  GET https://paytm.com:443/shop/g/electronics/c...   \n",
       "2               POST https://paytm.com:443/ HTTP/1.1   \n",
       "3  GET https://paytm.com:443/styles/app.css HTTP/1.1   \n",
       "4  GET https://paytm.com:443/shop/p/lenovo-yoga-3...   \n",
       "5  GET https://paytm.com:443/shop/cart?channel=we...   \n",
       "6  GET https://paytm.com:443/papi/nps/merchantrat...   \n",
       "7  GET https://paytm.com:443/papi/v1/promosearch/...   \n",
       "8  GET https://paytm.com:443/papi/rr/products/163...   \n",
       "9  GET https://paytm.com:443/shop/p/hp-15-r033tx-...   \n",
       "\n",
       "                                                _c12  \\\n",
       "0  Mozilla/5.0 (Macintosh; Intel Mac OS X 10_10_2...   \n",
       "1  Mozilla/5.0 (Linux; Android 5.0; Micromax Q380...   \n",
       "2  SAMSUNG-GT-C3312/1.0 NetFront/4.2 Profile/MIDP...   \n",
       "3  SAMSUNG-GT-C3312/1.0 NetFront/4.2 Profile/MIDP...   \n",
       "4  Mozilla/5.0 (Windows NT 6.3; WOW64) AppleWebKi...   \n",
       "5  Mozilla/5.0 (Windows NT 6.3; WOW64) AppleWebKi...   \n",
       "6  Mozilla/5.0 (Windows NT 6.3; WOW64) AppleWebKi...   \n",
       "7  Mozilla/5.0 (Windows NT 6.3; WOW64) AppleWebKi...   \n",
       "8  Mozilla/5.0 (Windows NT 6.3; WOW64) AppleWebKi...   \n",
       "9  Mozilla/5.0 (Windows NT 6.3; WOW64) AppleWebKi...   \n",
       "\n",
       "                          _c13     _c14        user_id  \\\n",
       "0  ECDHE-RSA-AES128-GCM-SHA256  TLSv1.2     1.186.38.4   \n",
       "1  ECDHE-RSA-AES128-GCM-SHA256  TLSv1.2  1.187.131.255   \n",
       "2                   AES128-SHA    TLSv1    1.187.7.103   \n",
       "3                   AES128-SHA    TLSv1    1.187.7.103   \n",
       "4  ECDHE-RSA-AES128-GCM-SHA256  TLSv1.2   1.22.132.104   \n",
       "5  ECDHE-RSA-AES128-GCM-SHA256  TLSv1.2   1.22.132.104   \n",
       "6  ECDHE-RSA-AES128-GCM-SHA256  TLSv1.2   1.22.132.104   \n",
       "7  ECDHE-RSA-AES128-GCM-SHA256  TLSv1.2   1.22.132.104   \n",
       "8  ECDHE-RSA-AES128-GCM-SHA256  TLSv1.2   1.22.132.104   \n",
       "9  ECDHE-RSA-AES128-GCM-SHA256  TLSv1.2   1.22.132.104   \n",
       "\n",
       "                      occured_at                     last_event  \\\n",
       "0  2015-07-22T07:36:50.817-03:00                           None   \n",
       "1  2015-07-22T13:21:56.041-03:00                           None   \n",
       "2  2015-07-22T07:49:44.888-03:00                           None   \n",
       "3  2015-07-22T07:49:46.328-03:00  2015-07-22T07:49:44.888-03:00   \n",
       "4  2015-07-22T03:55:07.710-03:00                           None   \n",
       "5  2015-07-22T03:55:08.919-03:00  2015-07-22T03:55:07.710-03:00   \n",
       "6  2015-07-22T03:55:09.257-03:00  2015-07-22T03:55:08.919-03:00   \n",
       "7  2015-07-22T03:55:09.278-03:00  2015-07-22T03:55:09.257-03:00   \n",
       "8  2015-07-22T03:55:09.338-03:00  2015-07-22T03:55:09.278-03:00   \n",
       "9  2015-07-22T03:55:23.245-03:00  2015-07-22T03:55:09.338-03:00   \n",
       "\n",
       "             lag_in_day is_new_session user_session_id  \n",
       "0                  None              0               0  \n",
       "1                  None              0               0  \n",
       "2                  None              0               0  \n",
       "3   0.03333333333333333              0               0  \n",
       "4                  None              0               0  \n",
       "5  0.016666666666666666              0               0  \n",
       "6  0.016666666666666666              0               0  \n",
       "7                   0.0              0               0  \n",
       "8                   0.0              0               0  \n",
       "9   0.23333333333333334              0               0  \n",
       "\n",
       "[10 rows x 21 columns]"
      ],
      "text/html": "<div>\n<style scoped>\n    .dataframe tbody tr th:only-of-type {\n        vertical-align: middle;\n    }\n\n    .dataframe tbody tr th {\n        vertical-align: top;\n    }\n\n    .dataframe thead th {\n        text-align: right;\n    }\n</style>\n<table border=\"1\" class=\"dataframe\">\n  <thead>\n    <tr style=\"text-align: right;\">\n      <th></th>\n      <th>_c0</th>\n      <th>_c1</th>\n      <th>_c2</th>\n      <th>_c3</th>\n      <th>_c4</th>\n      <th>_c5</th>\n      <th>_c6</th>\n      <th>_c7</th>\n      <th>_c8</th>\n      <th>_c9</th>\n      <th>...</th>\n      <th>_c11</th>\n      <th>_c12</th>\n      <th>_c13</th>\n      <th>_c14</th>\n      <th>user_id</th>\n      <th>occured_at</th>\n      <th>last_event</th>\n      <th>lag_in_day</th>\n      <th>is_new_session</th>\n      <th>user_session_id</th>\n    </tr>\n  </thead>\n  <tbody>\n    <tr>\n      <th>0</th>\n      <td>2015-07-22T10:36:50.817943Z</td>\n      <td>marketpalce-shop</td>\n      <td>1.186.38.4:58489</td>\n      <td>10.0.4.217:80</td>\n      <td>2.2E-5</td>\n      <td>0.015808</td>\n      <td>2.1E-5</td>\n      <td>200</td>\n      <td>200</td>\n      <td>0</td>\n      <td>...</td>\n      <td>GET https://paytm.com:443/shop?utm_source=Affi...</td>\n      <td>Mozilla/5.0 (Macintosh; Intel Mac OS X 10_10_2...</td>\n      <td>ECDHE-RSA-AES128-GCM-SHA256</td>\n      <td>TLSv1.2</td>\n      <td>1.186.38.4</td>\n      <td>2015-07-22T07:36:50.817-03:00</td>\n      <td>None</td>\n      <td>None</td>\n      <td>0</td>\n      <td>0</td>\n    </tr>\n    <tr>\n      <th>1</th>\n      <td>2015-07-22T16:21:56.041857Z</td>\n      <td>marketpalce-shop</td>\n      <td>1.187.131.255:14811</td>\n      <td>10.0.4.150:80</td>\n      <td>2.4E-5</td>\n      <td>0.003184</td>\n      <td>2.1E-5</td>\n      <td>200</td>\n      <td>200</td>\n      <td>0</td>\n      <td>...</td>\n      <td>GET https://paytm.com:443/shop/g/electronics/c...</td>\n      <td>Mozilla/5.0 (Linux; Android 5.0; Micromax Q380...</td>\n      <td>ECDHE-RSA-AES128-GCM-SHA256</td>\n      <td>TLSv1.2</td>\n      <td>1.187.131.255</td>\n      <td>2015-07-22T13:21:56.041-03:00</td>\n      <td>None</td>\n      <td>None</td>\n      <td>0</td>\n      <td>0</td>\n    </tr>\n    <tr>\n      <th>2</th>\n      <td>2015-07-22T10:49:44.888120Z</td>\n      <td>marketpalce-shop</td>\n      <td>1.187.7.103:15975</td>\n      <td>10.0.6.178:80</td>\n      <td>2.5E-5</td>\n      <td>0.071696</td>\n      <td>2.1E-5</td>\n      <td>200</td>\n      <td>200</td>\n      <td>190</td>\n      <td>...</td>\n      <td>POST https://paytm.com:443/ HTTP/1.1</td>\n      <td>SAMSUNG-GT-C3312/1.0 NetFront/4.2 Profile/MIDP...</td>\n      <td>AES128-SHA</td>\n      <td>TLSv1</td>\n      <td>1.187.7.103</td>\n      <td>2015-07-22T07:49:44.888-03:00</td>\n      <td>None</td>\n      <td>None</td>\n      <td>0</td>\n      <td>0</td>\n    </tr>\n    <tr>\n      <th>3</th>\n      <td>2015-07-22T10:49:46.328464Z</td>\n      <td>marketpalce-shop</td>\n      <td>1.187.7.103:15975</td>\n      <td>10.0.6.108:80</td>\n      <td>2.5E-5</td>\n      <td>0.002051</td>\n      <td>2.1E-5</td>\n      <td>200</td>\n      <td>200</td>\n      <td>0</td>\n      <td>...</td>\n      <td>GET https://paytm.com:443/styles/app.css HTTP/1.1</td>\n      <td>SAMSUNG-GT-C3312/1.0 NetFront/4.2 Profile/MIDP...</td>\n      <td>AES128-SHA</td>\n      <td>TLSv1</td>\n      <td>1.187.7.103</td>\n      <td>2015-07-22T07:49:46.328-03:00</td>\n      <td>2015-07-22T07:49:44.888-03:00</td>\n      <td>0.03333333333333333</td>\n      <td>0</td>\n      <td>0</td>\n    </tr>\n    <tr>\n      <th>4</th>\n      <td>2015-07-22T06:55:07.710503Z</td>\n      <td>marketpalce-shop</td>\n      <td>1.22.132.104:61347</td>\n      <td>10.0.4.225:80</td>\n      <td>2.5E-5</td>\n      <td>0.006085</td>\n      <td>2.1E-5</td>\n      <td>200</td>\n      <td>200</td>\n      <td>0</td>\n      <td>...</td>\n      <td>GET https://paytm.com:443/shop/p/lenovo-yoga-3...</td>\n      <td>Mozilla/5.0 (Windows NT 6.3; WOW64) AppleWebKi...</td>\n      <td>ECDHE-RSA-AES128-GCM-SHA256</td>\n      <td>TLSv1.2</td>\n      <td>1.22.132.104</td>\n      <td>2015-07-22T03:55:07.710-03:00</td>\n      <td>None</td>\n      <td>None</td>\n      <td>0</td>\n      <td>0</td>\n    </tr>\n    <tr>\n      <th>5</th>\n      <td>2015-07-22T06:55:08.919650Z</td>\n      <td>marketpalce-shop</td>\n      <td>1.22.132.104:61347</td>\n      <td>10.0.6.108:80</td>\n      <td>2.3E-5</td>\n      <td>0.010206</td>\n      <td>2.4E-5</td>\n      <td>200</td>\n      <td>200</td>\n      <td>0</td>\n      <td>...</td>\n      <td>GET https://paytm.com:443/shop/cart?channel=we...</td>\n      <td>Mozilla/5.0 (Windows NT 6.3; WOW64) AppleWebKi...</td>\n      <td>ECDHE-RSA-AES128-GCM-SHA256</td>\n      <td>TLSv1.2</td>\n      <td>1.22.132.104</td>\n      <td>2015-07-22T03:55:08.919-03:00</td>\n      <td>2015-07-22T03:55:07.710-03:00</td>\n      <td>0.016666666666666666</td>\n      <td>0</td>\n      <td>0</td>\n    </tr>\n    <tr>\n      <th>6</th>\n      <td>2015-07-22T06:55:09.257625Z</td>\n      <td>marketpalce-shop</td>\n      <td>1.22.132.104:61347</td>\n      <td>10.0.6.108:80</td>\n      <td>2.5E-5</td>\n      <td>0.004596</td>\n      <td>2.2E-5</td>\n      <td>200</td>\n      <td>200</td>\n      <td>0</td>\n      <td>...</td>\n      <td>GET https://paytm.com:443/papi/nps/merchantrat...</td>\n      <td>Mozilla/5.0 (Windows NT 6.3; WOW64) AppleWebKi...</td>\n      <td>ECDHE-RSA-AES128-GCM-SHA256</td>\n      <td>TLSv1.2</td>\n      <td>1.22.132.104</td>\n      <td>2015-07-22T03:55:09.257-03:00</td>\n      <td>2015-07-22T03:55:08.919-03:00</td>\n      <td>0.016666666666666666</td>\n      <td>0</td>\n      <td>0</td>\n    </tr>\n    <tr>\n      <th>7</th>\n      <td>2015-07-22T06:55:09.278240Z</td>\n      <td>marketpalce-shop</td>\n      <td>1.22.132.104:61348</td>\n      <td>10.0.6.158:80</td>\n      <td>2.5E-5</td>\n      <td>0.006642</td>\n      <td>2.1E-5</td>\n      <td>200</td>\n      <td>200</td>\n      <td>0</td>\n      <td>...</td>\n      <td>GET https://paytm.com:443/papi/v1/promosearch/...</td>\n      <td>Mozilla/5.0 (Windows NT 6.3; WOW64) AppleWebKi...</td>\n      <td>ECDHE-RSA-AES128-GCM-SHA256</td>\n      <td>TLSv1.2</td>\n      <td>1.22.132.104</td>\n      <td>2015-07-22T03:55:09.278-03:00</td>\n      <td>2015-07-22T03:55:09.257-03:00</td>\n      <td>0.0</td>\n      <td>0</td>\n      <td>0</td>\n    </tr>\n    <tr>\n      <th>8</th>\n      <td>2015-07-22T06:55:09.338510Z</td>\n      <td>marketpalce-shop</td>\n      <td>1.22.132.104:61346</td>\n      <td>10.0.6.199:80</td>\n      <td>2.6E-5</td>\n      <td>0.005262</td>\n      <td>2.0E-5</td>\n      <td>200</td>\n      <td>200</td>\n      <td>0</td>\n      <td>...</td>\n      <td>GET https://paytm.com:443/papi/rr/products/163...</td>\n      <td>Mozilla/5.0 (Windows NT 6.3; WOW64) AppleWebKi...</td>\n      <td>ECDHE-RSA-AES128-GCM-SHA256</td>\n      <td>TLSv1.2</td>\n      <td>1.22.132.104</td>\n      <td>2015-07-22T03:55:09.338-03:00</td>\n      <td>2015-07-22T03:55:09.278-03:00</td>\n      <td>0.0</td>\n      <td>0</td>\n      <td>0</td>\n    </tr>\n    <tr>\n      <th>9</th>\n      <td>2015-07-22T06:55:23.245820Z</td>\n      <td>marketpalce-shop</td>\n      <td>1.22.132.104:61346</td>\n      <td>10.0.4.225:80</td>\n      <td>2.3E-5</td>\n      <td>0.004889</td>\n      <td>2.1E-5</td>\n      <td>200</td>\n      <td>200</td>\n      <td>0</td>\n      <td>...</td>\n      <td>GET https://paytm.com:443/shop/p/hp-15-r033tx-...</td>\n      <td>Mozilla/5.0 (Windows NT 6.3; WOW64) AppleWebKi...</td>\n      <td>ECDHE-RSA-AES128-GCM-SHA256</td>\n      <td>TLSv1.2</td>\n      <td>1.22.132.104</td>\n      <td>2015-07-22T03:55:23.245-03:00</td>\n      <td>2015-07-22T03:55:09.338-03:00</td>\n      <td>0.23333333333333334</td>\n      <td>0</td>\n      <td>0</td>\n    </tr>\n  </tbody>\n</table>\n<p>10 rows × 21 columns</p>\n</div>"
     },
     "metadata": {},
     "execution_count": 6
    }
   ],
   "source": [
    "df.limit(10).toPandas()"
   ]
  },
  {
   "cell_type": "code",
   "execution_count": 7,
   "metadata": {},
   "outputs": [
    {
     "output_type": "execute_result",
     "data": {
      "text/plain": [
       "[('_c0', 'string'),\n",
       " ('_c1', 'string'),\n",
       " ('_c2', 'string'),\n",
       " ('_c3', 'string'),\n",
       " ('_c4', 'string'),\n",
       " ('_c5', 'string'),\n",
       " ('_c6', 'string'),\n",
       " ('_c7', 'string'),\n",
       " ('_c8', 'string'),\n",
       " ('_c9', 'string'),\n",
       " ('_c10', 'string'),\n",
       " ('_c11', 'string'),\n",
       " ('_c12', 'string'),\n",
       " ('_c13', 'string'),\n",
       " ('_c14', 'string'),\n",
       " ('user_id', 'string'),\n",
       " ('occured_at', 'string'),\n",
       " ('last_event', 'string'),\n",
       " ('lag_in_day', 'string'),\n",
       " ('is_new_session', 'string'),\n",
       " ('user_session_id', 'string')]"
      ]
     },
     "metadata": {},
     "execution_count": 7
    }
   ],
   "source": [
    "df.dtypes"
   ]
  },
  {
   "source": [
    "## 1. Predict the expected load (requests/second) in the next minute"
   ],
   "cell_type": "markdown",
   "metadata": {}
  },
  {
   "cell_type": "code",
   "execution_count": 8,
   "metadata": {},
   "outputs": [],
   "source": [
    "df.createOrReplaceTempView('user_session_id')"
   ]
  },
  {
   "cell_type": "code",
   "execution_count": 9,
   "metadata": {},
   "outputs": [
    {
     "output_type": "stream",
     "name": "stdout",
     "text": [
      "+-------------+---------------+-------------------+-------------------+\n|      user_id|user_session_id|              first|               last|\n+-------------+---------------+-------------------+-------------------+\n|   1.186.38.4|              0|2015-07-22 07:36:00|               null|\n|1.187.131.255|              0|2015-07-22 01:21:00|               null|\n|  1.187.7.103|              0|2015-07-22 07:49:00|               null|\n|  1.187.7.103|              0|2015-07-22 07:49:00|2015-07-22 07:49:00|\n| 1.22.132.104|              0|2015-07-22 03:55:00|               null|\n| 1.22.132.104|              0|2015-07-22 03:55:00|2015-07-22 03:55:00|\n| 1.22.132.104|              0|2015-07-22 03:55:00|2015-07-22 03:55:00|\n| 1.22.132.104|              0|2015-07-22 03:55:00|2015-07-22 03:55:00|\n| 1.22.132.104|              0|2015-07-22 03:55:00|2015-07-22 03:55:00|\n| 1.22.132.104|              0|2015-07-22 03:55:00|2015-07-22 03:55:00|\n| 1.22.132.104|              0|2015-07-22 03:55:00|2015-07-22 03:55:00|\n| 1.22.132.104|              0|2015-07-22 03:55:00|2015-07-22 03:55:00|\n| 1.22.132.104|              0|2015-07-22 03:55:00|2015-07-22 03:55:00|\n| 1.22.132.104|              0|2015-07-22 03:55:00|2015-07-22 03:55:00|\n| 1.22.132.104|              0|2015-07-22 03:55:00|2015-07-22 03:55:00|\n| 1.22.132.104|              0|2015-07-22 03:55:00|2015-07-22 03:55:00|\n| 1.22.132.104|              0|2015-07-22 03:55:00|2015-07-22 03:55:00|\n| 1.22.132.104|              0|2015-07-22 03:55:00|2015-07-22 03:55:00|\n| 1.22.132.104|              0|2015-07-22 03:55:00|2015-07-22 03:55:00|\n| 1.22.132.104|              0|2015-07-22 03:56:00|2015-07-22 03:55:00|\n+-------------+---------------+-------------------+-------------------+\nonly showing top 20 rows\n\n"
     ]
    }
   ],
   "source": [
    "#  user_id|          occured_at|          last_event|user_session_id|          lag_in_day\n",
    "\n",
    "first_n_last = spark.sql(\"\"\" select user_id\n",
    "                   , user_session_id\n",
    "                   , to_timestamp(date_format(occured_at, 'yyyy-MM-dd hh:mm')) as first\n",
    "                   , to_timestamp(date_format(last_event, 'yyyy-MM-dd hh:mm')) as last\n",
    "              from user_session_id\n",
    "\"\"\")\n",
    "first_n_last.show()"
   ]
  },
  {
   "cell_type": "code",
   "execution_count": 10,
   "metadata": {},
   "outputs": [
    {
     "output_type": "execute_result",
     "data": {
      "text/plain": [
       "[('user_id', 'string'),\n",
       " ('user_session_id', 'string'),\n",
       " ('first', 'timestamp'),\n",
       " ('last', 'timestamp')]"
      ]
     },
     "metadata": {},
     "execution_count": 10
    }
   ],
   "source": [
    "first_n_last.dtypes"
   ]
  },
  {
   "cell_type": "code",
   "execution_count": 11,
   "metadata": {},
   "outputs": [],
   "source": [
    "first_n_last.createOrReplaceTempView('first_n_last')"
   ]
  },
  {
   "cell_type": "code",
   "execution_count": 12,
   "metadata": {},
   "outputs": [
    {
     "output_type": "stream",
     "name": "stdout",
     "text": [
      "+---------------+---------------+-------------------+-------------------+\n|        user_id|user_session_id|              first|               last|\n+---------------+---------------+-------------------+-------------------+\n| 117.204.165.61|              0|2015-07-22 07:46:00|               null|\n|   182.74.51.82|              0|2015-07-22 01:21:00|2015-07-22 01:21:00|\n|      1.38.4.10|              4|2015-07-22 03:02:00|2015-07-22 03:02:00|\n| 111.93.170.118|              0|2015-07-22 07:35:00|2015-07-22 07:37:00|\n|117.217.172.105|              0|2015-07-22 01:13:00|2015-07-22 01:13:00|\n| 117.220.67.127|              0|2015-07-22 01:10:00|2015-07-22 01:13:00|\n|   122.15.20.34|              3|2015-07-22 07:30:00|2015-07-22 07:49:00|\n|  122.163.80.96|              0|2015-07-22 06:01:00|2015-07-22 06:02:00|\n|  123.63.153.25|              0|2015-07-22 06:01:00|2015-07-22 06:01:00|\n| 182.74.219.150|              1|2015-07-22 01:42:00|2015-07-22 07:32:00|\n|  183.82.96.148|              0|2015-07-22 07:38:00|2015-07-22 07:38:00|\n|     1.38.22.41|              0|2015-07-22 02:43:00|2015-07-22 02:43:00|\n|  115.246.86.26|              0|2015-07-22 01:43:00|2015-07-22 01:43:00|\n|  52.74.247.117|              1|2015-07-22 06:08:00|2015-07-22 06:08:00|\n|  59.91.150.124|              0|2015-07-22 07:34:00|2015-07-22 07:37:00|\n|    1.39.80.104|              0|2015-07-22 02:43:00|2015-07-22 02:43:00|\n|  101.212.65.76|              0|2015-07-22 03:01:00|2015-07-22 03:01:00|\n|    115.248.1.1|              2|2015-07-22 07:30:00|2015-07-22 08:04:00|\n|  117.247.66.37|              0|2015-07-22 07:39:00|2015-07-22 08:02:00|\n|  182.66.29.252|              0|2015-07-21 11:45:00|               null|\n+---------------+---------------+-------------------+-------------------+\nonly showing top 20 rows\n\n"
     ]
    }
   ],
   "source": [
    "sessions = spark.sql(\"\"\" select user_id\n",
    "                   , user_session_id\n",
    "                   , min(first) as first\n",
    "                   , max(last) as last\n",
    "              from first_n_last\n",
    "              group by user_id\n",
    "                     , user_session_id\n",
    "\n",
    "\"\"\")\n",
    "sessions.show()"
   ]
  },
  {
   "cell_type": "code",
   "execution_count": 13,
   "metadata": {},
   "outputs": [
    {
     "output_type": "execute_result",
     "data": {
      "text/plain": [
       "[('user_id', 'string'),\n",
       " ('user_session_id', 'string'),\n",
       " ('first', 'timestamp'),\n",
       " ('last', 'timestamp')]"
      ]
     },
     "metadata": {},
     "execution_count": 13
    }
   ],
   "source": [
    "sessions.dtypes"
   ]
  },
  {
   "cell_type": "code",
   "execution_count": 14,
   "metadata": {},
   "outputs": [],
   "source": [
    "def list_of_minutes(ts):\n",
    "    ls = []\n",
    "\n",
    "    if ts is None:\n",
    "        return ls\n",
    "\n",
    "\n",
    "    step = ts\n",
    "    ls.append(step)\n",
    "\n",
    "    for i in range(15):\n",
    "        step += datetime.timedelta(minutes=1)\n",
    "        ls.append(step)\n",
    "    \n",
    "    return ls\n",
    "list_of_minutes_udf = udf(list_of_minutes, ArrayType(TimestampType()))"
   ]
  },
  {
   "cell_type": "code",
   "execution_count": 15,
   "metadata": {},
   "outputs": [],
   "source": [
    "def list_to_set(ls1, ls2):\n",
    "    ls = ls1 + ls2\n",
    "    return list(set(ls))\n",
    "list_to_set_udf = udf(list_to_set, ArrayType(TimestampType()))"
   ]
  },
  {
   "cell_type": "code",
   "execution_count": 16,
   "metadata": {},
   "outputs": [],
   "source": [
    "sessions = sessions.withColumn('first_ls', list_of_minutes_udf(col('first'))) \\\n",
    "                   .withColumn('last_ls', list_of_minutes_udf(col('last'))) \\\n",
    "                   .withColumn('session_minutes', list_to_set_udf(col('first_ls'), col('last_ls')))"
   ]
  },
  {
   "cell_type": "code",
   "execution_count": 17,
   "metadata": {},
   "outputs": [
    {
     "output_type": "stream",
     "name": "stdout",
     "text": [
      "+---------------+---------------+-------------------+-------------------+--------------------+--------------------+--------------------+\n|        user_id|user_session_id|              first|               last|            first_ls|             last_ls|     session_minutes|\n+---------------+---------------+-------------------+-------------------+--------------------+--------------------+--------------------+\n| 117.204.165.61|              0|2015-07-22 07:46:00|               null|[2015-07-22 07:46...|                  []|[2015-07-22 07:56...|\n|   182.74.51.82|              0|2015-07-22 01:21:00|2015-07-22 01:21:00|[2015-07-22 01:21...|[2015-07-22 01:21...|[2015-07-22 01:22...|\n|      1.38.4.10|              4|2015-07-22 03:02:00|2015-07-22 03:02:00|[2015-07-22 03:02...|[2015-07-22 03:02...|[2015-07-22 03:03...|\n| 111.93.170.118|              0|2015-07-22 07:35:00|2015-07-22 07:37:00|[2015-07-22 07:35...|[2015-07-22 07:37...|[2015-07-22 07:36...|\n|117.217.172.105|              0|2015-07-22 01:13:00|2015-07-22 01:13:00|[2015-07-22 01:13...|[2015-07-22 01:13...|[2015-07-22 01:22...|\n| 117.220.67.127|              0|2015-07-22 01:10:00|2015-07-22 01:13:00|[2015-07-22 01:10...|[2015-07-22 01:13...|[2015-07-22 01:18...|\n|   122.15.20.34|              3|2015-07-22 07:30:00|2015-07-22 07:49:00|[2015-07-22 07:30...|[2015-07-22 07:49...|[2015-07-22 07:56...|\n|  122.163.80.96|              0|2015-07-22 06:01:00|2015-07-22 06:02:00|[2015-07-22 06:01...|[2015-07-22 06:02...|[2015-07-22 06:08...|\n|  123.63.153.25|              0|2015-07-22 06:01:00|2015-07-22 06:01:00|[2015-07-22 06:01...|[2015-07-22 06:01...|[2015-07-22 06:08...|\n| 182.74.219.150|              1|2015-07-22 01:42:00|2015-07-22 07:32:00|[2015-07-22 01:42...|[2015-07-22 07:32...|[2015-07-22 07:36...|\n|  183.82.96.148|              0|2015-07-22 07:38:00|2015-07-22 07:38:00|[2015-07-22 07:38...|[2015-07-22 07:38...|[2015-07-22 07:50...|\n|     1.38.22.41|              0|2015-07-22 02:43:00|2015-07-22 02:43:00|[2015-07-22 02:43...|[2015-07-22 02:43...|[2015-07-22 02:57...|\n|  115.246.86.26|              0|2015-07-22 01:43:00|2015-07-22 01:43:00|[2015-07-22 01:43...|[2015-07-22 01:43...|[2015-07-22 01:58...|\n|  52.74.247.117|              1|2015-07-22 06:08:00|2015-07-22 06:08:00|[2015-07-22 06:08...|[2015-07-22 06:08...|[2015-07-22 06:08...|\n|  59.91.150.124|              0|2015-07-22 07:34:00|2015-07-22 07:37:00|[2015-07-22 07:34...|[2015-07-22 07:37...|[2015-07-22 07:36...|\n|    1.39.80.104|              0|2015-07-22 02:43:00|2015-07-22 02:43:00|[2015-07-22 02:43...|[2015-07-22 02:43...|[2015-07-22 02:57...|\n|  101.212.65.76|              0|2015-07-22 03:01:00|2015-07-22 03:01:00|[2015-07-22 03:01...|[2015-07-22 03:01...|[2015-07-22 03:03...|\n|    115.248.1.1|              2|2015-07-22 07:30:00|2015-07-22 08:04:00|[2015-07-22 07:30...|[2015-07-22 08:04...|[2015-07-22 07:36...|\n|  117.247.66.37|              0|2015-07-22 07:39:00|2015-07-22 08:02:00|[2015-07-22 07:39...|[2015-07-22 08:02...|[2015-07-22 08:16...|\n|  182.66.29.252|              0|2015-07-21 11:45:00|               null|[2015-07-21 11:45...|                  []|[2015-07-21 11:56...|\n+---------------+---------------+-------------------+-------------------+--------------------+--------------------+--------------------+\nonly showing top 20 rows\n\n"
     ]
    }
   ],
   "source": [
    "sessions.show()"
   ]
  },
  {
   "cell_type": "code",
   "execution_count": 18,
   "metadata": {},
   "outputs": [],
   "source": [
    "sessions = sessions.withColumn('minutes', size(col('session_minutes')))"
   ]
  },
  {
   "cell_type": "code",
   "execution_count": 19,
   "metadata": {},
   "outputs": [],
   "source": [
    "sessions.select('user_id', 'user_session_id', 'minutes').write.csv('data/sessions', header=True)"
   ]
  },
  {
   "cell_type": "code",
   "execution_count": 20,
   "metadata": {},
   "outputs": [
    {
     "output_type": "stream",
     "name": "stdout",
     "text": [
      "+-------------------+-------+\n|                 ts|n_users|\n+-------------------+-------+\n|2015-07-21 11:40:00|    777|\n|2015-07-21 11:41:00|   1291|\n|2015-07-21 11:42:00|   1757|\n|2015-07-21 11:43:00|   2246|\n|2015-07-21 11:44:00|   2738|\n|2015-07-21 11:45:00|   2801|\n|2015-07-21 11:46:00|   2801|\n|2015-07-21 11:47:00|   2801|\n|2015-07-21 11:48:00|   2801|\n|2015-07-21 11:49:00|   2801|\n|2015-07-21 11:50:00|   2801|\n|2015-07-21 11:51:00|   2801|\n|2015-07-21 11:52:00|   2801|\n|2015-07-21 11:53:00|   2801|\n|2015-07-21 11:54:00|   2801|\n|2015-07-21 11:55:00|   2801|\n|2015-07-21 11:56:00|   2336|\n|2015-07-21 11:57:00|   1893|\n|2015-07-21 11:58:00|   1406|\n|2015-07-21 11:59:00|    882|\n+-------------------+-------+\nonly showing top 20 rows\n\n"
     ]
    }
   ],
   "source": [
    "session_minutes = sessions.withColumn('ts', explode(col('session_minutes'))) \\\n",
    "                                 .groupby('ts') \\\n",
    "                                 .agg(count('ts').alias('n_users')) \\\n",
    "                                 .orderBy('ts')\n",
    "session_minutes.show()"
   ]
  },
  {
   "cell_type": "code",
   "execution_count": 21,
   "metadata": {},
   "outputs": [],
   "source": [
    "session_minutes.createOrReplaceTempView('session_minutes')"
   ]
  },
  {
   "cell_type": "code",
   "execution_count": 22,
   "metadata": {},
   "outputs": [],
   "source": [
    "row = spark.sql(\"select min(ts) as start, max(ts) as end from session_minutes\").collect()[0]\n",
    "start = row.start\n",
    "end = row.end"
   ]
  },
  {
   "cell_type": "code",
   "execution_count": 23,
   "metadata": {},
   "outputs": [
    {
     "output_type": "execute_result",
     "data": {
      "text/plain": [
       "datetime.datetime(2015, 7, 21, 11, 40)"
      ]
     },
     "metadata": {},
     "execution_count": 23
    }
   ],
   "source": [
    "start"
   ]
  },
  {
   "cell_type": "code",
   "execution_count": 24,
   "metadata": {},
   "outputs": [
    {
     "output_type": "execute_result",
     "data": {
      "text/plain": [
       "datetime.datetime(2015, 7, 22, 13, 10)"
      ]
     },
     "metadata": {},
     "execution_count": 24
    }
   ],
   "source": [
    "end"
   ]
  },
  {
   "cell_type": "code",
   "execution_count": 25,
   "metadata": {},
   "outputs": [],
   "source": [
    "ls = [start]"
   ]
  },
  {
   "cell_type": "code",
   "execution_count": 26,
   "metadata": {},
   "outputs": [],
   "source": [
    "step = start\n",
    "while step < end:\n",
    "    step += datetime.timedelta(minutes=1)\n",
    "    ls.append(step)"
   ]
  },
  {
   "cell_type": "code",
   "execution_count": 27,
   "metadata": {},
   "outputs": [
    {
     "output_type": "stream",
     "name": "stdout",
     "text": [
      "+-------------------+\n|                 ts|\n+-------------------+\n|2015-07-21 11:40:00|\n|2015-07-21 11:41:00|\n|2015-07-21 11:42:00|\n|2015-07-21 11:43:00|\n|2015-07-21 11:44:00|\n|2015-07-21 11:45:00|\n|2015-07-21 11:46:00|\n|2015-07-21 11:47:00|\n|2015-07-21 11:48:00|\n|2015-07-21 11:49:00|\n|2015-07-21 11:50:00|\n|2015-07-21 11:51:00|\n|2015-07-21 11:52:00|\n|2015-07-21 11:53:00|\n|2015-07-21 11:54:00|\n|2015-07-21 11:55:00|\n|2015-07-21 11:56:00|\n|2015-07-21 11:57:00|\n|2015-07-21 11:58:00|\n|2015-07-21 11:59:00|\n+-------------------+\nonly showing top 20 rows\n\n"
     ]
    }
   ],
   "source": [
    "timespan = spark.createDataFrame(list(map(lambda x: Row(ts=x), ls)))\n",
    "timespan.show()"
   ]
  },
  {
   "cell_type": "code",
   "execution_count": 28,
   "metadata": {},
   "outputs": [
    {
     "output_type": "execute_result",
     "data": {
      "text/plain": [
       "[('ts', 'timestamp')]"
      ]
     },
     "metadata": {},
     "execution_count": 28
    }
   ],
   "source": [
    "timespan.dtypes"
   ]
  },
  {
   "cell_type": "code",
   "execution_count": 29,
   "metadata": {},
   "outputs": [],
   "source": [
    "timespan.createOrReplaceTempView('timespan')"
   ]
  },
  {
   "cell_type": "code",
   "execution_count": 30,
   "metadata": {},
   "outputs": [
    {
     "output_type": "stream",
     "name": "stdout",
     "text": [
      "+-------------------+-------+\n|                 ts|n_users|\n+-------------------+-------+\n|2015-07-21 11:40:00|    777|\n|2015-07-21 11:41:00|   1291|\n|2015-07-21 11:42:00|   1757|\n|2015-07-21 11:43:00|   2246|\n|2015-07-21 11:44:00|   2738|\n|2015-07-21 11:45:00|   2801|\n|2015-07-21 11:46:00|   2801|\n|2015-07-21 11:47:00|   2801|\n|2015-07-21 11:48:00|   2801|\n|2015-07-21 11:49:00|   2801|\n|2015-07-21 11:50:00|   2801|\n|2015-07-21 11:51:00|   2801|\n|2015-07-21 11:52:00|   2801|\n|2015-07-21 11:53:00|   2801|\n|2015-07-21 11:54:00|   2801|\n|2015-07-21 11:55:00|   2801|\n|2015-07-21 11:56:00|   2336|\n|2015-07-21 11:57:00|   1893|\n|2015-07-21 11:58:00|   1406|\n|2015-07-21 11:59:00|    882|\n+-------------------+-------+\nonly showing top 20 rows\n\n"
     ]
    }
   ],
   "source": [
    "timeseries = spark.sql(\"\"\" \n",
    "select a.ts\n",
    "     , coalesce(n_users, 0) as n_users\n",
    "from timespan a left outer join session_minutes b on a.ts = b.ts\n",
    "order by ts\n",
    "\"\"\")\n",
    "timeseries.show()"
   ]
  },
  {
   "cell_type": "code",
   "execution_count": 31,
   "metadata": {},
   "outputs": [
    {
     "output_type": "execute_result",
     "data": {
      "text/plain": [
       "1531"
      ]
     },
     "metadata": {},
     "execution_count": 31
    }
   ],
   "source": [
    "timeseries.count()"
   ]
  },
  {
   "cell_type": "code",
   "execution_count": 32,
   "metadata": {},
   "outputs": [],
   "source": [
    "n_users = [row.n_users for row in timeseries.collect()]"
   ]
  },
  {
   "cell_type": "code",
   "execution_count": 33,
   "metadata": {},
   "outputs": [
    {
     "output_type": "display_data",
     "data": {
      "text/plain": "<Figure size 432x288 with 1 Axes>",
      "image/svg+xml": "<?xml version=\"1.0\" encoding=\"utf-8\" standalone=\"no\"?>\n<!DOCTYPE svg PUBLIC \"-//W3C//DTD SVG 1.1//EN\"\n  \"http://www.w3.org/Graphics/SVG/1.1/DTD/svg11.dtd\">\n<!-- Created with matplotlib (https://matplotlib.org/) -->\n<svg height=\"248.518125pt\" version=\"1.1\" viewBox=\"0 0 399.444452 248.518125\" width=\"399.444452pt\" xmlns=\"http://www.w3.org/2000/svg\" xmlns:xlink=\"http://www.w3.org/1999/xlink\">\n <metadata>\n  <rdf:RDF xmlns:cc=\"http://creativecommons.org/ns#\" xmlns:dc=\"http://purl.org/dc/elements/1.1/\" xmlns:rdf=\"http://www.w3.org/1999/02/22-rdf-syntax-ns#\">\n   <cc:Work>\n    <dc:type rdf:resource=\"http://purl.org/dc/dcmitype/StillImage\"/>\n    <dc:date>2020-10-09T15:02:01.095383</dc:date>\n    <dc:format>image/svg+xml</dc:format>\n    <dc:creator>\n     <cc:Agent>\n      <dc:title>Matplotlib v3.3.2, https://matplotlib.org/</dc:title>\n     </cc:Agent>\n    </dc:creator>\n   </cc:Work>\n  </rdf:RDF>\n </metadata>\n <defs>\n  <style type=\"text/css\">*{stroke-linecap:butt;stroke-linejoin:round;}</style>\n </defs>\n <g id=\"figure_1\">\n  <g id=\"patch_1\">\n   <path d=\"M 0 248.518125 \nL 399.444452 248.518125 \nL 399.444452 0 \nL 0 0 \nz\n\" style=\"fill:none;\"/>\n  </g>\n  <g id=\"axes_1\">\n   <g id=\"patch_2\">\n    <path d=\"M 46.0125 224.64 \nL 380.8125 224.64 \nL 380.8125 7.2 \nL 46.0125 7.2 \nz\n\" style=\"fill:#ffffff;\"/>\n   </g>\n   <g id=\"matplotlib.axis_1\">\n    <g id=\"xtick_1\">\n     <g id=\"line2d_1\">\n      <defs>\n       <path d=\"M 0 0 \nL 0 3.5 \n\" id=\"m76a2a0dda4\" style=\"stroke:#000000;stroke-width:0.8;\"/>\n      </defs>\n      <g>\n       <use style=\"stroke:#000000;stroke-width:0.8;\" x=\"61.230682\" xlink:href=\"#m76a2a0dda4\" y=\"224.64\"/>\n      </g>\n     </g>\n     <g id=\"text_1\">\n      <!-- 0 -->\n      <g transform=\"translate(58.049432 239.238437)scale(0.1 -0.1)\">\n       <defs>\n        <path d=\"M 31.78125 66.40625 \nQ 24.171875 66.40625 20.328125 58.90625 \nQ 16.5 51.421875 16.5 36.375 \nQ 16.5 21.390625 20.328125 13.890625 \nQ 24.171875 6.390625 31.78125 6.390625 \nQ 39.453125 6.390625 43.28125 13.890625 \nQ 47.125 21.390625 47.125 36.375 \nQ 47.125 51.421875 43.28125 58.90625 \nQ 39.453125 66.40625 31.78125 66.40625 \nz\nM 31.78125 74.21875 \nQ 44.046875 74.21875 50.515625 64.515625 \nQ 56.984375 54.828125 56.984375 36.375 \nQ 56.984375 17.96875 50.515625 8.265625 \nQ 44.046875 -1.421875 31.78125 -1.421875 \nQ 19.53125 -1.421875 13.0625 8.265625 \nQ 6.59375 17.96875 6.59375 36.375 \nQ 6.59375 54.828125 13.0625 64.515625 \nQ 19.53125 74.21875 31.78125 74.21875 \nz\n\" id=\"DejaVuSans-48\"/>\n       </defs>\n       <use xlink:href=\"#DejaVuSans-48\"/>\n      </g>\n     </g>\n    </g>\n    <g id=\"xtick_2\">\n     <g id=\"line2d_2\">\n      <g>\n       <use style=\"stroke:#000000;stroke-width:0.8;\" x=\"101.016778\" xlink:href=\"#m76a2a0dda4\" y=\"224.64\"/>\n      </g>\n     </g>\n     <g id=\"text_2\">\n      <!-- 200 -->\n      <g transform=\"translate(91.473028 239.238437)scale(0.1 -0.1)\">\n       <defs>\n        <path d=\"M 19.1875 8.296875 \nL 53.609375 8.296875 \nL 53.609375 0 \nL 7.328125 0 \nL 7.328125 8.296875 \nQ 12.9375 14.109375 22.625 23.890625 \nQ 32.328125 33.6875 34.8125 36.53125 \nQ 39.546875 41.84375 41.421875 45.53125 \nQ 43.3125 49.21875 43.3125 52.78125 \nQ 43.3125 58.59375 39.234375 62.25 \nQ 35.15625 65.921875 28.609375 65.921875 \nQ 23.96875 65.921875 18.8125 64.3125 \nQ 13.671875 62.703125 7.8125 59.421875 \nL 7.8125 69.390625 \nQ 13.765625 71.78125 18.9375 73 \nQ 24.125 74.21875 28.421875 74.21875 \nQ 39.75 74.21875 46.484375 68.546875 \nQ 53.21875 62.890625 53.21875 53.421875 \nQ 53.21875 48.921875 51.53125 44.890625 \nQ 49.859375 40.875 45.40625 35.40625 \nQ 44.1875 33.984375 37.640625 27.21875 \nQ 31.109375 20.453125 19.1875 8.296875 \nz\n\" id=\"DejaVuSans-50\"/>\n       </defs>\n       <use xlink:href=\"#DejaVuSans-50\"/>\n       <use x=\"63.623047\" xlink:href=\"#DejaVuSans-48\"/>\n       <use x=\"127.246094\" xlink:href=\"#DejaVuSans-48\"/>\n      </g>\n     </g>\n    </g>\n    <g id=\"xtick_3\">\n     <g id=\"line2d_3\">\n      <g>\n       <use style=\"stroke:#000000;stroke-width:0.8;\" x=\"140.802874\" xlink:href=\"#m76a2a0dda4\" y=\"224.64\"/>\n      </g>\n     </g>\n     <g id=\"text_3\">\n      <!-- 400 -->\n      <g transform=\"translate(131.259124 239.238437)scale(0.1 -0.1)\">\n       <defs>\n        <path d=\"M 37.796875 64.3125 \nL 12.890625 25.390625 \nL 37.796875 25.390625 \nz\nM 35.203125 72.90625 \nL 47.609375 72.90625 \nL 47.609375 25.390625 \nL 58.015625 25.390625 \nL 58.015625 17.1875 \nL 47.609375 17.1875 \nL 47.609375 0 \nL 37.796875 0 \nL 37.796875 17.1875 \nL 4.890625 17.1875 \nL 4.890625 26.703125 \nz\n\" id=\"DejaVuSans-52\"/>\n       </defs>\n       <use xlink:href=\"#DejaVuSans-52\"/>\n       <use x=\"63.623047\" xlink:href=\"#DejaVuSans-48\"/>\n       <use x=\"127.246094\" xlink:href=\"#DejaVuSans-48\"/>\n      </g>\n     </g>\n    </g>\n    <g id=\"xtick_4\">\n     <g id=\"line2d_4\">\n      <g>\n       <use style=\"stroke:#000000;stroke-width:0.8;\" x=\"180.588971\" xlink:href=\"#m76a2a0dda4\" y=\"224.64\"/>\n      </g>\n     </g>\n     <g id=\"text_4\">\n      <!-- 600 -->\n      <g transform=\"translate(171.045221 239.238437)scale(0.1 -0.1)\">\n       <defs>\n        <path d=\"M 33.015625 40.375 \nQ 26.375 40.375 22.484375 35.828125 \nQ 18.609375 31.296875 18.609375 23.390625 \nQ 18.609375 15.53125 22.484375 10.953125 \nQ 26.375 6.390625 33.015625 6.390625 \nQ 39.65625 6.390625 43.53125 10.953125 \nQ 47.40625 15.53125 47.40625 23.390625 \nQ 47.40625 31.296875 43.53125 35.828125 \nQ 39.65625 40.375 33.015625 40.375 \nz\nM 52.59375 71.296875 \nL 52.59375 62.3125 \nQ 48.875 64.0625 45.09375 64.984375 \nQ 41.3125 65.921875 37.59375 65.921875 \nQ 27.828125 65.921875 22.671875 59.328125 \nQ 17.53125 52.734375 16.796875 39.40625 \nQ 19.671875 43.65625 24.015625 45.921875 \nQ 28.375 48.1875 33.59375 48.1875 \nQ 44.578125 48.1875 50.953125 41.515625 \nQ 57.328125 34.859375 57.328125 23.390625 \nQ 57.328125 12.15625 50.6875 5.359375 \nQ 44.046875 -1.421875 33.015625 -1.421875 \nQ 20.359375 -1.421875 13.671875 8.265625 \nQ 6.984375 17.96875 6.984375 36.375 \nQ 6.984375 53.65625 15.1875 63.9375 \nQ 23.390625 74.21875 37.203125 74.21875 \nQ 40.921875 74.21875 44.703125 73.484375 \nQ 48.484375 72.75 52.59375 71.296875 \nz\n\" id=\"DejaVuSans-54\"/>\n       </defs>\n       <use xlink:href=\"#DejaVuSans-54\"/>\n       <use x=\"63.623047\" xlink:href=\"#DejaVuSans-48\"/>\n       <use x=\"127.246094\" xlink:href=\"#DejaVuSans-48\"/>\n      </g>\n     </g>\n    </g>\n    <g id=\"xtick_5\">\n     <g id=\"line2d_5\">\n      <g>\n       <use style=\"stroke:#000000;stroke-width:0.8;\" x=\"220.375067\" xlink:href=\"#m76a2a0dda4\" y=\"224.64\"/>\n      </g>\n     </g>\n     <g id=\"text_5\">\n      <!-- 800 -->\n      <g transform=\"translate(210.831317 239.238437)scale(0.1 -0.1)\">\n       <defs>\n        <path d=\"M 31.78125 34.625 \nQ 24.75 34.625 20.71875 30.859375 \nQ 16.703125 27.09375 16.703125 20.515625 \nQ 16.703125 13.921875 20.71875 10.15625 \nQ 24.75 6.390625 31.78125 6.390625 \nQ 38.8125 6.390625 42.859375 10.171875 \nQ 46.921875 13.96875 46.921875 20.515625 \nQ 46.921875 27.09375 42.890625 30.859375 \nQ 38.875 34.625 31.78125 34.625 \nz\nM 21.921875 38.8125 \nQ 15.578125 40.375 12.03125 44.71875 \nQ 8.5 49.078125 8.5 55.328125 \nQ 8.5 64.0625 14.71875 69.140625 \nQ 20.953125 74.21875 31.78125 74.21875 \nQ 42.671875 74.21875 48.875 69.140625 \nQ 55.078125 64.0625 55.078125 55.328125 \nQ 55.078125 49.078125 51.53125 44.71875 \nQ 48 40.375 41.703125 38.8125 \nQ 48.828125 37.15625 52.796875 32.3125 \nQ 56.78125 27.484375 56.78125 20.515625 \nQ 56.78125 9.90625 50.3125 4.234375 \nQ 43.84375 -1.421875 31.78125 -1.421875 \nQ 19.734375 -1.421875 13.25 4.234375 \nQ 6.78125 9.90625 6.78125 20.515625 \nQ 6.78125 27.484375 10.78125 32.3125 \nQ 14.796875 37.15625 21.921875 38.8125 \nz\nM 18.3125 54.390625 \nQ 18.3125 48.734375 21.84375 45.5625 \nQ 25.390625 42.390625 31.78125 42.390625 \nQ 38.140625 42.390625 41.71875 45.5625 \nQ 45.3125 48.734375 45.3125 54.390625 \nQ 45.3125 60.0625 41.71875 63.234375 \nQ 38.140625 66.40625 31.78125 66.40625 \nQ 25.390625 66.40625 21.84375 63.234375 \nQ 18.3125 60.0625 18.3125 54.390625 \nz\n\" id=\"DejaVuSans-56\"/>\n       </defs>\n       <use xlink:href=\"#DejaVuSans-56\"/>\n       <use x=\"63.623047\" xlink:href=\"#DejaVuSans-48\"/>\n       <use x=\"127.246094\" xlink:href=\"#DejaVuSans-48\"/>\n      </g>\n     </g>\n    </g>\n    <g id=\"xtick_6\">\n     <g id=\"line2d_6\">\n      <g>\n       <use style=\"stroke:#000000;stroke-width:0.8;\" x=\"260.161163\" xlink:href=\"#m76a2a0dda4\" y=\"224.64\"/>\n      </g>\n     </g>\n     <g id=\"text_6\">\n      <!-- 1000 -->\n      <g transform=\"translate(247.436163 239.238437)scale(0.1 -0.1)\">\n       <defs>\n        <path d=\"M 12.40625 8.296875 \nL 28.515625 8.296875 \nL 28.515625 63.921875 \nL 10.984375 60.40625 \nL 10.984375 69.390625 \nL 28.421875 72.90625 \nL 38.28125 72.90625 \nL 38.28125 8.296875 \nL 54.390625 8.296875 \nL 54.390625 0 \nL 12.40625 0 \nz\n\" id=\"DejaVuSans-49\"/>\n       </defs>\n       <use xlink:href=\"#DejaVuSans-49\"/>\n       <use x=\"63.623047\" xlink:href=\"#DejaVuSans-48\"/>\n       <use x=\"127.246094\" xlink:href=\"#DejaVuSans-48\"/>\n       <use x=\"190.869141\" xlink:href=\"#DejaVuSans-48\"/>\n      </g>\n     </g>\n    </g>\n    <g id=\"xtick_7\">\n     <g id=\"line2d_7\">\n      <g>\n       <use style=\"stroke:#000000;stroke-width:0.8;\" x=\"299.947259\" xlink:href=\"#m76a2a0dda4\" y=\"224.64\"/>\n      </g>\n     </g>\n     <g id=\"text_7\">\n      <!-- 1200 -->\n      <g transform=\"translate(287.222259 239.238437)scale(0.1 -0.1)\">\n       <use xlink:href=\"#DejaVuSans-49\"/>\n       <use x=\"63.623047\" xlink:href=\"#DejaVuSans-50\"/>\n       <use x=\"127.246094\" xlink:href=\"#DejaVuSans-48\"/>\n       <use x=\"190.869141\" xlink:href=\"#DejaVuSans-48\"/>\n      </g>\n     </g>\n    </g>\n    <g id=\"xtick_8\">\n     <g id=\"line2d_8\">\n      <g>\n       <use style=\"stroke:#000000;stroke-width:0.8;\" x=\"339.733356\" xlink:href=\"#m76a2a0dda4\" y=\"224.64\"/>\n      </g>\n     </g>\n     <g id=\"text_8\">\n      <!-- 1400 -->\n      <g transform=\"translate(327.008356 239.238437)scale(0.1 -0.1)\">\n       <use xlink:href=\"#DejaVuSans-49\"/>\n       <use x=\"63.623047\" xlink:href=\"#DejaVuSans-52\"/>\n       <use x=\"127.246094\" xlink:href=\"#DejaVuSans-48\"/>\n       <use x=\"190.869141\" xlink:href=\"#DejaVuSans-48\"/>\n      </g>\n     </g>\n    </g>\n    <g id=\"xtick_9\">\n     <g id=\"line2d_9\">\n      <g>\n       <use style=\"stroke:#000000;stroke-width:0.8;\" x=\"379.519452\" xlink:href=\"#m76a2a0dda4\" y=\"224.64\"/>\n      </g>\n     </g>\n     <g id=\"text_9\">\n      <!-- 1600 -->\n      <g transform=\"translate(366.794452 239.238437)scale(0.1 -0.1)\">\n       <use xlink:href=\"#DejaVuSans-49\"/>\n       <use x=\"63.623047\" xlink:href=\"#DejaVuSans-54\"/>\n       <use x=\"127.246094\" xlink:href=\"#DejaVuSans-48\"/>\n       <use x=\"190.869141\" xlink:href=\"#DejaVuSans-48\"/>\n      </g>\n     </g>\n    </g>\n   </g>\n   <g id=\"matplotlib.axis_2\">\n    <g id=\"ytick_1\">\n     <g id=\"line2d_10\">\n      <defs>\n       <path d=\"M 0 0 \nL -3.5 0 \n\" id=\"m0457b89397\" style=\"stroke:#000000;stroke-width:0.8;\"/>\n      </defs>\n      <g>\n       <use style=\"stroke:#000000;stroke-width:0.8;\" x=\"46.0125\" xlink:href=\"#m0457b89397\" y=\"214.756364\"/>\n      </g>\n     </g>\n     <g id=\"text_10\">\n      <!-- 0 -->\n      <g transform=\"translate(32.65 218.555582)scale(0.1 -0.1)\">\n       <use xlink:href=\"#DejaVuSans-48\"/>\n      </g>\n     </g>\n    </g>\n    <g id=\"ytick_2\">\n     <g id=\"line2d_11\">\n      <g>\n       <use style=\"stroke:#000000;stroke-width:0.8;\" x=\"46.0125\" xlink:href=\"#m0457b89397\" y=\"169.161326\"/>\n      </g>\n     </g>\n     <g id=\"text_11\">\n      <!-- 5000 -->\n      <g transform=\"translate(13.5625 172.960544)scale(0.1 -0.1)\">\n       <defs>\n        <path d=\"M 10.796875 72.90625 \nL 49.515625 72.90625 \nL 49.515625 64.59375 \nL 19.828125 64.59375 \nL 19.828125 46.734375 \nQ 21.96875 47.46875 24.109375 47.828125 \nQ 26.265625 48.1875 28.421875 48.1875 \nQ 40.625 48.1875 47.75 41.5 \nQ 54.890625 34.8125 54.890625 23.390625 \nQ 54.890625 11.625 47.5625 5.09375 \nQ 40.234375 -1.421875 26.90625 -1.421875 \nQ 22.3125 -1.421875 17.546875 -0.640625 \nQ 12.796875 0.140625 7.71875 1.703125 \nL 7.71875 11.625 \nQ 12.109375 9.234375 16.796875 8.0625 \nQ 21.484375 6.890625 26.703125 6.890625 \nQ 35.15625 6.890625 40.078125 11.328125 \nQ 45.015625 15.765625 45.015625 23.390625 \nQ 45.015625 31 40.078125 35.4375 \nQ 35.15625 39.890625 26.703125 39.890625 \nQ 22.75 39.890625 18.8125 39.015625 \nQ 14.890625 38.140625 10.796875 36.28125 \nz\n\" id=\"DejaVuSans-53\"/>\n       </defs>\n       <use xlink:href=\"#DejaVuSans-53\"/>\n       <use x=\"63.623047\" xlink:href=\"#DejaVuSans-48\"/>\n       <use x=\"127.246094\" xlink:href=\"#DejaVuSans-48\"/>\n       <use x=\"190.869141\" xlink:href=\"#DejaVuSans-48\"/>\n      </g>\n     </g>\n    </g>\n    <g id=\"ytick_3\">\n     <g id=\"line2d_12\">\n      <g>\n       <use style=\"stroke:#000000;stroke-width:0.8;\" x=\"46.0125\" xlink:href=\"#m0457b89397\" y=\"123.566288\"/>\n      </g>\n     </g>\n     <g id=\"text_12\">\n      <!-- 10000 -->\n      <g transform=\"translate(7.2 127.365507)scale(0.1 -0.1)\">\n       <use xlink:href=\"#DejaVuSans-49\"/>\n       <use x=\"63.623047\" xlink:href=\"#DejaVuSans-48\"/>\n       <use x=\"127.246094\" xlink:href=\"#DejaVuSans-48\"/>\n       <use x=\"190.869141\" xlink:href=\"#DejaVuSans-48\"/>\n       <use x=\"254.492188\" xlink:href=\"#DejaVuSans-48\"/>\n      </g>\n     </g>\n    </g>\n    <g id=\"ytick_4\">\n     <g id=\"line2d_13\">\n      <g>\n       <use style=\"stroke:#000000;stroke-width:0.8;\" x=\"46.0125\" xlink:href=\"#m0457b89397\" y=\"77.97125\"/>\n      </g>\n     </g>\n     <g id=\"text_13\">\n      <!-- 15000 -->\n      <g transform=\"translate(7.2 81.770469)scale(0.1 -0.1)\">\n       <use xlink:href=\"#DejaVuSans-49\"/>\n       <use x=\"63.623047\" xlink:href=\"#DejaVuSans-53\"/>\n       <use x=\"127.246094\" xlink:href=\"#DejaVuSans-48\"/>\n       <use x=\"190.869141\" xlink:href=\"#DejaVuSans-48\"/>\n       <use x=\"254.492188\" xlink:href=\"#DejaVuSans-48\"/>\n      </g>\n     </g>\n    </g>\n    <g id=\"ytick_5\">\n     <g id=\"line2d_14\">\n      <g>\n       <use style=\"stroke:#000000;stroke-width:0.8;\" x=\"46.0125\" xlink:href=\"#m0457b89397\" y=\"32.376212\"/>\n      </g>\n     </g>\n     <g id=\"text_14\">\n      <!-- 20000 -->\n      <g transform=\"translate(7.2 36.175431)scale(0.1 -0.1)\">\n       <use xlink:href=\"#DejaVuSans-50\"/>\n       <use x=\"63.623047\" xlink:href=\"#DejaVuSans-48\"/>\n       <use x=\"127.246094\" xlink:href=\"#DejaVuSans-48\"/>\n       <use x=\"190.869141\" xlink:href=\"#DejaVuSans-48\"/>\n       <use x=\"254.492188\" xlink:href=\"#DejaVuSans-48\"/>\n      </g>\n     </g>\n    </g>\n   </g>\n   <g id=\"line2d_15\">\n    <path clip-path=\"url(#pe1203adadc)\" d=\"M 61.230682 207.670895 \nL 62.026404 189.788521 \nL 62.225334 189.214023 \nL 64.214639 189.214023 \nL 65.010361 206.713399 \nL 65.209291 213.725916 \nL 65.408222 214.756364 \nL 222.165441 214.747245 \nL 222.961163 133.159484 \nL 223.160094 118.632905 \nL 224.154746 118.623786 \nL 225.149398 36.680384 \nL 225.348329 35.412842 \nL 225.74619 64.028287 \nL 226.541912 120.839705 \nL 227.337634 120.848824 \nL 227.735495 148.971843 \nL 228.133356 184.681877 \nL 228.332286 186.943391 \nL 228.929078 131.591015 \nL 229.128008 119.006784 \nL 231.316243 119.006784 \nL 231.714104 147.649587 \nL 232.509826 214.756364 \nL 234.10127 214.747245 \nL 234.499131 185.329326 \nL 235.095922 154.41589 \nL 235.294853 152.865659 \nL 237.284158 152.865659 \nL 238.07988 194.958998 \nL 238.27881 211.500878 \nL 238.477741 214.756364 \nL 240.069184 214.738126 \nL 240.864906 142.10523 \nL 241.262767 123.703073 \nL 243.252072 123.712192 \nL 243.649933 148.114656 \nL 244.047794 181.453748 \nL 244.246725 183.897642 \nL 244.445655 177.386671 \nL 245.042447 132.958866 \nL 245.241377 126.885607 \nL 247.230682 126.885607 \nL 247.429612 135.968138 \nL 248.026404 182.648338 \nL 248.424265 214.756364 \nL 254.988971 214.719888 \nL 255.386832 178.389761 \nL 255.983623 143.144797 \nL 256.182553 141.849898 \nL 258.171858 141.859017 \nL 258.96758 192.715722 \nL 259.166511 211.446164 \nL 259.365441 214.756364 \nL 279.855281 214.756364 \nL 280.452072 144.357625 \nL 280.849933 110.535226 \nL 281.844586 97.248832 \nL 282.043516 96.382526 \nL 283.038168 96.382526 \nL 283.237099 106.960575 \nL 283.83389 170.428868 \nL 284.032821 200.567188 \nL 284.231751 201.989753 \nL 285.226404 214.756364 \nL 297.759024 214.738126 \nL 298.355816 148.269679 \nL 299.350468 65.815613 \nL 299.748329 39.4708 \nL 300.742981 39.452562 \nL 300.941912 24.460913 \nL 301.140842 18.095846 \nL 301.538703 17.083636 \nL 301.737634 19.837577 \nL 302.135495 47.896763 \nL 302.732286 99.619774 \nL 302.931217 121.760724 \nL 303.726939 121.760724 \nL 304.124799 87.838016 \nL 304.52266 89.205867 \nL 304.721591 85.704168 \nL 304.920521 107.498597 \nL 306.909826 107.498597 \nL 307.108757 119.006784 \nL 307.705548 179.520518 \nL 307.904479 214.756364 \nL 315.463837 214.665174 \nL 316.65742 214.592221 \nL 318.845655 214.70165 \nL 319.442447 214.756364 \nL 365.594318 214.747245 \nL 365.594318 214.747245 \n\" style=\"fill:none;stroke:#1f77b4;stroke-linecap:square;stroke-width:1.5;\"/>\n   </g>\n   <g id=\"patch_3\">\n    <path d=\"M 46.0125 224.64 \nL 46.0125 7.2 \n\" style=\"fill:none;stroke:#000000;stroke-linecap:square;stroke-linejoin:miter;stroke-width:0.8;\"/>\n   </g>\n   <g id=\"patch_4\">\n    <path d=\"M 380.8125 224.64 \nL 380.8125 7.2 \n\" style=\"fill:none;stroke:#000000;stroke-linecap:square;stroke-linejoin:miter;stroke-width:0.8;\"/>\n   </g>\n   <g id=\"patch_5\">\n    <path d=\"M 46.0125 224.64 \nL 380.8125 224.64 \n\" style=\"fill:none;stroke:#000000;stroke-linecap:square;stroke-linejoin:miter;stroke-width:0.8;\"/>\n   </g>\n   <g id=\"patch_6\">\n    <path d=\"M 46.0125 7.2 \nL 380.8125 7.2 \n\" style=\"fill:none;stroke:#000000;stroke-linecap:square;stroke-linejoin:miter;stroke-width:0.8;\"/>\n   </g>\n  </g>\n </g>\n <defs>\n  <clipPath id=\"pe1203adadc\">\n   <rect height=\"217.44\" width=\"334.8\" x=\"46.0125\" y=\"7.2\"/>\n  </clipPath>\n </defs>\n</svg>\n",
      "image/png": "[encoded data removed]"
     },
     "metadata": {
      "needs_background": "light"
     }
    }
   ],
   "source": [
    "plt.plot(n_users);"
   ]
  },
  {
   "cell_type": "code",
   "execution_count": 34,
   "metadata": {},
   "outputs": [
    {
     "output_type": "display_data",
     "data": {
      "text/plain": "<Figure size 432x288 with 1 Axes>",
      "image/svg+xml": "<?xml version=\"1.0\" encoding=\"utf-8\" standalone=\"no\"?>\n<!DOCTYPE svg PUBLIC \"-//W3C//DTD SVG 1.1//EN\"\n  \"http://www.w3.org/Graphics/SVG/1.1/DTD/svg11.dtd\">\n<!-- Created with matplotlib (https://matplotlib.org/) -->\n<svg height=\"248.518125pt\" version=\"1.1\" viewBox=\"0 0 388.0125 248.518125\" width=\"388.0125pt\" xmlns=\"http://www.w3.org/2000/svg\" xmlns:xlink=\"http://www.w3.org/1999/xlink\">\n <metadata>\n  <rdf:RDF xmlns:cc=\"http://creativecommons.org/ns#\" xmlns:dc=\"http://purl.org/dc/elements/1.1/\" xmlns:rdf=\"http://www.w3.org/1999/02/22-rdf-syntax-ns#\">\n   <cc:Work>\n    <dc:type rdf:resource=\"http://purl.org/dc/dcmitype/StillImage\"/>\n    <dc:date>2020-10-09T15:02:01.905695</dc:date>\n    <dc:format>image/svg+xml</dc:format>\n    <dc:creator>\n     <cc:Agent>\n      <dc:title>Matplotlib v3.3.2, https://matplotlib.org/</dc:title>\n     </cc:Agent>\n    </dc:creator>\n   </cc:Work>\n  </rdf:RDF>\n </metadata>\n <defs>\n  <style type=\"text/css\">*{stroke-linecap:butt;stroke-linejoin:round;}</style>\n </defs>\n <g id=\"figure_1\">\n  <g id=\"patch_1\">\n   <path d=\"M 0 248.518125 \nL 388.0125 248.518125 \nL 388.0125 0 \nL 0 0 \nz\n\" style=\"fill:none;\"/>\n  </g>\n  <g id=\"axes_1\">\n   <g id=\"patch_2\">\n    <path d=\"M 46.0125 224.64 \nL 380.8125 224.64 \nL 380.8125 7.2 \nL 46.0125 7.2 \nz\n\" style=\"fill:#ffffff;\"/>\n   </g>\n   <g id=\"matplotlib.axis_1\">\n    <g id=\"xtick_1\">\n     <g id=\"line2d_1\">\n      <defs>\n       <path d=\"M 0 0 \nL 0 3.5 \n\" id=\"m8d463be4fe\" style=\"stroke:#000000;stroke-width:0.8;\"/>\n      </defs>\n      <g>\n       <use style=\"stroke:#000000;stroke-width:0.8;\" x=\"61.230682\" xlink:href=\"#m8d463be4fe\" y=\"224.64\"/>\n      </g>\n     </g>\n     <g id=\"text_1\">\n      <!-- 0 -->\n      <g transform=\"translate(58.049432 239.238437)scale(0.1 -0.1)\">\n       <defs>\n        <path d=\"M 31.78125 66.40625 \nQ 24.171875 66.40625 20.328125 58.90625 \nQ 16.5 51.421875 16.5 36.375 \nQ 16.5 21.390625 20.328125 13.890625 \nQ 24.171875 6.390625 31.78125 6.390625 \nQ 39.453125 6.390625 43.28125 13.890625 \nQ 47.125 21.390625 47.125 36.375 \nQ 47.125 51.421875 43.28125 58.90625 \nQ 39.453125 66.40625 31.78125 66.40625 \nz\nM 31.78125 74.21875 \nQ 44.046875 74.21875 50.515625 64.515625 \nQ 56.984375 54.828125 56.984375 36.375 \nQ 56.984375 17.96875 50.515625 8.265625 \nQ 44.046875 -1.421875 31.78125 -1.421875 \nQ 19.53125 -1.421875 13.0625 8.265625 \nQ 6.59375 17.96875 6.59375 36.375 \nQ 6.59375 54.828125 13.0625 64.515625 \nQ 19.53125 74.21875 31.78125 74.21875 \nz\n\" id=\"DejaVuSans-48\"/>\n       </defs>\n       <use xlink:href=\"#DejaVuSans-48\"/>\n      </g>\n     </g>\n    </g>\n    <g id=\"xtick_2\">\n     <g id=\"line2d_2\">\n      <g>\n       <use style=\"stroke:#000000;stroke-width:0.8;\" x=\"129.017683\" xlink:href=\"#m8d463be4fe\" y=\"224.64\"/>\n      </g>\n     </g>\n     <g id=\"text_2\">\n      <!-- 100 -->\n      <g transform=\"translate(119.473933 239.238437)scale(0.1 -0.1)\">\n       <defs>\n        <path d=\"M 12.40625 8.296875 \nL 28.515625 8.296875 \nL 28.515625 63.921875 \nL 10.984375 60.40625 \nL 10.984375 69.390625 \nL 28.421875 72.90625 \nL 38.28125 72.90625 \nL 38.28125 8.296875 \nL 54.390625 8.296875 \nL 54.390625 0 \nL 12.40625 0 \nz\n\" id=\"DejaVuSans-49\"/>\n       </defs>\n       <use xlink:href=\"#DejaVuSans-49\"/>\n       <use x=\"63.623047\" xlink:href=\"#DejaVuSans-48\"/>\n       <use x=\"127.246094\" xlink:href=\"#DejaVuSans-48\"/>\n      </g>\n     </g>\n    </g>\n    <g id=\"xtick_3\">\n     <g id=\"line2d_3\">\n      <g>\n       <use style=\"stroke:#000000;stroke-width:0.8;\" x=\"196.804685\" xlink:href=\"#m8d463be4fe\" y=\"224.64\"/>\n      </g>\n     </g>\n     <g id=\"text_3\">\n      <!-- 200 -->\n      <g transform=\"translate(187.260935 239.238437)scale(0.1 -0.1)\">\n       <defs>\n        <path d=\"M 19.1875 8.296875 \nL 53.609375 8.296875 \nL 53.609375 0 \nL 7.328125 0 \nL 7.328125 8.296875 \nQ 12.9375 14.109375 22.625 23.890625 \nQ 32.328125 33.6875 34.8125 36.53125 \nQ 39.546875 41.84375 41.421875 45.53125 \nQ 43.3125 49.21875 43.3125 52.78125 \nQ 43.3125 58.59375 39.234375 62.25 \nQ 35.15625 65.921875 28.609375 65.921875 \nQ 23.96875 65.921875 18.8125 64.3125 \nQ 13.671875 62.703125 7.8125 59.421875 \nL 7.8125 69.390625 \nQ 13.765625 71.78125 18.9375 73 \nQ 24.125 74.21875 28.421875 74.21875 \nQ 39.75 74.21875 46.484375 68.546875 \nQ 53.21875 62.890625 53.21875 53.421875 \nQ 53.21875 48.921875 51.53125 44.890625 \nQ 49.859375 40.875 45.40625 35.40625 \nQ 44.1875 33.984375 37.640625 27.21875 \nQ 31.109375 20.453125 19.1875 8.296875 \nz\n\" id=\"DejaVuSans-50\"/>\n       </defs>\n       <use xlink:href=\"#DejaVuSans-50\"/>\n       <use x=\"63.623047\" xlink:href=\"#DejaVuSans-48\"/>\n       <use x=\"127.246094\" xlink:href=\"#DejaVuSans-48\"/>\n      </g>\n     </g>\n    </g>\n    <g id=\"xtick_4\">\n     <g id=\"line2d_4\">\n      <g>\n       <use style=\"stroke:#000000;stroke-width:0.8;\" x=\"264.591686\" xlink:href=\"#m8d463be4fe\" y=\"224.64\"/>\n      </g>\n     </g>\n     <g id=\"text_4\">\n      <!-- 300 -->\n      <g transform=\"translate(255.047936 239.238437)scale(0.1 -0.1)\">\n       <defs>\n        <path d=\"M 40.578125 39.3125 \nQ 47.65625 37.796875 51.625 33 \nQ 55.609375 28.21875 55.609375 21.1875 \nQ 55.609375 10.40625 48.1875 4.484375 \nQ 40.765625 -1.421875 27.09375 -1.421875 \nQ 22.515625 -1.421875 17.65625 -0.515625 \nQ 12.796875 0.390625 7.625 2.203125 \nL 7.625 11.71875 \nQ 11.71875 9.328125 16.59375 8.109375 \nQ 21.484375 6.890625 26.8125 6.890625 \nQ 36.078125 6.890625 40.9375 10.546875 \nQ 45.796875 14.203125 45.796875 21.1875 \nQ 45.796875 27.640625 41.28125 31.265625 \nQ 36.765625 34.90625 28.71875 34.90625 \nL 20.21875 34.90625 \nL 20.21875 43.015625 \nL 29.109375 43.015625 \nQ 36.375 43.015625 40.234375 45.921875 \nQ 44.09375 48.828125 44.09375 54.296875 \nQ 44.09375 59.90625 40.109375 62.90625 \nQ 36.140625 65.921875 28.71875 65.921875 \nQ 24.65625 65.921875 20.015625 65.03125 \nQ 15.375 64.15625 9.8125 62.3125 \nL 9.8125 71.09375 \nQ 15.4375 72.65625 20.34375 73.4375 \nQ 25.25 74.21875 29.59375 74.21875 \nQ 40.828125 74.21875 47.359375 69.109375 \nQ 53.90625 64.015625 53.90625 55.328125 \nQ 53.90625 49.265625 50.4375 45.09375 \nQ 46.96875 40.921875 40.578125 39.3125 \nz\n\" id=\"DejaVuSans-51\"/>\n       </defs>\n       <use xlink:href=\"#DejaVuSans-51\"/>\n       <use x=\"63.623047\" xlink:href=\"#DejaVuSans-48\"/>\n       <use x=\"127.246094\" xlink:href=\"#DejaVuSans-48\"/>\n      </g>\n     </g>\n    </g>\n    <g id=\"xtick_5\">\n     <g id=\"line2d_5\">\n      <g>\n       <use style=\"stroke:#000000;stroke-width:0.8;\" x=\"332.378687\" xlink:href=\"#m8d463be4fe\" y=\"224.64\"/>\n      </g>\n     </g>\n     <g id=\"text_5\">\n      <!-- 400 -->\n      <g transform=\"translate(322.834937 239.238437)scale(0.1 -0.1)\">\n       <defs>\n        <path d=\"M 37.796875 64.3125 \nL 12.890625 25.390625 \nL 37.796875 25.390625 \nz\nM 35.203125 72.90625 \nL 47.609375 72.90625 \nL 47.609375 25.390625 \nL 58.015625 25.390625 \nL 58.015625 17.1875 \nL 47.609375 17.1875 \nL 47.609375 0 \nL 37.796875 0 \nL 37.796875 17.1875 \nL 4.890625 17.1875 \nL 4.890625 26.703125 \nz\n\" id=\"DejaVuSans-52\"/>\n       </defs>\n       <use xlink:href=\"#DejaVuSans-52\"/>\n       <use x=\"63.623047\" xlink:href=\"#DejaVuSans-48\"/>\n       <use x=\"127.246094\" xlink:href=\"#DejaVuSans-48\"/>\n      </g>\n     </g>\n    </g>\n   </g>\n   <g id=\"matplotlib.axis_2\">\n    <g id=\"ytick_1\">\n     <g id=\"line2d_6\">\n      <defs>\n       <path d=\"M 0 0 \nL -3.5 0 \n\" id=\"mef19fec45e\" style=\"stroke:#000000;stroke-width:0.8;\"/>\n      </defs>\n      <g>\n       <use style=\"stroke:#000000;stroke-width:0.8;\" x=\"46.0125\" xlink:href=\"#mef19fec45e\" y=\"214.756364\"/>\n      </g>\n     </g>\n     <g id=\"text_6\">\n      <!-- 0 -->\n      <g transform=\"translate(32.65 218.555582)scale(0.1 -0.1)\">\n       <use xlink:href=\"#DejaVuSans-48\"/>\n      </g>\n     </g>\n    </g>\n    <g id=\"ytick_2\">\n     <g id=\"line2d_7\">\n      <g>\n       <use style=\"stroke:#000000;stroke-width:0.8;\" x=\"46.0125\" xlink:href=\"#mef19fec45e\" y=\"169.161326\"/>\n      </g>\n     </g>\n     <g id=\"text_7\">\n      <!-- 5000 -->\n      <g transform=\"translate(13.5625 172.960544)scale(0.1 -0.1)\">\n       <defs>\n        <path d=\"M 10.796875 72.90625 \nL 49.515625 72.90625 \nL 49.515625 64.59375 \nL 19.828125 64.59375 \nL 19.828125 46.734375 \nQ 21.96875 47.46875 24.109375 47.828125 \nQ 26.265625 48.1875 28.421875 48.1875 \nQ 40.625 48.1875 47.75 41.5 \nQ 54.890625 34.8125 54.890625 23.390625 \nQ 54.890625 11.625 47.5625 5.09375 \nQ 40.234375 -1.421875 26.90625 -1.421875 \nQ 22.3125 -1.421875 17.546875 -0.640625 \nQ 12.796875 0.140625 7.71875 1.703125 \nL 7.71875 11.625 \nQ 12.109375 9.234375 16.796875 8.0625 \nQ 21.484375 6.890625 26.703125 6.890625 \nQ 35.15625 6.890625 40.078125 11.328125 \nQ 45.015625 15.765625 45.015625 23.390625 \nQ 45.015625 31 40.078125 35.4375 \nQ 35.15625 39.890625 26.703125 39.890625 \nQ 22.75 39.890625 18.8125 39.015625 \nQ 14.890625 38.140625 10.796875 36.28125 \nz\n\" id=\"DejaVuSans-53\"/>\n       </defs>\n       <use xlink:href=\"#DejaVuSans-53\"/>\n       <use x=\"63.623047\" xlink:href=\"#DejaVuSans-48\"/>\n       <use x=\"127.246094\" xlink:href=\"#DejaVuSans-48\"/>\n       <use x=\"190.869141\" xlink:href=\"#DejaVuSans-48\"/>\n      </g>\n     </g>\n    </g>\n    <g id=\"ytick_3\">\n     <g id=\"line2d_8\">\n      <g>\n       <use style=\"stroke:#000000;stroke-width:0.8;\" x=\"46.0125\" xlink:href=\"#mef19fec45e\" y=\"123.566288\"/>\n      </g>\n     </g>\n     <g id=\"text_8\">\n      <!-- 10000 -->\n      <g transform=\"translate(7.2 127.365507)scale(0.1 -0.1)\">\n       <use xlink:href=\"#DejaVuSans-49\"/>\n       <use x=\"63.623047\" xlink:href=\"#DejaVuSans-48\"/>\n       <use x=\"127.246094\" xlink:href=\"#DejaVuSans-48\"/>\n       <use x=\"190.869141\" xlink:href=\"#DejaVuSans-48\"/>\n       <use x=\"254.492188\" xlink:href=\"#DejaVuSans-48\"/>\n      </g>\n     </g>\n    </g>\n    <g id=\"ytick_4\">\n     <g id=\"line2d_9\">\n      <g>\n       <use style=\"stroke:#000000;stroke-width:0.8;\" x=\"46.0125\" xlink:href=\"#mef19fec45e\" y=\"77.97125\"/>\n      </g>\n     </g>\n     <g id=\"text_9\">\n      <!-- 15000 -->\n      <g transform=\"translate(7.2 81.770469)scale(0.1 -0.1)\">\n       <use xlink:href=\"#DejaVuSans-49\"/>\n       <use x=\"63.623047\" xlink:href=\"#DejaVuSans-53\"/>\n       <use x=\"127.246094\" xlink:href=\"#DejaVuSans-48\"/>\n       <use x=\"190.869141\" xlink:href=\"#DejaVuSans-48\"/>\n       <use x=\"254.492188\" xlink:href=\"#DejaVuSans-48\"/>\n      </g>\n     </g>\n    </g>\n    <g id=\"ytick_5\">\n     <g id=\"line2d_10\">\n      <g>\n       <use style=\"stroke:#000000;stroke-width:0.8;\" x=\"46.0125\" xlink:href=\"#mef19fec45e\" y=\"32.376212\"/>\n      </g>\n     </g>\n     <g id=\"text_10\">\n      <!-- 20000 -->\n      <g transform=\"translate(7.2 36.175431)scale(0.1 -0.1)\">\n       <use xlink:href=\"#DejaVuSans-50\"/>\n       <use x=\"63.623047\" xlink:href=\"#DejaVuSans-48\"/>\n       <use x=\"127.246094\" xlink:href=\"#DejaVuSans-48\"/>\n       <use x=\"190.869141\" xlink:href=\"#DejaVuSans-48\"/>\n       <use x=\"254.492188\" xlink:href=\"#DejaVuSans-48\"/>\n      </g>\n     </g>\n    </g>\n   </g>\n   <g id=\"line2d_11\">\n    <path clip-path=\"url(#p077400917d)\" d=\"M 61.230682 214.756364 \nL 67.331512 214.747245 \nL 69.365122 151.087453 \nL 70.042992 133.159484 \nL 70.720862 118.632905 \nL 74.110212 118.623786 \nL 76.143822 65.815613 \nL 77.499562 36.680384 \nL 78.177432 35.412842 \nL 78.855302 46.984862 \nL 80.888912 98.817301 \nL 81.566782 120.839705 \nL 84.956132 120.848824 \nL 85.634002 131.91018 \nL 87.667612 184.681877 \nL 88.345482 186.943391 \nL 89.701222 147.649587 \nL 90.379092 131.591015 \nL 91.056962 119.006784 \nL 98.513533 119.006784 \nL 99.191403 130.53321 \nL 100.547143 166.808622 \nL 101.225013 188.849263 \nL 101.902883 214.756364 \nL 108.003713 214.747245 \nL 108.681583 196.016803 \nL 111.393063 154.41589 \nL 112.070933 152.865659 \nL 118.849633 152.865659 \nL 121.561113 194.958998 \nL 122.238983 211.500878 \nL 122.916853 214.756364 \nL 128.339813 214.738126 \nL 129.695553 173.81202 \nL 131.051293 142.10523 \nL 131.729163 129.365977 \nL 132.407033 123.703073 \nL 139.185733 123.712192 \nL 139.863603 133.278031 \nL 141.219343 163.799349 \nL 141.897214 181.453748 \nL 142.575084 183.897642 \nL 143.252954 177.386671 \nL 143.930824 160.334126 \nL 145.286564 132.958866 \nL 145.964434 126.885607 \nL 152.743134 126.885607 \nL 153.421004 135.968138 \nL 154.776744 166.617123 \nL 155.454614 182.648338 \nL 156.132484 202.1083 \nL 156.810354 214.756364 \nL 179.180064 214.719888 \nL 179.857934 192.91634 \nL 180.535804 178.389761 \nL 182.569414 143.144797 \nL 183.247284 141.849898 \nL 190.025985 141.859017 \nL 191.381725 165.951435 \nL 192.737465 192.715722 \nL 193.415335 211.446164 \nL 194.093205 214.756364 \nL 263.913816 214.756364 \nL 265.269556 163.233971 \nL 266.625296 125.225947 \nL 267.303166 110.535226 \nL 270.014646 99.38268 \nL 270.692516 97.248832 \nL 271.370386 96.382526 \nL 274.759736 96.382526 \nL 275.437606 106.960575 \nL 276.793346 145.989927 \nL 277.471216 170.428868 \nL 278.149086 200.567188 \nL 278.826956 201.989753 \nL 280.860566 209.686195 \nL 281.538436 212.76842 \nL 282.216306 214.756364 \nL 324.922117 214.738126 \nL 326.277857 166.571528 \nL 327.633597 129.739856 \nL 328.311467 115.012659 \nL 330.345077 65.815613 \nL 331.022947 51.042821 \nL 331.700817 39.4708 \nL 335.090168 39.452562 \nL 335.768038 24.460913 \nL 336.445908 18.095846 \nL 337.123778 17.384564 \nL 337.801648 17.083636 \nL 338.479518 19.837577 \nL 339.157388 39.023969 \nL 339.835258 47.896763 \nL 341.190998 79.868004 \nL 342.546738 121.760724 \nL 345.258218 121.760724 \nL 345.936088 100.969387 \nL 346.613958 87.838016 \nL 347.969698 89.205867 \nL 348.647568 85.704168 \nL 349.325438 107.498597 \nL 356.104138 107.498597 \nL 356.782008 119.006784 \nL 358.815618 179.520518 \nL 359.493488 214.756364 \nL 365.594318 214.756364 \nL 365.594318 214.756364 \n\" style=\"fill:none;stroke:#1f77b4;stroke-linecap:square;stroke-width:1.5;\"/>\n   </g>\n   <g id=\"patch_3\">\n    <path d=\"M 46.0125 224.64 \nL 46.0125 7.2 \n\" style=\"fill:none;stroke:#000000;stroke-linecap:square;stroke-linejoin:miter;stroke-width:0.8;\"/>\n   </g>\n   <g id=\"patch_4\">\n    <path d=\"M 380.8125 224.64 \nL 380.8125 7.2 \n\" style=\"fill:none;stroke:#000000;stroke-linecap:square;stroke-linejoin:miter;stroke-width:0.8;\"/>\n   </g>\n   <g id=\"patch_5\">\n    <path d=\"M 46.0125 224.64 \nL 380.8125 224.64 \n\" style=\"fill:none;stroke:#000000;stroke-linecap:square;stroke-linejoin:miter;stroke-width:0.8;\"/>\n   </g>\n   <g id=\"patch_6\">\n    <path d=\"M 46.0125 7.2 \nL 380.8125 7.2 \n\" style=\"fill:none;stroke:#000000;stroke-linecap:square;stroke-linejoin:miter;stroke-width:0.8;\"/>\n   </g>\n  </g>\n </g>\n <defs>\n  <clipPath id=\"p077400917d\">\n   <rect height=\"217.44\" width=\"334.8\" x=\"46.0125\" y=\"7.2\"/>\n  </clipPath>\n </defs>\n</svg>\n",
      "image/png": "[encoded data removed]"
     },
     "metadata": {
      "needs_background": "light"
     }
    }
   ],
   "source": [
    "plt.plot(n_users[800:1250]);"
   ]
  },
  {
   "cell_type": "code",
   "execution_count": 35,
   "metadata": {},
   "outputs": [],
   "source": [
    "partial = n_users[800:1250]"
   ]
  },
  {
   "cell_type": "code",
   "execution_count": 36,
   "metadata": {},
   "outputs": [],
   "source": [
    "ls = []\n",
    "step = 0\n",
    "offset = 10\n",
    "while step + offset < len(partial):\n",
    "    slide = partial[step:step + offset]\n",
    "    step += 1\n",
    "    ls.append(slide)"
   ]
  },
  {
   "cell_type": "code",
   "execution_count": 37,
   "metadata": {},
   "outputs": [
    {
     "output_type": "execute_result",
     "data": {
      "text/plain": [
       "440"
      ]
     },
     "metadata": {},
     "execution_count": 37
    }
   ],
   "source": [
    "len(ls)"
   ]
  },
  {
   "cell_type": "code",
   "execution_count": 38,
   "metadata": {},
   "outputs": [
    {
     "output_type": "execute_result",
     "data": {
      "text/plain": [
       "[[0, 0, 0, 0, 0, 0, 0, 0, 0, 1],\n",
       " [0, 0, 0, 0, 0, 0, 0, 0, 1, 2425],\n",
       " [0, 0, 0, 0, 0, 0, 0, 1, 2425, 4990],\n",
       " [0, 0, 0, 0, 0, 0, 1, 2425, 4990, 6982],\n",
       " [0, 0, 0, 0, 0, 1, 2425, 4990, 6982, 8948],\n",
       " [0, 0, 0, 0, 1, 2425, 4990, 6982, 8948, 10541],\n",
       " [0, 0, 0, 1, 2425, 4990, 6982, 8948, 10541, 10541],\n",
       " [0, 0, 1, 2425, 4990, 6982, 8948, 10541, 10541, 10541],\n",
       " [0, 1, 2425, 4990, 6982, 8948, 10541, 10541, 10541, 10541],\n",
       " [1, 2425, 4990, 6982, 8948, 10541, 10541, 10541, 10541, 10541]]"
      ]
     },
     "metadata": {},
     "execution_count": 38
    }
   ],
   "source": [
    "ls[0:10]"
   ]
  },
  {
   "cell_type": "code",
   "execution_count": 39,
   "metadata": {},
   "outputs": [
    {
     "output_type": "execute_result",
     "data": {
      "text/plain": [
       "[3864, 0, 0, 0, 0, 0, 0, 0, 0, 0]"
      ]
     },
     "metadata": {},
     "execution_count": 39
    }
   ],
   "source": [
    "ls[-1]"
   ]
  },
  {
   "cell_type": "code",
   "execution_count": 40,
   "metadata": {},
   "outputs": [
    {
     "output_type": "stream",
     "name": "stdout",
     "text": [
      "+--------------------+-----+\n|            features|label|\n+--------------------+-----+\n|[0.0,0.0,0.0,0.0,...|    1|\n|[0.0,0.0,0.0,0.0,...| 2425|\n|[0.0,0.0,0.0,0.0,...| 4990|\n|[0.0,0.0,0.0,0.0,...| 6982|\n|[0.0,0.0,0.0,0.0,...| 8948|\n|[0.0,0.0,0.0,0.0,...|10541|\n|[0.0,0.0,0.0,1.0,...|10541|\n|[0.0,0.0,1.0,2425...|10541|\n|[0.0,1.0,2425.0,4...|10541|\n|[1.0,2425.0,4990....|10541|\n|[2425.0,4990.0,69...|10542|\n|[4990.0,6982.0,89...|12487|\n|[6982.0,8948.0,10...|14613|\n|[8948.0,10541.0,1...|16333|\n|[10541.0,10541.0,...|17884|\n|[10541.0,10541.0,...|19528|\n|[10541.0,10541.0,...|19667|\n|[10541.0,10541.0,...|18398|\n|[10541.0,10542.0,...|16529|\n|[10542.0,12487.0,...|14748|\n+--------------------+-----+\nonly showing top 20 rows\n\n"
     ]
    }
   ],
   "source": [
    "tsw = spark.createDataFrame(list(map(lambda x: Row(features=Vectors.dense(x[:-1]), label=x[-1]), ls)))\n",
    "tsw.show()"
   ]
  },
  {
   "cell_type": "code",
   "execution_count": 41,
   "metadata": {},
   "outputs": [
    {
     "output_type": "execute_result",
     "data": {
      "text/plain": [
       "[('features', 'vector'), ('label', 'bigint')]"
      ]
     },
     "metadata": {},
     "execution_count": 41
    }
   ],
   "source": [
    "tsw.dtypes"
   ]
  },
  {
   "cell_type": "code",
   "execution_count": 42,
   "metadata": {},
   "outputs": [
    {
     "output_type": "execute_result",
     "data": {
      "text/plain": [
       "Row(features=DenseVector([0.0, 0.0, 0.0, 0.0, 0.0, 0.0, 0.0, 0.0, 0.0]))"
      ]
     },
     "metadata": {},
     "execution_count": 42
    }
   ],
   "source": [
    "tsw.select('features').first()"
   ]
  },
  {
   "cell_type": "code",
   "execution_count": 43,
   "metadata": {},
   "outputs": [
    {
     "output_type": "stream",
     "name": "stdout",
     "text": [
      "+--------------------+-----+---+-----+\n|            features|label|seq|index|\n+--------------------+-----+---+-----+\n|[0.0,0.0,0.0,0.0,...|    1|  0|    1|\n|[0.0,0.0,0.0,0.0,...| 2425|  1|    2|\n|[0.0,0.0,0.0,0.0,...| 4990|  2|    3|\n|[0.0,0.0,0.0,0.0,...| 6982|  3|    4|\n|[0.0,0.0,0.0,0.0,...| 8948|  4|    5|\n|[0.0,0.0,0.0,0.0,...|10541|  5|    6|\n|[0.0,0.0,0.0,1.0,...|10541|  6|    7|\n|[0.0,0.0,1.0,2425...|10541|  7|    8|\n|[0.0,1.0,2425.0,4...|10541|  8|    9|\n|[1.0,2425.0,4990....|10541|  9|   10|\n|[2425.0,4990.0,69...|10542| 10|   11|\n|[4990.0,6982.0,89...|12487| 11|   12|\n|[6982.0,8948.0,10...|14613| 12|   13|\n|[8948.0,10541.0,1...|16333| 13|   14|\n|[10541.0,10541.0,...|17884| 14|   15|\n|[10541.0,10541.0,...|19528| 15|   16|\n|[10541.0,10541.0,...|19667| 16|   17|\n|[10541.0,10541.0,...|18398| 17|   18|\n|[10541.0,10542.0,...|16529| 18|   19|\n|[10542.0,12487.0,...|14748| 19|   20|\n+--------------------+-----+---+-----+\nonly showing top 20 rows\n\n"
     ]
    }
   ],
   "source": [
    "tsw = tsw.withColumn('seq', monotonically_increasing_id())\n",
    "tsw = tsw.withColumn(\"index\", row_number().over(Window.orderBy(\"seq\")))\n",
    "tsw.show()"
   ]
  },
  {
   "cell_type": "code",
   "execution_count": 44,
   "metadata": {},
   "outputs": [
    {
     "output_type": "execute_result",
     "data": {
      "text/plain": [
       "440"
      ]
     },
     "metadata": {},
     "execution_count": 44
    }
   ],
   "source": [
    "tsw.count()"
   ]
  },
  {
   "cell_type": "code",
   "execution_count": 45,
   "metadata": {},
   "outputs": [
    {
     "output_type": "execute_result",
     "data": {
      "text/plain": [
       "[('features', 'vector'),\n",
       " ('label', 'bigint'),\n",
       " ('seq', 'bigint'),\n",
       " ('index', 'int')]"
      ]
     },
     "metadata": {},
     "execution_count": 45
    }
   ],
   "source": [
    "tsw.dtypes"
   ]
  },
  {
   "cell_type": "code",
   "execution_count": 46,
   "metadata": {},
   "outputs": [],
   "source": [
    "train = tsw.where('index <= 340')\n",
    "test = tsw.where('index > 340')"
   ]
  },
  {
   "cell_type": "code",
   "execution_count": 47,
   "metadata": {},
   "outputs": [
    {
     "output_type": "execute_result",
     "data": {
      "text/plain": [
       "(340, 100)"
      ]
     },
     "metadata": {},
     "execution_count": 47
    }
   ],
   "source": [
    "train.count(), test.count()"
   ]
  },
  {
   "cell_type": "code",
   "execution_count": 48,
   "metadata": {},
   "outputs": [
    {
     "output_type": "stream",
     "name": "stdout",
     "text": [
      "Root Mean Squared Error (RMSE) on test data = 2460.98\nRandomForestRegressionModel: uid=RandomForestRegressor_5a3e332193c1, numTrees=10, numFeatures=9\n"
     ]
    }
   ],
   "source": [
    "rf = RandomForestRegressor(featuresCol=\"features\")\n",
    "paramGrid = ParamGridBuilder() \\\n",
    "    .addGrid(rf.numTrees, [5, 10, 20]) \\\n",
    "    .build()\n",
    "\n",
    "evaluator = RegressionEvaluator(labelCol=\"label\", predictionCol=\"prediction\", metricName=\"rmse\")    \n",
    "\n",
    "crossval = CrossValidator(estimator=rf,\n",
    "                          estimatorParamMaps=paramGrid,\n",
    "                          evaluator=evaluator,\n",
    "                          numFolds=5)  \n",
    "\n",
    "model = crossval.fit(train)               \n",
    "\n",
    "predictions = model.transform(test)\n",
    "\n",
    "rmse = evaluator.evaluate(predictions)\n",
    "print(\"Root Mean Squared Error (RMSE) on test data = %g\" % rmse)\n",
    "print(model.bestModel)"
   ]
  },
  {
   "cell_type": "code",
   "execution_count": 49,
   "metadata": {},
   "outputs": [
    {
     "output_type": "execute_result",
     "data": {
      "text/plain": [
       "    label  prediction\n",
       "0       0   66.869787\n",
       "1       0   66.869787\n",
       "2       0   66.869787\n",
       "3       0   66.869787\n",
       "4       0   66.869787\n",
       "..    ...         ...\n",
       "95      0   67.926004\n",
       "96      0    1.610594\n",
       "97      0    4.956699\n",
       "98      0   19.996733\n",
       "99      0   44.673771\n",
       "\n",
       "[100 rows x 2 columns]"
      ],
      "text/html": "<div>\n<style scoped>\n    .dataframe tbody tr th:only-of-type {\n        vertical-align: middle;\n    }\n\n    .dataframe tbody tr th {\n        vertical-align: top;\n    }\n\n    .dataframe thead th {\n        text-align: right;\n    }\n</style>\n<table border=\"1\" class=\"dataframe\">\n  <thead>\n    <tr style=\"text-align: right;\">\n      <th></th>\n      <th>label</th>\n      <th>prediction</th>\n    </tr>\n  </thead>\n  <tbody>\n    <tr>\n      <th>0</th>\n      <td>0</td>\n      <td>66.869787</td>\n    </tr>\n    <tr>\n      <th>1</th>\n      <td>0</td>\n      <td>66.869787</td>\n    </tr>\n    <tr>\n      <th>2</th>\n      <td>0</td>\n      <td>66.869787</td>\n    </tr>\n    <tr>\n      <th>3</th>\n      <td>0</td>\n      <td>66.869787</td>\n    </tr>\n    <tr>\n      <th>4</th>\n      <td>0</td>\n      <td>66.869787</td>\n    </tr>\n    <tr>\n      <th>...</th>\n      <td>...</td>\n      <td>...</td>\n    </tr>\n    <tr>\n      <th>95</th>\n      <td>0</td>\n      <td>67.926004</td>\n    </tr>\n    <tr>\n      <th>96</th>\n      <td>0</td>\n      <td>1.610594</td>\n    </tr>\n    <tr>\n      <th>97</th>\n      <td>0</td>\n      <td>4.956699</td>\n    </tr>\n    <tr>\n      <th>98</th>\n      <td>0</td>\n      <td>19.996733</td>\n    </tr>\n    <tr>\n      <th>99</th>\n      <td>0</td>\n      <td>44.673771</td>\n    </tr>\n  </tbody>\n</table>\n<p>100 rows × 2 columns</p>\n</div>"
     },
     "metadata": {},
     "execution_count": 49
    }
   ],
   "source": [
    "results = predictions.select('label', 'prediction').toPandas()\n",
    "results"
   ]
  },
  {
   "cell_type": "code",
   "execution_count": 50,
   "metadata": {},
   "outputs": [
    {
     "output_type": "display_data",
     "data": {
      "text/plain": "<Figure size 432x288 with 1 Axes>",
      "image/svg+xml": "<?xml version=\"1.0\" encoding=\"utf-8\" standalone=\"no\"?>\n<!DOCTYPE svg PUBLIC \"-//W3C//DTD SVG 1.1//EN\"\n  \"http://www.w3.org/Graphics/SVG/1.1/DTD/svg11.dtd\">\n<!-- Created with matplotlib (https://matplotlib.org/) -->\n<svg height=\"248.518125pt\" version=\"1.1\" viewBox=\"0 0 388.0125 248.518125\" width=\"388.0125pt\" xmlns=\"http://www.w3.org/2000/svg\" xmlns:xlink=\"http://www.w3.org/1999/xlink\">\n <metadata>\n  <rdf:RDF xmlns:cc=\"http://creativecommons.org/ns#\" xmlns:dc=\"http://purl.org/dc/elements/1.1/\" xmlns:rdf=\"http://www.w3.org/1999/02/22-rdf-syntax-ns#\">\n   <cc:Work>\n    <dc:type rdf:resource=\"http://purl.org/dc/dcmitype/StillImage\"/>\n    <dc:date>2020-10-09T15:02:20.774149</dc:date>\n    <dc:format>image/svg+xml</dc:format>\n    <dc:creator>\n     <cc:Agent>\n      <dc:title>Matplotlib v3.3.2, https://matplotlib.org/</dc:title>\n     </cc:Agent>\n    </dc:creator>\n   </cc:Work>\n  </rdf:RDF>\n </metadata>\n <defs>\n  <style type=\"text/css\">*{stroke-linecap:butt;stroke-linejoin:round;}</style>\n </defs>\n <g id=\"figure_1\">\n  <g id=\"patch_1\">\n   <path d=\"M 0 248.518125 \nL 388.0125 248.518125 \nL 388.0125 0 \nL 0 0 \nz\n\" style=\"fill:none;\"/>\n  </g>\n  <g id=\"axes_1\">\n   <g id=\"patch_2\">\n    <path d=\"M 46.0125 224.64 \nL 380.8125 224.64 \nL 380.8125 7.2 \nL 46.0125 7.2 \nz\n\" style=\"fill:#ffffff;\"/>\n   </g>\n   <g id=\"matplotlib.axis_1\">\n    <g id=\"xtick_1\">\n     <g id=\"line2d_1\">\n      <defs>\n       <path d=\"M 0 0 \nL 0 3.5 \n\" id=\"m574fadcc56\" style=\"stroke:#000000;stroke-width:0.8;\"/>\n      </defs>\n      <g>\n       <use style=\"stroke:#000000;stroke-width:0.8;\" x=\"61.230682\" xlink:href=\"#m574fadcc56\" y=\"224.64\"/>\n      </g>\n     </g>\n     <g id=\"text_1\">\n      <!-- 0 -->\n      <g transform=\"translate(58.049432 239.238437)scale(0.1 -0.1)\">\n       <defs>\n        <path d=\"M 31.78125 66.40625 \nQ 24.171875 66.40625 20.328125 58.90625 \nQ 16.5 51.421875 16.5 36.375 \nQ 16.5 21.390625 20.328125 13.890625 \nQ 24.171875 6.390625 31.78125 6.390625 \nQ 39.453125 6.390625 43.28125 13.890625 \nQ 47.125 21.390625 47.125 36.375 \nQ 47.125 51.421875 43.28125 58.90625 \nQ 39.453125 66.40625 31.78125 66.40625 \nz\nM 31.78125 74.21875 \nQ 44.046875 74.21875 50.515625 64.515625 \nQ 56.984375 54.828125 56.984375 36.375 \nQ 56.984375 17.96875 50.515625 8.265625 \nQ 44.046875 -1.421875 31.78125 -1.421875 \nQ 19.53125 -1.421875 13.0625 8.265625 \nQ 6.59375 17.96875 6.59375 36.375 \nQ 6.59375 54.828125 13.0625 64.515625 \nQ 19.53125 74.21875 31.78125 74.21875 \nz\n\" id=\"DejaVuSans-48\"/>\n       </defs>\n       <use xlink:href=\"#DejaVuSans-48\"/>\n      </g>\n     </g>\n    </g>\n    <g id=\"xtick_2\">\n     <g id=\"line2d_2\">\n      <g>\n       <use style=\"stroke:#000000;stroke-width:0.8;\" x=\"122.718285\" xlink:href=\"#m574fadcc56\" y=\"224.64\"/>\n      </g>\n     </g>\n     <g id=\"text_2\">\n      <!-- 20 -->\n      <g transform=\"translate(116.355785 239.238437)scale(0.1 -0.1)\">\n       <defs>\n        <path d=\"M 19.1875 8.296875 \nL 53.609375 8.296875 \nL 53.609375 0 \nL 7.328125 0 \nL 7.328125 8.296875 \nQ 12.9375 14.109375 22.625 23.890625 \nQ 32.328125 33.6875 34.8125 36.53125 \nQ 39.546875 41.84375 41.421875 45.53125 \nQ 43.3125 49.21875 43.3125 52.78125 \nQ 43.3125 58.59375 39.234375 62.25 \nQ 35.15625 65.921875 28.609375 65.921875 \nQ 23.96875 65.921875 18.8125 64.3125 \nQ 13.671875 62.703125 7.8125 59.421875 \nL 7.8125 69.390625 \nQ 13.765625 71.78125 18.9375 73 \nQ 24.125 74.21875 28.421875 74.21875 \nQ 39.75 74.21875 46.484375 68.546875 \nQ 53.21875 62.890625 53.21875 53.421875 \nQ 53.21875 48.921875 51.53125 44.890625 \nQ 49.859375 40.875 45.40625 35.40625 \nQ 44.1875 33.984375 37.640625 27.21875 \nQ 31.109375 20.453125 19.1875 8.296875 \nz\n\" id=\"DejaVuSans-50\"/>\n       </defs>\n       <use xlink:href=\"#DejaVuSans-50\"/>\n       <use x=\"63.623047\" xlink:href=\"#DejaVuSans-48\"/>\n      </g>\n     </g>\n    </g>\n    <g id=\"xtick_3\">\n     <g id=\"line2d_3\">\n      <g>\n       <use style=\"stroke:#000000;stroke-width:0.8;\" x=\"184.205888\" xlink:href=\"#m574fadcc56\" y=\"224.64\"/>\n      </g>\n     </g>\n     <g id=\"text_3\">\n      <!-- 40 -->\n      <g transform=\"translate(177.843388 239.238437)scale(0.1 -0.1)\">\n       <defs>\n        <path d=\"M 37.796875 64.3125 \nL 12.890625 25.390625 \nL 37.796875 25.390625 \nz\nM 35.203125 72.90625 \nL 47.609375 72.90625 \nL 47.609375 25.390625 \nL 58.015625 25.390625 \nL 58.015625 17.1875 \nL 47.609375 17.1875 \nL 47.609375 0 \nL 37.796875 0 \nL 37.796875 17.1875 \nL 4.890625 17.1875 \nL 4.890625 26.703125 \nz\n\" id=\"DejaVuSans-52\"/>\n       </defs>\n       <use xlink:href=\"#DejaVuSans-52\"/>\n       <use x=\"63.623047\" xlink:href=\"#DejaVuSans-48\"/>\n      </g>\n     </g>\n    </g>\n    <g id=\"xtick_4\">\n     <g id=\"line2d_4\">\n      <g>\n       <use style=\"stroke:#000000;stroke-width:0.8;\" x=\"245.693492\" xlink:href=\"#m574fadcc56\" y=\"224.64\"/>\n      </g>\n     </g>\n     <g id=\"text_4\">\n      <!-- 60 -->\n      <g transform=\"translate(239.330992 239.238437)scale(0.1 -0.1)\">\n       <defs>\n        <path d=\"M 33.015625 40.375 \nQ 26.375 40.375 22.484375 35.828125 \nQ 18.609375 31.296875 18.609375 23.390625 \nQ 18.609375 15.53125 22.484375 10.953125 \nQ 26.375 6.390625 33.015625 6.390625 \nQ 39.65625 6.390625 43.53125 10.953125 \nQ 47.40625 15.53125 47.40625 23.390625 \nQ 47.40625 31.296875 43.53125 35.828125 \nQ 39.65625 40.375 33.015625 40.375 \nz\nM 52.59375 71.296875 \nL 52.59375 62.3125 \nQ 48.875 64.0625 45.09375 64.984375 \nQ 41.3125 65.921875 37.59375 65.921875 \nQ 27.828125 65.921875 22.671875 59.328125 \nQ 17.53125 52.734375 16.796875 39.40625 \nQ 19.671875 43.65625 24.015625 45.921875 \nQ 28.375 48.1875 33.59375 48.1875 \nQ 44.578125 48.1875 50.953125 41.515625 \nQ 57.328125 34.859375 57.328125 23.390625 \nQ 57.328125 12.15625 50.6875 5.359375 \nQ 44.046875 -1.421875 33.015625 -1.421875 \nQ 20.359375 -1.421875 13.671875 8.265625 \nQ 6.984375 17.96875 6.984375 36.375 \nQ 6.984375 53.65625 15.1875 63.9375 \nQ 23.390625 74.21875 37.203125 74.21875 \nQ 40.921875 74.21875 44.703125 73.484375 \nQ 48.484375 72.75 52.59375 71.296875 \nz\n\" id=\"DejaVuSans-54\"/>\n       </defs>\n       <use xlink:href=\"#DejaVuSans-54\"/>\n       <use x=\"63.623047\" xlink:href=\"#DejaVuSans-48\"/>\n      </g>\n     </g>\n    </g>\n    <g id=\"xtick_5\">\n     <g id=\"line2d_5\">\n      <g>\n       <use style=\"stroke:#000000;stroke-width:0.8;\" x=\"307.181095\" xlink:href=\"#m574fadcc56\" y=\"224.64\"/>\n      </g>\n     </g>\n     <g id=\"text_5\">\n      <!-- 80 -->\n      <g transform=\"translate(300.818595 239.238437)scale(0.1 -0.1)\">\n       <defs>\n        <path d=\"M 31.78125 34.625 \nQ 24.75 34.625 20.71875 30.859375 \nQ 16.703125 27.09375 16.703125 20.515625 \nQ 16.703125 13.921875 20.71875 10.15625 \nQ 24.75 6.390625 31.78125 6.390625 \nQ 38.8125 6.390625 42.859375 10.171875 \nQ 46.921875 13.96875 46.921875 20.515625 \nQ 46.921875 27.09375 42.890625 30.859375 \nQ 38.875 34.625 31.78125 34.625 \nz\nM 21.921875 38.8125 \nQ 15.578125 40.375 12.03125 44.71875 \nQ 8.5 49.078125 8.5 55.328125 \nQ 8.5 64.0625 14.71875 69.140625 \nQ 20.953125 74.21875 31.78125 74.21875 \nQ 42.671875 74.21875 48.875 69.140625 \nQ 55.078125 64.0625 55.078125 55.328125 \nQ 55.078125 49.078125 51.53125 44.71875 \nQ 48 40.375 41.703125 38.8125 \nQ 48.828125 37.15625 52.796875 32.3125 \nQ 56.78125 27.484375 56.78125 20.515625 \nQ 56.78125 9.90625 50.3125 4.234375 \nQ 43.84375 -1.421875 31.78125 -1.421875 \nQ 19.734375 -1.421875 13.25 4.234375 \nQ 6.78125 9.90625 6.78125 20.515625 \nQ 6.78125 27.484375 10.78125 32.3125 \nQ 14.796875 37.15625 21.921875 38.8125 \nz\nM 18.3125 54.390625 \nQ 18.3125 48.734375 21.84375 45.5625 \nQ 25.390625 42.390625 31.78125 42.390625 \nQ 38.140625 42.390625 41.71875 45.5625 \nQ 45.3125 48.734375 45.3125 54.390625 \nQ 45.3125 60.0625 41.71875 63.234375 \nQ 38.140625 66.40625 31.78125 66.40625 \nQ 25.390625 66.40625 21.84375 63.234375 \nQ 18.3125 60.0625 18.3125 54.390625 \nz\n\" id=\"DejaVuSans-56\"/>\n       </defs>\n       <use xlink:href=\"#DejaVuSans-56\"/>\n       <use x=\"63.623047\" xlink:href=\"#DejaVuSans-48\"/>\n      </g>\n     </g>\n    </g>\n    <g id=\"xtick_6\">\n     <g id=\"line2d_6\">\n      <g>\n       <use style=\"stroke:#000000;stroke-width:0.8;\" x=\"368.668698\" xlink:href=\"#m574fadcc56\" y=\"224.64\"/>\n      </g>\n     </g>\n     <g id=\"text_6\">\n      <!-- 100 -->\n      <g transform=\"translate(359.124948 239.238437)scale(0.1 -0.1)\">\n       <defs>\n        <path d=\"M 12.40625 8.296875 \nL 28.515625 8.296875 \nL 28.515625 63.921875 \nL 10.984375 60.40625 \nL 10.984375 69.390625 \nL 28.421875 72.90625 \nL 38.28125 72.90625 \nL 38.28125 8.296875 \nL 54.390625 8.296875 \nL 54.390625 0 \nL 12.40625 0 \nz\n\" id=\"DejaVuSans-49\"/>\n       </defs>\n       <use xlink:href=\"#DejaVuSans-49\"/>\n       <use x=\"63.623047\" xlink:href=\"#DejaVuSans-48\"/>\n       <use x=\"127.246094\" xlink:href=\"#DejaVuSans-48\"/>\n      </g>\n     </g>\n    </g>\n   </g>\n   <g id=\"matplotlib.axis_2\">\n    <g id=\"ytick_1\">\n     <g id=\"line2d_7\">\n      <defs>\n       <path d=\"M 0 0 \nL -3.5 0 \n\" id=\"m14a9d0a080\" style=\"stroke:#000000;stroke-width:0.8;\"/>\n      </defs>\n      <g>\n       <use style=\"stroke:#000000;stroke-width:0.8;\" x=\"46.0125\" xlink:href=\"#m14a9d0a080\" y=\"214.756364\"/>\n      </g>\n     </g>\n     <g id=\"text_7\">\n      <!-- 0 -->\n      <g transform=\"translate(32.65 218.555582)scale(0.1 -0.1)\">\n       <use xlink:href=\"#DejaVuSans-48\"/>\n      </g>\n     </g>\n    </g>\n    <g id=\"ytick_2\">\n     <g id=\"line2d_8\">\n      <g>\n       <use style=\"stroke:#000000;stroke-width:0.8;\" x=\"46.0125\" xlink:href=\"#m14a9d0a080\" y=\"169.161326\"/>\n      </g>\n     </g>\n     <g id=\"text_8\">\n      <!-- 5000 -->\n      <g transform=\"translate(13.5625 172.960544)scale(0.1 -0.1)\">\n       <defs>\n        <path d=\"M 10.796875 72.90625 \nL 49.515625 72.90625 \nL 49.515625 64.59375 \nL 19.828125 64.59375 \nL 19.828125 46.734375 \nQ 21.96875 47.46875 24.109375 47.828125 \nQ 26.265625 48.1875 28.421875 48.1875 \nQ 40.625 48.1875 47.75 41.5 \nQ 54.890625 34.8125 54.890625 23.390625 \nQ 54.890625 11.625 47.5625 5.09375 \nQ 40.234375 -1.421875 26.90625 -1.421875 \nQ 22.3125 -1.421875 17.546875 -0.640625 \nQ 12.796875 0.140625 7.71875 1.703125 \nL 7.71875 11.625 \nQ 12.109375 9.234375 16.796875 8.0625 \nQ 21.484375 6.890625 26.703125 6.890625 \nQ 35.15625 6.890625 40.078125 11.328125 \nQ 45.015625 15.765625 45.015625 23.390625 \nQ 45.015625 31 40.078125 35.4375 \nQ 35.15625 39.890625 26.703125 39.890625 \nQ 22.75 39.890625 18.8125 39.015625 \nQ 14.890625 38.140625 10.796875 36.28125 \nz\n\" id=\"DejaVuSans-53\"/>\n       </defs>\n       <use xlink:href=\"#DejaVuSans-53\"/>\n       <use x=\"63.623047\" xlink:href=\"#DejaVuSans-48\"/>\n       <use x=\"127.246094\" xlink:href=\"#DejaVuSans-48\"/>\n       <use x=\"190.869141\" xlink:href=\"#DejaVuSans-48\"/>\n      </g>\n     </g>\n    </g>\n    <g id=\"ytick_3\">\n     <g id=\"line2d_9\">\n      <g>\n       <use style=\"stroke:#000000;stroke-width:0.8;\" x=\"46.0125\" xlink:href=\"#m14a9d0a080\" y=\"123.566288\"/>\n      </g>\n     </g>\n     <g id=\"text_9\">\n      <!-- 10000 -->\n      <g transform=\"translate(7.2 127.365507)scale(0.1 -0.1)\">\n       <use xlink:href=\"#DejaVuSans-49\"/>\n       <use x=\"63.623047\" xlink:href=\"#DejaVuSans-48\"/>\n       <use x=\"127.246094\" xlink:href=\"#DejaVuSans-48\"/>\n       <use x=\"190.869141\" xlink:href=\"#DejaVuSans-48\"/>\n       <use x=\"254.492188\" xlink:href=\"#DejaVuSans-48\"/>\n      </g>\n     </g>\n    </g>\n    <g id=\"ytick_4\">\n     <g id=\"line2d_10\">\n      <g>\n       <use style=\"stroke:#000000;stroke-width:0.8;\" x=\"46.0125\" xlink:href=\"#m14a9d0a080\" y=\"77.97125\"/>\n      </g>\n     </g>\n     <g id=\"text_10\">\n      <!-- 15000 -->\n      <g transform=\"translate(7.2 81.770469)scale(0.1 -0.1)\">\n       <use xlink:href=\"#DejaVuSans-49\"/>\n       <use x=\"63.623047\" xlink:href=\"#DejaVuSans-53\"/>\n       <use x=\"127.246094\" xlink:href=\"#DejaVuSans-48\"/>\n       <use x=\"190.869141\" xlink:href=\"#DejaVuSans-48\"/>\n       <use x=\"254.492188\" xlink:href=\"#DejaVuSans-48\"/>\n      </g>\n     </g>\n    </g>\n    <g id=\"ytick_5\">\n     <g id=\"line2d_11\">\n      <g>\n       <use style=\"stroke:#000000;stroke-width:0.8;\" x=\"46.0125\" xlink:href=\"#m14a9d0a080\" y=\"32.376212\"/>\n      </g>\n     </g>\n     <g id=\"text_11\">\n      <!-- 20000 -->\n      <g transform=\"translate(7.2 36.175431)scale(0.1 -0.1)\">\n       <use xlink:href=\"#DejaVuSans-50\"/>\n       <use x=\"63.623047\" xlink:href=\"#DejaVuSans-48\"/>\n       <use x=\"127.246094\" xlink:href=\"#DejaVuSans-48\"/>\n       <use x=\"190.869141\" xlink:href=\"#DejaVuSans-48\"/>\n       <use x=\"254.492188\" xlink:href=\"#DejaVuSans-48\"/>\n      </g>\n     </g>\n    </g>\n   </g>\n   <g id=\"line2d_12\">\n    <path clip-path=\"url(#p877c59c96b)\" d=\"M 61.230682 214.756364 \nL 64.305062 214.756364 \nL 67.379442 214.756364 \nL 70.453822 214.756364 \nL 73.528202 214.756364 \nL 76.602583 214.756364 \nL 79.676963 214.756364 \nL 82.751343 214.756364 \nL 85.825723 214.756364 \nL 88.900103 214.756364 \nL 91.974483 214.756364 \nL 95.048864 214.756364 \nL 98.123244 214.756364 \nL 101.197624 214.756364 \nL 104.272004 214.756364 \nL 107.346384 214.756364 \nL 110.420764 214.756364 \nL 113.495145 214.756364 \nL 116.569525 214.756364 \nL 119.643905 214.756364 \nL 122.718285 214.756364 \nL 125.792665 214.756364 \nL 128.867045 214.756364 \nL 131.941426 214.756364 \nL 135.015806 214.756364 \nL 138.090186 214.756364 \nL 141.164566 214.756364 \nL 144.238946 214.756364 \nL 147.313326 214.756364 \nL 150.387707 214.756364 \nL 153.462087 214.756364 \nL 156.536467 214.756364 \nL 159.610847 214.756364 \nL 162.685227 214.756364 \nL 165.759607 214.756364 \nL 168.833988 214.756364 \nL 171.908368 214.756364 \nL 174.982748 214.756364 \nL 178.057128 214.756364 \nL 181.131508 214.756364 \nL 184.205888 214.738126 \nL 187.280269 189.542308 \nL 190.354649 166.571528 \nL 193.429029 148.269679 \nL 196.503409 129.739856 \nL 199.577789 115.012659 \nL 202.652169 97.859805 \nL 205.72655 79.567076 \nL 208.80093 65.815613 \nL 211.87531 51.042821 \nL 214.94969 39.4708 \nL 218.02407 39.4708 \nL 221.09845 39.4708 \nL 224.172831 39.4708 \nL 227.247211 39.4708 \nL 230.321591 39.452562 \nL 233.395971 24.460913 \nL 236.470351 18.095846 \nL 239.544731 17.384564 \nL 242.619112 17.083636 \nL 245.693492 19.837577 \nL 248.767872 39.023969 \nL 251.842252 47.896763 \nL 254.916632 63.946216 \nL 257.991012 79.868004 \nL 261.065393 99.619774 \nL 264.139773 121.760724 \nL 267.214153 121.760724 \nL 270.288533 121.760724 \nL 273.362913 121.760724 \nL 276.437293 121.760724 \nL 279.511674 100.969387 \nL 282.586054 87.838016 \nL 285.660434 88.512823 \nL 288.734814 89.205867 \nL 291.809194 85.704168 \nL 294.883574 107.498597 \nL 297.957955 107.498597 \nL 301.032335 107.498597 \nL 304.106715 107.498597 \nL 307.181095 107.498597 \nL 310.255475 107.498597 \nL 313.329855 107.498597 \nL 316.404236 107.498597 \nL 319.478616 107.498597 \nL 322.552996 107.498597 \nL 325.627376 107.498597 \nL 328.701756 119.006784 \nL 331.776136 138.494103 \nL 334.850517 157.644019 \nL 337.924897 179.520518 \nL 340.999277 214.756364 \nL 344.073657 214.756364 \nL 347.148037 214.756364 \nL 350.222417 214.756364 \nL 353.296798 214.756364 \nL 356.371178 214.756364 \nL 359.445558 214.756364 \nL 362.519938 214.756364 \nL 365.594318 214.756364 \n\" style=\"fill:none;stroke:#1f77b4;stroke-linecap:square;stroke-width:1.5;\"/>\n   </g>\n   <g id=\"line2d_13\">\n    <path clip-path=\"url(#p877c59c96b)\" d=\"M 61.230682 214.146578 \nL 64.305062 214.146578 \nL 67.379442 214.146578 \nL 70.453822 214.146578 \nL 73.528202 214.146578 \nL 76.602583 214.146578 \nL 79.676963 214.146578 \nL 82.751343 214.146578 \nL 85.825723 214.146578 \nL 88.900103 214.146578 \nL 91.974483 214.146578 \nL 95.048864 214.146578 \nL 98.123244 214.146578 \nL 101.197624 214.146578 \nL 104.272004 214.146578 \nL 107.346384 214.146578 \nL 110.420764 214.146578 \nL 113.495145 214.146578 \nL 116.569525 214.146578 \nL 119.643905 214.146578 \nL 122.718285 214.146578 \nL 125.792665 214.146578 \nL 128.867045 214.146578 \nL 131.941426 214.146578 \nL 135.015806 214.146578 \nL 138.090186 214.146578 \nL 141.164566 214.146578 \nL 144.238946 214.146578 \nL 147.313326 214.146578 \nL 150.387707 214.146578 \nL 153.462087 214.146578 \nL 156.536467 214.146578 \nL 159.610847 214.146578 \nL 162.685227 214.146578 \nL 165.759607 214.146578 \nL 168.833988 214.146578 \nL 171.908368 214.146578 \nL 174.982748 214.146578 \nL 178.057128 214.146578 \nL 181.131508 214.146578 \nL 184.205888 214.146578 \nL 187.280269 212.463507 \nL 190.354649 169.615146 \nL 193.429029 154.84539 \nL 196.503409 137.181437 \nL 199.577789 124.793364 \nL 202.652169 119.265001 \nL 205.72655 110.699162 \nL 208.80093 96.193331 \nL 211.87531 81.812415 \nL 214.94969 69.994843 \nL 218.02407 59.667502 \nL 221.09845 54.641105 \nL 224.172831 68.379523 \nL 227.247211 75.892876 \nL 230.321591 91.504769 \nL 233.395971 91.504769 \nL 236.470351 91.504769 \nL 239.544731 91.504769 \nL 242.619112 91.504769 \nL 245.693492 91.504769 \nL 248.767872 91.504769 \nL 251.842252 91.504769 \nL 254.916632 91.504769 \nL 257.991012 91.504769 \nL 261.065393 91.504769 \nL 264.139773 109.399064 \nL 267.214153 124.483994 \nL 270.288533 122.40927 \nL 273.362913 125.39211 \nL 276.437293 124.020429 \nL 279.511674 124.020429 \nL 282.586054 122.44075 \nL 285.660434 101.675399 \nL 288.734814 88.861077 \nL 291.809194 87.966687 \nL 294.883574 62.401054 \nL 297.957955 103.668906 \nL 301.032335 108.837372 \nL 304.106715 114.080943 \nL 307.181095 120.816573 \nL 310.255475 117.982182 \nL 313.329855 118.747698 \nL 316.404236 113.977378 \nL 319.478616 111.908503 \nL 322.552996 107.241748 \nL 325.627376 107.241748 \nL 328.701756 107.241748 \nL 331.776136 107.241748 \nL 334.850517 130.566551 \nL 337.924897 151.934942 \nL 340.999277 188.414738 \nL 344.073657 202.314426 \nL 347.148037 206.131916 \nL 350.222417 209.921881 \nL 353.296798 214.136946 \nL 356.371178 214.741677 \nL 359.445558 214.711163 \nL 362.519938 214.574013 \nL 365.594318 214.348983 \n\" style=\"fill:none;stroke:#ff7f0e;stroke-linecap:square;stroke-width:1.5;\"/>\n   </g>\n   <g id=\"patch_3\">\n    <path d=\"M 46.0125 224.64 \nL 46.0125 7.2 \n\" style=\"fill:none;stroke:#000000;stroke-linecap:square;stroke-linejoin:miter;stroke-width:0.8;\"/>\n   </g>\n   <g id=\"patch_4\">\n    <path d=\"M 380.8125 224.64 \nL 380.8125 7.2 \n\" style=\"fill:none;stroke:#000000;stroke-linecap:square;stroke-linejoin:miter;stroke-width:0.8;\"/>\n   </g>\n   <g id=\"patch_5\">\n    <path d=\"M 46.0125 224.64 \nL 380.8125 224.64 \n\" style=\"fill:none;stroke:#000000;stroke-linecap:square;stroke-linejoin:miter;stroke-width:0.8;\"/>\n   </g>\n   <g id=\"patch_6\">\n    <path d=\"M 46.0125 7.2 \nL 380.8125 7.2 \n\" style=\"fill:none;stroke:#000000;stroke-linecap:square;stroke-linejoin:miter;stroke-width:0.8;\"/>\n   </g>\n   <g id=\"legend_1\">\n    <g id=\"patch_7\">\n     <path d=\"M 291.645312 44.55625 \nL 373.8125 44.55625 \nQ 375.8125 44.55625 375.8125 42.55625 \nL 375.8125 14.2 \nQ 375.8125 12.2 373.8125 12.2 \nL 291.645312 12.2 \nQ 289.645312 12.2 289.645312 14.2 \nL 289.645312 42.55625 \nQ 289.645312 44.55625 291.645312 44.55625 \nz\n\" style=\"fill:#ffffff;opacity:0.8;stroke:#cccccc;stroke-linejoin:miter;\"/>\n    </g>\n    <g id=\"line2d_14\">\n     <path d=\"M 293.645312 20.298437 \nL 313.645312 20.298437 \n\" style=\"fill:none;stroke:#1f77b4;stroke-linecap:square;stroke-width:1.5;\"/>\n    </g>\n    <g id=\"line2d_15\"/>\n    <g id=\"text_12\">\n     <!-- label -->\n     <g transform=\"translate(321.645312 23.798437)scale(0.1 -0.1)\">\n      <defs>\n       <path d=\"M 9.421875 75.984375 \nL 18.40625 75.984375 \nL 18.40625 0 \nL 9.421875 0 \nz\n\" id=\"DejaVuSans-108\"/>\n       <path d=\"M 34.28125 27.484375 \nQ 23.390625 27.484375 19.1875 25 \nQ 14.984375 22.515625 14.984375 16.5 \nQ 14.984375 11.71875 18.140625 8.90625 \nQ 21.296875 6.109375 26.703125 6.109375 \nQ 34.1875 6.109375 38.703125 11.40625 \nQ 43.21875 16.703125 43.21875 25.484375 \nL 43.21875 27.484375 \nz\nM 52.203125 31.203125 \nL 52.203125 0 \nL 43.21875 0 \nL 43.21875 8.296875 \nQ 40.140625 3.328125 35.546875 0.953125 \nQ 30.953125 -1.421875 24.3125 -1.421875 \nQ 15.921875 -1.421875 10.953125 3.296875 \nQ 6 8.015625 6 15.921875 \nQ 6 25.140625 12.171875 29.828125 \nQ 18.359375 34.515625 30.609375 34.515625 \nL 43.21875 34.515625 \nL 43.21875 35.40625 \nQ 43.21875 41.609375 39.140625 45 \nQ 35.0625 48.390625 27.6875 48.390625 \nQ 23 48.390625 18.546875 47.265625 \nQ 14.109375 46.140625 10.015625 43.890625 \nL 10.015625 52.203125 \nQ 14.9375 54.109375 19.578125 55.046875 \nQ 24.21875 56 28.609375 56 \nQ 40.484375 56 46.34375 49.84375 \nQ 52.203125 43.703125 52.203125 31.203125 \nz\n\" id=\"DejaVuSans-97\"/>\n       <path d=\"M 48.6875 27.296875 \nQ 48.6875 37.203125 44.609375 42.84375 \nQ 40.53125 48.484375 33.40625 48.484375 \nQ 26.265625 48.484375 22.1875 42.84375 \nQ 18.109375 37.203125 18.109375 27.296875 \nQ 18.109375 17.390625 22.1875 11.75 \nQ 26.265625 6.109375 33.40625 6.109375 \nQ 40.53125 6.109375 44.609375 11.75 \nQ 48.6875 17.390625 48.6875 27.296875 \nz\nM 18.109375 46.390625 \nQ 20.953125 51.265625 25.265625 53.625 \nQ 29.59375 56 35.59375 56 \nQ 45.5625 56 51.78125 48.09375 \nQ 58.015625 40.1875 58.015625 27.296875 \nQ 58.015625 14.40625 51.78125 6.484375 \nQ 45.5625 -1.421875 35.59375 -1.421875 \nQ 29.59375 -1.421875 25.265625 0.953125 \nQ 20.953125 3.328125 18.109375 8.203125 \nL 18.109375 0 \nL 9.078125 0 \nL 9.078125 75.984375 \nL 18.109375 75.984375 \nz\n\" id=\"DejaVuSans-98\"/>\n       <path d=\"M 56.203125 29.59375 \nL 56.203125 25.203125 \nL 14.890625 25.203125 \nQ 15.484375 15.921875 20.484375 11.0625 \nQ 25.484375 6.203125 34.421875 6.203125 \nQ 39.59375 6.203125 44.453125 7.46875 \nQ 49.3125 8.734375 54.109375 11.28125 \nL 54.109375 2.78125 \nQ 49.265625 0.734375 44.1875 -0.34375 \nQ 39.109375 -1.421875 33.890625 -1.421875 \nQ 20.796875 -1.421875 13.15625 6.1875 \nQ 5.515625 13.8125 5.515625 26.8125 \nQ 5.515625 40.234375 12.765625 48.109375 \nQ 20.015625 56 32.328125 56 \nQ 43.359375 56 49.78125 48.890625 \nQ 56.203125 41.796875 56.203125 29.59375 \nz\nM 47.21875 32.234375 \nQ 47.125 39.59375 43.09375 43.984375 \nQ 39.0625 48.390625 32.421875 48.390625 \nQ 24.90625 48.390625 20.390625 44.140625 \nQ 15.875 39.890625 15.1875 32.171875 \nz\n\" id=\"DejaVuSans-101\"/>\n      </defs>\n      <use xlink:href=\"#DejaVuSans-108\"/>\n      <use x=\"27.783203\" xlink:href=\"#DejaVuSans-97\"/>\n      <use x=\"89.0625\" xlink:href=\"#DejaVuSans-98\"/>\n      <use x=\"152.539062\" xlink:href=\"#DejaVuSans-101\"/>\n      <use x=\"214.0625\" xlink:href=\"#DejaVuSans-108\"/>\n     </g>\n    </g>\n    <g id=\"line2d_16\">\n     <path d=\"M 293.645312 34.976562 \nL 313.645312 34.976562 \n\" style=\"fill:none;stroke:#ff7f0e;stroke-linecap:square;stroke-width:1.5;\"/>\n    </g>\n    <g id=\"line2d_17\"/>\n    <g id=\"text_13\">\n     <!-- prediction -->\n     <g transform=\"translate(321.645312 38.476562)scale(0.1 -0.1)\">\n      <defs>\n       <path d=\"M 18.109375 8.203125 \nL 18.109375 -20.796875 \nL 9.078125 -20.796875 \nL 9.078125 54.6875 \nL 18.109375 54.6875 \nL 18.109375 46.390625 \nQ 20.953125 51.265625 25.265625 53.625 \nQ 29.59375 56 35.59375 56 \nQ 45.5625 56 51.78125 48.09375 \nQ 58.015625 40.1875 58.015625 27.296875 \nQ 58.015625 14.40625 51.78125 6.484375 \nQ 45.5625 -1.421875 35.59375 -1.421875 \nQ 29.59375 -1.421875 25.265625 0.953125 \nQ 20.953125 3.328125 18.109375 8.203125 \nz\nM 48.6875 27.296875 \nQ 48.6875 37.203125 44.609375 42.84375 \nQ 40.53125 48.484375 33.40625 48.484375 \nQ 26.265625 48.484375 22.1875 42.84375 \nQ 18.109375 37.203125 18.109375 27.296875 \nQ 18.109375 17.390625 22.1875 11.75 \nQ 26.265625 6.109375 33.40625 6.109375 \nQ 40.53125 6.109375 44.609375 11.75 \nQ 48.6875 17.390625 48.6875 27.296875 \nz\n\" id=\"DejaVuSans-112\"/>\n       <path d=\"M 41.109375 46.296875 \nQ 39.59375 47.171875 37.8125 47.578125 \nQ 36.03125 48 33.890625 48 \nQ 26.265625 48 22.1875 43.046875 \nQ 18.109375 38.09375 18.109375 28.8125 \nL 18.109375 0 \nL 9.078125 0 \nL 9.078125 54.6875 \nL 18.109375 54.6875 \nL 18.109375 46.1875 \nQ 20.953125 51.171875 25.484375 53.578125 \nQ 30.03125 56 36.53125 56 \nQ 37.453125 56 38.578125 55.875 \nQ 39.703125 55.765625 41.0625 55.515625 \nz\n\" id=\"DejaVuSans-114\"/>\n       <path d=\"M 45.40625 46.390625 \nL 45.40625 75.984375 \nL 54.390625 75.984375 \nL 54.390625 0 \nL 45.40625 0 \nL 45.40625 8.203125 \nQ 42.578125 3.328125 38.25 0.953125 \nQ 33.9375 -1.421875 27.875 -1.421875 \nQ 17.96875 -1.421875 11.734375 6.484375 \nQ 5.515625 14.40625 5.515625 27.296875 \nQ 5.515625 40.1875 11.734375 48.09375 \nQ 17.96875 56 27.875 56 \nQ 33.9375 56 38.25 53.625 \nQ 42.578125 51.265625 45.40625 46.390625 \nz\nM 14.796875 27.296875 \nQ 14.796875 17.390625 18.875 11.75 \nQ 22.953125 6.109375 30.078125 6.109375 \nQ 37.203125 6.109375 41.296875 11.75 \nQ 45.40625 17.390625 45.40625 27.296875 \nQ 45.40625 37.203125 41.296875 42.84375 \nQ 37.203125 48.484375 30.078125 48.484375 \nQ 22.953125 48.484375 18.875 42.84375 \nQ 14.796875 37.203125 14.796875 27.296875 \nz\n\" id=\"DejaVuSans-100\"/>\n       <path d=\"M 9.421875 54.6875 \nL 18.40625 54.6875 \nL 18.40625 0 \nL 9.421875 0 \nz\nM 9.421875 75.984375 \nL 18.40625 75.984375 \nL 18.40625 64.59375 \nL 9.421875 64.59375 \nz\n\" id=\"DejaVuSans-105\"/>\n       <path d=\"M 48.78125 52.59375 \nL 48.78125 44.1875 \nQ 44.96875 46.296875 41.140625 47.34375 \nQ 37.3125 48.390625 33.40625 48.390625 \nQ 24.65625 48.390625 19.8125 42.84375 \nQ 14.984375 37.3125 14.984375 27.296875 \nQ 14.984375 17.28125 19.8125 11.734375 \nQ 24.65625 6.203125 33.40625 6.203125 \nQ 37.3125 6.203125 41.140625 7.25 \nQ 44.96875 8.296875 48.78125 10.40625 \nL 48.78125 2.09375 \nQ 45.015625 0.34375 40.984375 -0.53125 \nQ 36.96875 -1.421875 32.421875 -1.421875 \nQ 20.0625 -1.421875 12.78125 6.34375 \nQ 5.515625 14.109375 5.515625 27.296875 \nQ 5.515625 40.671875 12.859375 48.328125 \nQ 20.21875 56 33.015625 56 \nQ 37.15625 56 41.109375 55.140625 \nQ 45.0625 54.296875 48.78125 52.59375 \nz\n\" id=\"DejaVuSans-99\"/>\n       <path d=\"M 18.3125 70.21875 \nL 18.3125 54.6875 \nL 36.8125 54.6875 \nL 36.8125 47.703125 \nL 18.3125 47.703125 \nL 18.3125 18.015625 \nQ 18.3125 11.328125 20.140625 9.421875 \nQ 21.96875 7.515625 27.59375 7.515625 \nL 36.8125 7.515625 \nL 36.8125 0 \nL 27.59375 0 \nQ 17.1875 0 13.234375 3.875 \nQ 9.28125 7.765625 9.28125 18.015625 \nL 9.28125 47.703125 \nL 2.6875 47.703125 \nL 2.6875 54.6875 \nL 9.28125 54.6875 \nL 9.28125 70.21875 \nz\n\" id=\"DejaVuSans-116\"/>\n       <path d=\"M 30.609375 48.390625 \nQ 23.390625 48.390625 19.1875 42.75 \nQ 14.984375 37.109375 14.984375 27.296875 \nQ 14.984375 17.484375 19.15625 11.84375 \nQ 23.34375 6.203125 30.609375 6.203125 \nQ 37.796875 6.203125 41.984375 11.859375 \nQ 46.1875 17.53125 46.1875 27.296875 \nQ 46.1875 37.015625 41.984375 42.703125 \nQ 37.796875 48.390625 30.609375 48.390625 \nz\nM 30.609375 56 \nQ 42.328125 56 49.015625 48.375 \nQ 55.71875 40.765625 55.71875 27.296875 \nQ 55.71875 13.875 49.015625 6.21875 \nQ 42.328125 -1.421875 30.609375 -1.421875 \nQ 18.84375 -1.421875 12.171875 6.21875 \nQ 5.515625 13.875 5.515625 27.296875 \nQ 5.515625 40.765625 12.171875 48.375 \nQ 18.84375 56 30.609375 56 \nz\n\" id=\"DejaVuSans-111\"/>\n       <path d=\"M 54.890625 33.015625 \nL 54.890625 0 \nL 45.90625 0 \nL 45.90625 32.71875 \nQ 45.90625 40.484375 42.875 44.328125 \nQ 39.84375 48.1875 33.796875 48.1875 \nQ 26.515625 48.1875 22.3125 43.546875 \nQ 18.109375 38.921875 18.109375 30.90625 \nL 18.109375 0 \nL 9.078125 0 \nL 9.078125 54.6875 \nL 18.109375 54.6875 \nL 18.109375 46.1875 \nQ 21.34375 51.125 25.703125 53.5625 \nQ 30.078125 56 35.796875 56 \nQ 45.21875 56 50.046875 50.171875 \nQ 54.890625 44.34375 54.890625 33.015625 \nz\n\" id=\"DejaVuSans-110\"/>\n      </defs>\n      <use xlink:href=\"#DejaVuSans-112\"/>\n      <use x=\"63.476562\" xlink:href=\"#DejaVuSans-114\"/>\n      <use x=\"102.339844\" xlink:href=\"#DejaVuSans-101\"/>\n      <use x=\"163.863281\" xlink:href=\"#DejaVuSans-100\"/>\n      <use x=\"227.339844\" xlink:href=\"#DejaVuSans-105\"/>\n      <use x=\"255.123047\" xlink:href=\"#DejaVuSans-99\"/>\n      <use x=\"310.103516\" xlink:href=\"#DejaVuSans-116\"/>\n      <use x=\"349.3125\" xlink:href=\"#DejaVuSans-105\"/>\n      <use x=\"377.095703\" xlink:href=\"#DejaVuSans-111\"/>\n      <use x=\"438.277344\" xlink:href=\"#DejaVuSans-110\"/>\n     </g>\n    </g>\n   </g>\n  </g>\n </g>\n <defs>\n  <clipPath id=\"p877c59c96b\">\n   <rect height=\"217.44\" width=\"334.8\" x=\"46.0125\" y=\"7.2\"/>\n  </clipPath>\n </defs>\n</svg>\n",
      "image/png": "[encoded data removed]"
     },
     "metadata": {
      "needs_background": "light"
     }
    }
   ],
   "source": [
    "plt.plot(results.index, results.label)\n",
    "plt.plot(results.index, results.prediction)\n",
    "plt.legend(['label', 'prediction'])\n",
    "plt.show()"
   ]
  },
  {
   "cell_type": "code",
   "execution_count": 51,
   "metadata": {},
   "outputs": [],
   "source": [
    "spark.stop()"
   ]
  }
 ]
}