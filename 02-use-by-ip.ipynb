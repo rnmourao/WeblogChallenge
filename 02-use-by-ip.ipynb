{
 "metadata": {
  "language_info": {
   "codemirror_mode": {
    "name": "ipython",
    "version": 3
   },
   "file_extension": ".py",
   "mimetype": "text/x-python",
   "name": "python",
   "nbconvert_exporter": "python",
   "pygments_lexer": "ipython3",
   "version": "3.8.2-final"
  },
  "orig_nbformat": 2,
  "kernelspec": {
   "name": "Python 3.8.2 64-bit ('venv')",
   "display_name": "Python 3.8.2 64-bit ('venv')",
   "metadata": {
    "interpreter": {
     "hash": "2213592b4299e9f91d4a2708979e9e16ce1a6b9567b6946a5b9fb8c28aec46ae"
    }
   }
  }
 },
 "nbformat": 4,
 "nbformat_minor": 2,
 "cells": [
  {
   "source": [
    "## 2. Predict the session length for a given IP"
   ],
   "cell_type": "markdown",
   "metadata": {}
  },
  {
   "cell_type": "code",
   "execution_count": 1,
   "metadata": {},
   "outputs": [],
   "source": [
    "from pyspark.sql import SparkSession\n",
    "from pyspark import SparkContext\n",
    "from pyspark.sql.window import Window\n",
    "from pyspark.sql.functions import lag, to_timestamp, col, when, sum, avg, count, split, explode, udf, collect_list, monotonically_increasing_id, row_number, size\n",
    "from pyspark import Row\n",
    "from pyspark.ml.linalg import Vectors, VectorUDT\n",
    "from pyspark.sql.types import ArrayType, TimestampType\n",
    "import datetime\n",
    "from matplotlib import pyplot as plt"
   ]
  },
  {
   "cell_type": "code",
   "execution_count": 2,
   "metadata": {},
   "outputs": [],
   "source": [
    "from pyspark.ml.feature import VectorAssembler, OneHotEncoder, StringIndexer\n",
    "from pyspark.ml.regression import RandomForestRegressor, LinearRegression\n",
    "from pyspark.ml.tuning import CrossValidator, ParamGridBuilder\n",
    "from pyspark.ml.evaluation import RegressionEvaluator"
   ]
  },
  {
   "cell_type": "code",
   "execution_count": 3,
   "metadata": {},
   "outputs": [],
   "source": [
    "sc = SparkContext.getOrCreate()"
   ]
  },
  {
   "cell_type": "code",
   "execution_count": 4,
   "metadata": {},
   "outputs": [],
   "source": [
    "spark = SparkSession.builder.getOrCreate()"
   ]
  },
  {
   "cell_type": "code",
   "execution_count": 5,
   "metadata": {},
   "outputs": [],
   "source": [
    "df = spark.read \\\n",
    "       .format(\"csv\") \\\n",
    "       .option(\"header\", \"true\") \\\n",
    "       .option(\"inferSchema\", \"true\") \\\n",
    "       .load(\"data/sessions/*.csv\")"
   ]
  },
  {
   "cell_type": "code",
   "execution_count": 6,
   "metadata": {
    "tags": []
   },
   "outputs": [
    {
     "output_type": "execute_result",
     "data": {
      "text/plain": [
       "           user_id  user_session_id  minutes\n",
       "0   113.193.98.244                0       19\n",
       "1   115.250.76.126                0       16\n",
       "2   103.250.155.27                0       16\n",
       "3   110.227.71.215                0       16\n",
       "4    119.81.61.166                3       20\n",
       "5  122.165.107.203                0       16\n",
       "6   120.138.116.67                1       32\n",
       "7    180.215.235.1                0       17\n",
       "8  192.193.116.143                0       16\n",
       "9   43.251.172.133                0       17"
      ],
      "text/html": "<div>\n<style scoped>\n    .dataframe tbody tr th:only-of-type {\n        vertical-align: middle;\n    }\n\n    .dataframe tbody tr th {\n        vertical-align: top;\n    }\n\n    .dataframe thead th {\n        text-align: right;\n    }\n</style>\n<table border=\"1\" class=\"dataframe\">\n  <thead>\n    <tr style=\"text-align: right;\">\n      <th></th>\n      <th>user_id</th>\n      <th>user_session_id</th>\n      <th>minutes</th>\n    </tr>\n  </thead>\n  <tbody>\n    <tr>\n      <th>0</th>\n      <td>113.193.98.244</td>\n      <td>0</td>\n      <td>19</td>\n    </tr>\n    <tr>\n      <th>1</th>\n      <td>115.250.76.126</td>\n      <td>0</td>\n      <td>16</td>\n    </tr>\n    <tr>\n      <th>2</th>\n      <td>103.250.155.27</td>\n      <td>0</td>\n      <td>16</td>\n    </tr>\n    <tr>\n      <th>3</th>\n      <td>110.227.71.215</td>\n      <td>0</td>\n      <td>16</td>\n    </tr>\n    <tr>\n      <th>4</th>\n      <td>119.81.61.166</td>\n      <td>3</td>\n      <td>20</td>\n    </tr>\n    <tr>\n      <th>5</th>\n      <td>122.165.107.203</td>\n      <td>0</td>\n      <td>16</td>\n    </tr>\n    <tr>\n      <th>6</th>\n      <td>120.138.116.67</td>\n      <td>1</td>\n      <td>32</td>\n    </tr>\n    <tr>\n      <th>7</th>\n      <td>180.215.235.1</td>\n      <td>0</td>\n      <td>17</td>\n    </tr>\n    <tr>\n      <th>8</th>\n      <td>192.193.116.143</td>\n      <td>0</td>\n      <td>16</td>\n    </tr>\n    <tr>\n      <th>9</th>\n      <td>43.251.172.133</td>\n      <td>0</td>\n      <td>17</td>\n    </tr>\n  </tbody>\n</table>\n</div>"
     },
     "metadata": {},
     "execution_count": 6
    }
   ],
   "source": [
    "df.limit(10).toPandas()"
   ]
  },
  {
   "cell_type": "code",
   "execution_count": 7,
   "metadata": {
    "tags": []
   },
   "outputs": [
    {
     "output_type": "execute_result",
     "data": {
      "text/plain": [
       "[('user_id', 'string'), ('user_session_id', 'int'), ('minutes', 'int')]"
      ]
     },
     "metadata": {},
     "execution_count": 7
    }
   ],
   "source": [
    "df.dtypes"
   ]
  },
  {
   "cell_type": "code",
   "execution_count": 8,
   "metadata": {},
   "outputs": [
    {
     "output_type": "stream",
     "name": "stdout",
     "text": [
      "+---------------+---------------+-----+\n|        user_id|user_session_id|label|\n+---------------+---------------+-----+\n| 113.193.98.244|              0|   19|\n| 115.250.76.126|              0|   16|\n| 103.250.155.27|              0|   16|\n| 110.227.71.215|              0|   16|\n|  119.81.61.166|              3|   20|\n|122.165.107.203|              0|   16|\n| 120.138.116.67|              1|   32|\n|  180.215.235.1|              0|   17|\n|192.193.116.143|              0|   16|\n| 43.251.172.133|              0|   17|\n|  46.236.26.103|              0|   16|\n| 117.211.82.178|              0|   30|\n| 117.221.134.55|              0|   16|\n| 182.69.222.108|              0|   16|\n|  70.39.187.252|              0|   18|\n|     1.38.23.15|              0|   16|\n|106.216.145.218|              0|   17|\n| 106.51.241.129|              0|   17|\n|   122.161.6.87|              0|   16|\n|     1.23.14.99|              0|   16|\n+---------------+---------------+-----+\nonly showing top 20 rows\n\n"
     ]
    }
   ],
   "source": [
    "df = df.withColumnRenamed('minutes', 'label')\n",
    "df.show()"
   ]
  },
  {
   "cell_type": "code",
   "execution_count": 9,
   "metadata": {},
   "outputs": [
    {
     "output_type": "stream",
     "name": "stdout",
     "text": [
      "+---------------+---------------+-----+--------------------+\n|        user_id|user_session_id|label|                  ip|\n+---------------+---------------+-----+--------------------+\n| 113.193.98.244|              0|   19| [113, 193, 98, 244]|\n| 115.250.76.126|              0|   16| [115, 250, 76, 126]|\n| 103.250.155.27|              0|   16| [103, 250, 155, 27]|\n| 110.227.71.215|              0|   16| [110, 227, 71, 215]|\n|  119.81.61.166|              3|   20|  [119, 81, 61, 166]|\n|122.165.107.203|              0|   16|[122, 165, 107, 203]|\n| 120.138.116.67|              1|   32| [120, 138, 116, 67]|\n|  180.215.235.1|              0|   17|  [180, 215, 235, 1]|\n|192.193.116.143|              0|   16|[192, 193, 116, 143]|\n| 43.251.172.133|              0|   17| [43, 251, 172, 133]|\n|  46.236.26.103|              0|   16|  [46, 236, 26, 103]|\n| 117.211.82.178|              0|   30| [117, 211, 82, 178]|\n| 117.221.134.55|              0|   16| [117, 221, 134, 55]|\n| 182.69.222.108|              0|   16| [182, 69, 222, 108]|\n|  70.39.187.252|              0|   18|  [70, 39, 187, 252]|\n|     1.38.23.15|              0|   16|     [1, 38, 23, 15]|\n|106.216.145.218|              0|   17|[106, 216, 145, 218]|\n| 106.51.241.129|              0|   17| [106, 51, 241, 129]|\n|   122.161.6.87|              0|   16|   [122, 161, 6, 87]|\n|     1.23.14.99|              0|   16|     [1, 23, 14, 99]|\n+---------------+---------------+-----+--------------------+\nonly showing top 20 rows\n\n"
     ]
    }
   ],
   "source": [
    "df = df.withColumn('ip', split(col('user_id'), '\\.'))\n",
    "df.show()"
   ]
  },
  {
   "cell_type": "code",
   "execution_count": 10,
   "metadata": {},
   "outputs": [
    {
     "output_type": "execute_result",
     "data": {
      "text/plain": [
       "[('user_id', 'string'),\n",
       " ('user_session_id', 'int'),\n",
       " ('label', 'int'),\n",
       " ('ip', 'array<string>')]"
      ]
     },
     "metadata": {},
     "execution_count": 10
    }
   ],
   "source": [
    "df.dtypes"
   ]
  },
  {
   "cell_type": "code",
   "execution_count": 11,
   "metadata": {},
   "outputs": [],
   "source": [
    "df = df.select(df.ip[0].alias('ip_0'), df.ip[1].alias('ip_1'), df.ip[2].alias('ip_2'), df.ip[3].alias('ip_3'), 'label')"
   ]
  },
  {
   "cell_type": "code",
   "execution_count": 12,
   "metadata": {},
   "outputs": [
    {
     "output_type": "execute_result",
     "data": {
      "text/plain": [
       "['ip_0', 'ip_1', 'ip_2', 'ip_3']"
      ]
     },
     "metadata": {},
     "execution_count": 12
    }
   ],
   "source": [
    "features = [f for f in df.schema.names if f != 'label']\n",
    "features"
   ]
  },
  {
   "cell_type": "code",
   "execution_count": 13,
   "metadata": {},
   "outputs": [
    {
     "output_type": "stream",
     "name": "stdout",
     "text": [
      "+----+----+----+----+-----+-------+-------+-------+-------+\n|ip_0|ip_1|ip_2|ip_3|label|ip_0_ix|ip_1_ix|ip_2_ix|ip_3_ix|\n+----+----+----+----+-----+-------+-------+-------+-------+\n| 113| 193|  98| 244|   19|   33.0|   37.0|  153.0|  224.0|\n| 115| 250|  76| 126|   16|    7.0|   25.0|  143.0|   69.0|\n| 103| 250| 155|  27|   16|    6.0|   25.0|  120.0|   84.0|\n| 110| 227|  71| 215|   16|   45.0|   39.0|   49.0|  207.0|\n| 119|  81|  61| 166|   20|   35.0|  245.0|   23.0|   48.0|\n| 122| 165| 107| 203|   16|    2.0|  178.0|    0.0|  144.0|\n| 120| 138| 116|  67|   32|   20.0|  198.0|  127.0|   56.0|\n| 180| 215| 235|   1|   17|   21.0|    8.0|  194.0|   25.0|\n| 192| 193| 116| 143|   16|   47.0|   37.0|  127.0|  146.0|\n|  43| 251| 172| 133|   17|   27.0|   56.0|   86.0|   81.0|\n|  46| 236|  26| 103|   16|   72.0|   99.0|  164.0|   75.0|\n| 117| 211|  82| 178|   30|    0.0|   86.0|   44.0|   11.0|\n| 117| 221| 134|  55|   16|    0.0|   29.0|   34.0|  122.0|\n| 182|  69| 222| 108|   16|    5.0|   87.0|  255.0|  135.0|\n|  70|  39| 187| 252|   18|   29.0|    0.0|   18.0|  196.0|\n|   1|  38|  23|  15|   16|    3.0|   34.0|   52.0|  198.0|\n| 106| 216| 145| 218|   17|    1.0|   65.0|  101.0|   63.0|\n| 106|  51| 241| 129|   17|    1.0|    5.0|   81.0|  142.0|\n| 122| 161|   6|  87|   16|    2.0|   67.0|   93.0|  234.0|\n|   1|  23|  14|  99|   16|    3.0|   61.0|    9.0|   86.0|\n+----+----+----+----+-----+-------+-------+-------+-------+\nonly showing top 20 rows\n\n"
     ]
    }
   ],
   "source": [
    "for feature in features:\n",
    "    indexer = StringIndexer(inputCol=feature, outputCol=feature + '_ix')\n",
    "    df = indexer.fit(df).transform(df)\n",
    "df.show()"
   ]
  },
  {
   "cell_type": "code",
   "execution_count": 14,
   "metadata": {},
   "outputs": [
    {
     "output_type": "execute_result",
     "data": {
      "text/plain": [
       "['ip_0_ix', 'ip_1_ix', 'ip_2_ix', 'ip_3_ix']"
      ]
     },
     "metadata": {},
     "execution_count": 14
    }
   ],
   "source": [
    "features = [f + '_ix' for f in features]\n",
    "features"
   ]
  },
  {
   "cell_type": "code",
   "execution_count": 15,
   "metadata": {},
   "outputs": [
    {
     "output_type": "execute_result",
     "data": {
      "text/plain": [
       "['ip_0_ix_ohe', 'ip_1_ix_ohe', 'ip_2_ix_ohe', 'ip_3_ix_ohe']"
      ]
     },
     "metadata": {},
     "execution_count": 15
    }
   ],
   "source": [
    "ohe_features = [f + '_ohe' for f in features]\n",
    "ohe_features"
   ]
  },
  {
   "cell_type": "code",
   "execution_count": 16,
   "metadata": {},
   "outputs": [],
   "source": [
    "ohe = OneHotEncoder(inputCols=features, outputCols=ohe_features)\n",
    "transformer = ohe.fit(df)"
   ]
  },
  {
   "cell_type": "code",
   "execution_count": 17,
   "metadata": {},
   "outputs": [],
   "source": [
    "df = transformer.transform(df)"
   ]
  },
  {
   "cell_type": "code",
   "execution_count": 18,
   "metadata": {},
   "outputs": [
    {
     "output_type": "stream",
     "name": "stdout",
     "text": [
      "+----+----+----+----+-----+-------+-------+-------+-------+----------------+-----------------+-----------------+-----------------+\n|ip_0|ip_1|ip_2|ip_3|label|ip_0_ix|ip_1_ix|ip_2_ix|ip_3_ix|     ip_0_ix_ohe|      ip_1_ix_ohe|      ip_2_ix_ohe|      ip_3_ix_ohe|\n+----+----+----+----+-----+-------+-------+-------+-------+----------------+-----------------+-----------------+-----------------+\n| 113| 193|  98| 244|   19|   33.0|   37.0|  153.0|  224.0|(191,[33],[1.0])| (255,[37],[1.0])|(255,[153],[1.0])|(255,[224],[1.0])|\n| 115| 250|  76| 126|   16|    7.0|   25.0|  143.0|   69.0| (191,[7],[1.0])| (255,[25],[1.0])|(255,[143],[1.0])| (255,[69],[1.0])|\n| 103| 250| 155|  27|   16|    6.0|   25.0|  120.0|   84.0| (191,[6],[1.0])| (255,[25],[1.0])|(255,[120],[1.0])| (255,[84],[1.0])|\n| 110| 227|  71| 215|   16|   45.0|   39.0|   49.0|  207.0|(191,[45],[1.0])| (255,[39],[1.0])| (255,[49],[1.0])|(255,[207],[1.0])|\n| 119|  81|  61| 166|   20|   35.0|  245.0|   23.0|   48.0|(191,[35],[1.0])|(255,[245],[1.0])| (255,[23],[1.0])| (255,[48],[1.0])|\n| 122| 165| 107| 203|   16|    2.0|  178.0|    0.0|  144.0| (191,[2],[1.0])|(255,[178],[1.0])|  (255,[0],[1.0])|(255,[144],[1.0])|\n| 120| 138| 116|  67|   32|   20.0|  198.0|  127.0|   56.0|(191,[20],[1.0])|(255,[198],[1.0])|(255,[127],[1.0])| (255,[56],[1.0])|\n| 180| 215| 235|   1|   17|   21.0|    8.0|  194.0|   25.0|(191,[21],[1.0])|  (255,[8],[1.0])|(255,[194],[1.0])| (255,[25],[1.0])|\n| 192| 193| 116| 143|   16|   47.0|   37.0|  127.0|  146.0|(191,[47],[1.0])| (255,[37],[1.0])|(255,[127],[1.0])|(255,[146],[1.0])|\n|  43| 251| 172| 133|   17|   27.0|   56.0|   86.0|   81.0|(191,[27],[1.0])| (255,[56],[1.0])| (255,[86],[1.0])| (255,[81],[1.0])|\n|  46| 236|  26| 103|   16|   72.0|   99.0|  164.0|   75.0|(191,[72],[1.0])| (255,[99],[1.0])|(255,[164],[1.0])| (255,[75],[1.0])|\n| 117| 211|  82| 178|   30|    0.0|   86.0|   44.0|   11.0| (191,[0],[1.0])| (255,[86],[1.0])| (255,[44],[1.0])| (255,[11],[1.0])|\n| 117| 221| 134|  55|   16|    0.0|   29.0|   34.0|  122.0| (191,[0],[1.0])| (255,[29],[1.0])| (255,[34],[1.0])|(255,[122],[1.0])|\n| 182|  69| 222| 108|   16|    5.0|   87.0|  255.0|  135.0| (191,[5],[1.0])| (255,[87],[1.0])|      (255,[],[])|(255,[135],[1.0])|\n|  70|  39| 187| 252|   18|   29.0|    0.0|   18.0|  196.0|(191,[29],[1.0])|  (255,[0],[1.0])| (255,[18],[1.0])|(255,[196],[1.0])|\n|   1|  38|  23|  15|   16|    3.0|   34.0|   52.0|  198.0| (191,[3],[1.0])| (255,[34],[1.0])| (255,[52],[1.0])|(255,[198],[1.0])|\n| 106| 216| 145| 218|   17|    1.0|   65.0|  101.0|   63.0| (191,[1],[1.0])| (255,[65],[1.0])|(255,[101],[1.0])| (255,[63],[1.0])|\n| 106|  51| 241| 129|   17|    1.0|    5.0|   81.0|  142.0| (191,[1],[1.0])|  (255,[5],[1.0])| (255,[81],[1.0])|(255,[142],[1.0])|\n| 122| 161|   6|  87|   16|    2.0|   67.0|   93.0|  234.0| (191,[2],[1.0])| (255,[67],[1.0])| (255,[93],[1.0])|(255,[234],[1.0])|\n|   1|  23|  14|  99|   16|    3.0|   61.0|    9.0|   86.0| (191,[3],[1.0])| (255,[61],[1.0])|  (255,[9],[1.0])| (255,[86],[1.0])|\n+----+----+----+----+-----+-------+-------+-------+-------+----------------+-----------------+-----------------+-----------------+\nonly showing top 20 rows\n\n"
     ]
    }
   ],
   "source": [
    "df.show()"
   ]
  },
  {
   "cell_type": "code",
   "execution_count": 19,
   "metadata": {},
   "outputs": [],
   "source": [
    "va = VectorAssembler(inputCols=ohe_features, outputCol='features')\n",
    "df = va.transform(df)"
   ]
  },
  {
   "cell_type": "code",
   "execution_count": 20,
   "metadata": {},
   "outputs": [
    {
     "output_type": "stream",
     "name": "stdout",
     "text": [
      "+----+----+----+----+-----+-------+-------+-------+-------+----------------+-----------------+-----------------+-----------------+--------------------+\n|ip_0|ip_1|ip_2|ip_3|label|ip_0_ix|ip_1_ix|ip_2_ix|ip_3_ix|     ip_0_ix_ohe|      ip_1_ix_ohe|      ip_2_ix_ohe|      ip_3_ix_ohe|            features|\n+----+----+----+----+-----+-------+-------+-------+-------+----------------+-----------------+-----------------+-----------------+--------------------+\n| 113| 193|  98| 244|   19|   33.0|   37.0|  153.0|  224.0|(191,[33],[1.0])| (255,[37],[1.0])|(255,[153],[1.0])|(255,[224],[1.0])|(956,[33,228,599,...|\n| 115| 250|  76| 126|   16|    7.0|   25.0|  143.0|   69.0| (191,[7],[1.0])| (255,[25],[1.0])|(255,[143],[1.0])| (255,[69],[1.0])|(956,[7,216,589,7...|\n| 103| 250| 155|  27|   16|    6.0|   25.0|  120.0|   84.0| (191,[6],[1.0])| (255,[25],[1.0])|(255,[120],[1.0])| (255,[84],[1.0])|(956,[6,216,566,7...|\n| 110| 227|  71| 215|   16|   45.0|   39.0|   49.0|  207.0|(191,[45],[1.0])| (255,[39],[1.0])| (255,[49],[1.0])|(255,[207],[1.0])|(956,[45,230,495,...|\n| 119|  81|  61| 166|   20|   35.0|  245.0|   23.0|   48.0|(191,[35],[1.0])|(255,[245],[1.0])| (255,[23],[1.0])| (255,[48],[1.0])|(956,[35,436,469,...|\n| 122| 165| 107| 203|   16|    2.0|  178.0|    0.0|  144.0| (191,[2],[1.0])|(255,[178],[1.0])|  (255,[0],[1.0])|(255,[144],[1.0])|(956,[2,369,446,8...|\n| 120| 138| 116|  67|   32|   20.0|  198.0|  127.0|   56.0|(191,[20],[1.0])|(255,[198],[1.0])|(255,[127],[1.0])| (255,[56],[1.0])|(956,[20,389,573,...|\n| 180| 215| 235|   1|   17|   21.0|    8.0|  194.0|   25.0|(191,[21],[1.0])|  (255,[8],[1.0])|(255,[194],[1.0])| (255,[25],[1.0])|(956,[21,199,640,...|\n| 192| 193| 116| 143|   16|   47.0|   37.0|  127.0|  146.0|(191,[47],[1.0])| (255,[37],[1.0])|(255,[127],[1.0])|(255,[146],[1.0])|(956,[47,228,573,...|\n|  43| 251| 172| 133|   17|   27.0|   56.0|   86.0|   81.0|(191,[27],[1.0])| (255,[56],[1.0])| (255,[86],[1.0])| (255,[81],[1.0])|(956,[27,247,532,...|\n|  46| 236|  26| 103|   16|   72.0|   99.0|  164.0|   75.0|(191,[72],[1.0])| (255,[99],[1.0])|(255,[164],[1.0])| (255,[75],[1.0])|(956,[72,290,610,...|\n| 117| 211|  82| 178|   30|    0.0|   86.0|   44.0|   11.0| (191,[0],[1.0])| (255,[86],[1.0])| (255,[44],[1.0])| (255,[11],[1.0])|(956,[0,277,490,7...|\n| 117| 221| 134|  55|   16|    0.0|   29.0|   34.0|  122.0| (191,[0],[1.0])| (255,[29],[1.0])| (255,[34],[1.0])|(255,[122],[1.0])|(956,[0,220,480,8...|\n| 182|  69| 222| 108|   16|    5.0|   87.0|  255.0|  135.0| (191,[5],[1.0])| (255,[87],[1.0])|      (255,[],[])|(255,[135],[1.0])|(956,[5,278,836],...|\n|  70|  39| 187| 252|   18|   29.0|    0.0|   18.0|  196.0|(191,[29],[1.0])|  (255,[0],[1.0])| (255,[18],[1.0])|(255,[196],[1.0])|(956,[29,191,464,...|\n|   1|  38|  23|  15|   16|    3.0|   34.0|   52.0|  198.0| (191,[3],[1.0])| (255,[34],[1.0])| (255,[52],[1.0])|(255,[198],[1.0])|(956,[3,225,498,8...|\n| 106| 216| 145| 218|   17|    1.0|   65.0|  101.0|   63.0| (191,[1],[1.0])| (255,[65],[1.0])|(255,[101],[1.0])| (255,[63],[1.0])|(956,[1,256,547,7...|\n| 106|  51| 241| 129|   17|    1.0|    5.0|   81.0|  142.0| (191,[1],[1.0])|  (255,[5],[1.0])| (255,[81],[1.0])|(255,[142],[1.0])|(956,[1,196,527,8...|\n| 122| 161|   6|  87|   16|    2.0|   67.0|   93.0|  234.0| (191,[2],[1.0])| (255,[67],[1.0])| (255,[93],[1.0])|(255,[234],[1.0])|(956,[2,258,539,9...|\n|   1|  23|  14|  99|   16|    3.0|   61.0|    9.0|   86.0| (191,[3],[1.0])| (255,[61],[1.0])|  (255,[9],[1.0])| (255,[86],[1.0])|(956,[3,252,455,7...|\n+----+----+----+----+-----+-------+-------+-------+-------+----------------+-----------------+-----------------+-----------------+--------------------+\nonly showing top 20 rows\n\n"
     ]
    }
   ],
   "source": [
    "df.show()"
   ]
  },
  {
   "cell_type": "code",
   "execution_count": 21,
   "metadata": {},
   "outputs": [
    {
     "output_type": "execute_result",
     "data": {
      "text/plain": [
       "110835"
      ]
     },
     "metadata": {},
     "execution_count": 21
    }
   ],
   "source": [
    "df.count()"
   ]
  },
  {
   "cell_type": "code",
   "execution_count": 22,
   "metadata": {},
   "outputs": [
    {
     "output_type": "execute_result",
     "data": {
      "text/plain": [
       "[('ip_0', 'string'),\n",
       " ('ip_1', 'string'),\n",
       " ('ip_2', 'string'),\n",
       " ('ip_3', 'string'),\n",
       " ('label', 'int'),\n",
       " ('ip_0_ix', 'double'),\n",
       " ('ip_1_ix', 'double'),\n",
       " ('ip_2_ix', 'double'),\n",
       " ('ip_3_ix', 'double'),\n",
       " ('ip_0_ix_ohe', 'vector'),\n",
       " ('ip_1_ix_ohe', 'vector'),\n",
       " ('ip_2_ix_ohe', 'vector'),\n",
       " ('ip_3_ix_ohe', 'vector'),\n",
       " ('features', 'vector')]"
      ]
     },
     "metadata": {},
     "execution_count": 22
    }
   ],
   "source": [
    "df.dtypes"
   ]
  },
  {
   "cell_type": "code",
   "execution_count": 23,
   "metadata": {},
   "outputs": [
    {
     "output_type": "execute_result",
     "data": {
      "text/plain": [
       "(77582, 33253)"
      ]
     },
     "metadata": {},
     "execution_count": 23
    }
   ],
   "source": [
    "train, test = df.randomSplit([0.7, 0.3], seed=2020)\n",
    "train.count(), test.count()"
   ]
  },
  {
   "cell_type": "code",
   "execution_count": 24,
   "metadata": {},
   "outputs": [
    {
     "output_type": "stream",
     "name": "stdout",
     "text": [
      "Root Mean Squared Error (RMSE) on test data = 4.44103\n"
     ]
    }
   ],
   "source": [
    "algorithm = LinearRegression(featuresCol=\"features\")\n",
    "\n",
    "model = algorithm.fit(train)               \n",
    "\n",
    "predictions = model.transform(test)\n",
    "\n",
    "evaluator = RegressionEvaluator(labelCol=\"label\", predictionCol=\"prediction\", metricName=\"rmse\")    \n",
    "\n",
    "rmse = evaluator.evaluate(predictions)\n",
    "print(\"Root Mean Squared Error (RMSE) on test data = %g\" % rmse)"
   ]
  },
  {
   "cell_type": "code",
   "execution_count": 25,
   "metadata": {},
   "outputs": [
    {
     "output_type": "execute_result",
     "data": {
      "text/plain": [
       "    label  prediction\n",
       "0      16   17.505572\n",
       "1      16   18.156796\n",
       "2      32   18.138554\n",
       "3      16   17.183748\n",
       "4      16   18.073892\n",
       "5      20   17.173687\n",
       "6      17   19.297432\n",
       "7      18   19.484934\n",
       "8      16   19.010394\n",
       "9      16   16.073646\n",
       "10     17   18.414703\n",
       "11     19   17.911883\n",
       "12     17   21.268901\n",
       "13     16   18.837528\n",
       "14     16   17.270386\n",
       "15     16   17.087367\n",
       "16     17   19.801861\n",
       "17     18   19.856318\n",
       "18     16   20.809816\n",
       "19     16   17.806512\n",
       "20     16   16.944264\n",
       "21     16   19.526149\n",
       "22     16   18.308483\n",
       "23     18   19.866080\n",
       "24     16   17.335732\n",
       "25     19   17.717404"
      ],
      "text/html": "<div>\n<style scoped>\n    .dataframe tbody tr th:only-of-type {\n        vertical-align: middle;\n    }\n\n    .dataframe tbody tr th {\n        vertical-align: top;\n    }\n\n    .dataframe thead th {\n        text-align: right;\n    }\n</style>\n<table border=\"1\" class=\"dataframe\">\n  <thead>\n    <tr style=\"text-align: right;\">\n      <th></th>\n      <th>label</th>\n      <th>prediction</th>\n    </tr>\n  </thead>\n  <tbody>\n    <tr>\n      <th>0</th>\n      <td>16</td>\n      <td>17.505572</td>\n    </tr>\n    <tr>\n      <th>1</th>\n      <td>16</td>\n      <td>18.156796</td>\n    </tr>\n    <tr>\n      <th>2</th>\n      <td>32</td>\n      <td>18.138554</td>\n    </tr>\n    <tr>\n      <th>3</th>\n      <td>16</td>\n      <td>17.183748</td>\n    </tr>\n    <tr>\n      <th>4</th>\n      <td>16</td>\n      <td>18.073892</td>\n    </tr>\n    <tr>\n      <th>5</th>\n      <td>20</td>\n      <td>17.173687</td>\n    </tr>\n    <tr>\n      <th>6</th>\n      <td>17</td>\n      <td>19.297432</td>\n    </tr>\n    <tr>\n      <th>7</th>\n      <td>18</td>\n      <td>19.484934</td>\n    </tr>\n    <tr>\n      <th>8</th>\n      <td>16</td>\n      <td>19.010394</td>\n    </tr>\n    <tr>\n      <th>9</th>\n      <td>16</td>\n      <td>16.073646</td>\n    </tr>\n    <tr>\n      <th>10</th>\n      <td>17</td>\n      <td>18.414703</td>\n    </tr>\n    <tr>\n      <th>11</th>\n      <td>19</td>\n      <td>17.911883</td>\n    </tr>\n    <tr>\n      <th>12</th>\n      <td>17</td>\n      <td>21.268901</td>\n    </tr>\n    <tr>\n      <th>13</th>\n      <td>16</td>\n      <td>18.837528</td>\n    </tr>\n    <tr>\n      <th>14</th>\n      <td>16</td>\n      <td>17.270386</td>\n    </tr>\n    <tr>\n      <th>15</th>\n      <td>16</td>\n      <td>17.087367</td>\n    </tr>\n    <tr>\n      <th>16</th>\n      <td>17</td>\n      <td>19.801861</td>\n    </tr>\n    <tr>\n      <th>17</th>\n      <td>18</td>\n      <td>19.856318</td>\n    </tr>\n    <tr>\n      <th>18</th>\n      <td>16</td>\n      <td>20.809816</td>\n    </tr>\n    <tr>\n      <th>19</th>\n      <td>16</td>\n      <td>17.806512</td>\n    </tr>\n    <tr>\n      <th>20</th>\n      <td>16</td>\n      <td>16.944264</td>\n    </tr>\n    <tr>\n      <th>21</th>\n      <td>16</td>\n      <td>19.526149</td>\n    </tr>\n    <tr>\n      <th>22</th>\n      <td>16</td>\n      <td>18.308483</td>\n    </tr>\n    <tr>\n      <th>23</th>\n      <td>18</td>\n      <td>19.866080</td>\n    </tr>\n    <tr>\n      <th>24</th>\n      <td>16</td>\n      <td>17.335732</td>\n    </tr>\n    <tr>\n      <th>25</th>\n      <td>19</td>\n      <td>17.717404</td>\n    </tr>\n  </tbody>\n</table>\n</div>"
     },
     "metadata": {},
     "execution_count": 25
    }
   ],
   "source": [
    "results = predictions.select('label', 'prediction').sample(withReplacement=True, fraction=0.001, seed=2020).toPandas()\n",
    "results"
   ]
  },
  {
   "cell_type": "code",
   "execution_count": 26,
   "metadata": {},
   "outputs": [
    {
     "output_type": "display_data",
     "data": {
      "text/plain": "<Figure size 432x288 with 1 Axes>",
      "image/svg+xml": "<?xml version=\"1.0\" encoding=\"utf-8\" standalone=\"no\"?>\n<!DOCTYPE svg PUBLIC \"-//W3C//DTD SVG 1.1//EN\"\n  \"http://www.w3.org/Graphics/SVG/1.1/DTD/svg11.dtd\">\n<!-- Created with matplotlib (https://matplotlib.org/) -->\n<svg height=\"248.518125pt\" version=\"1.1\" viewBox=\"0 0 368.925 248.518125\" width=\"368.925pt\" xmlns=\"http://www.w3.org/2000/svg\" xmlns:xlink=\"http://www.w3.org/1999/xlink\">\n <metadata>\n  <rdf:RDF xmlns:cc=\"http://creativecommons.org/ns#\" xmlns:dc=\"http://purl.org/dc/elements/1.1/\" xmlns:rdf=\"http://www.w3.org/1999/02/22-rdf-syntax-ns#\">\n   <cc:Work>\n    <dc:type rdf:resource=\"http://purl.org/dc/dcmitype/StillImage\"/>\n    <dc:date>2020-10-09T19:05:35.199960</dc:date>\n    <dc:format>image/svg+xml</dc:format>\n    <dc:creator>\n     <cc:Agent>\n      <dc:title>Matplotlib v3.3.2, https://matplotlib.org/</dc:title>\n     </cc:Agent>\n    </dc:creator>\n   </cc:Work>\n  </rdf:RDF>\n </metadata>\n <defs>\n  <style type=\"text/css\">*{stroke-linecap:butt;stroke-linejoin:round;}</style>\n </defs>\n <g id=\"figure_1\">\n  <g id=\"patch_1\">\n   <path d=\"M -0 248.518125 \nL 368.925 248.518125 \nL 368.925 0 \nL -0 0 \nz\n\" style=\"fill:none;\"/>\n  </g>\n  <g id=\"axes_1\">\n   <g id=\"patch_2\">\n    <path d=\"M 26.925 224.64 \nL 361.725 224.64 \nL 361.725 7.2 \nL 26.925 7.2 \nz\n\" style=\"fill:#ffffff;\"/>\n   </g>\n   <g id=\"matplotlib.axis_1\">\n    <g id=\"xtick_1\">\n     <g id=\"line2d_1\">\n      <defs>\n       <path d=\"M 0 0 \nL 0 3.5 \n\" id=\"m9bbf3af97c\" style=\"stroke:#000000;stroke-width:0.8;\"/>\n      </defs>\n      <g>\n       <use style=\"stroke:#000000;stroke-width:0.8;\" x=\"42.143182\" xlink:href=\"#m9bbf3af97c\" y=\"224.64\"/>\n      </g>\n     </g>\n     <g id=\"text_1\">\n      <!-- 0 -->\n      <g transform=\"translate(38.961932 239.238438)scale(0.1 -0.1)\">\n       <defs>\n        <path d=\"M 31.78125 66.40625 \nQ 24.171875 66.40625 20.328125 58.90625 \nQ 16.5 51.421875 16.5 36.375 \nQ 16.5 21.390625 20.328125 13.890625 \nQ 24.171875 6.390625 31.78125 6.390625 \nQ 39.453125 6.390625 43.28125 13.890625 \nQ 47.125 21.390625 47.125 36.375 \nQ 47.125 51.421875 43.28125 58.90625 \nQ 39.453125 66.40625 31.78125 66.40625 \nz\nM 31.78125 74.21875 \nQ 44.046875 74.21875 50.515625 64.515625 \nQ 56.984375 54.828125 56.984375 36.375 \nQ 56.984375 17.96875 50.515625 8.265625 \nQ 44.046875 -1.421875 31.78125 -1.421875 \nQ 19.53125 -1.421875 13.0625 8.265625 \nQ 6.59375 17.96875 6.59375 36.375 \nQ 6.59375 54.828125 13.0625 64.515625 \nQ 19.53125 74.21875 31.78125 74.21875 \nz\n\" id=\"DejaVuSans-48\"/>\n       </defs>\n       <use xlink:href=\"#DejaVuSans-48\"/>\n      </g>\n     </g>\n    </g>\n    <g id=\"xtick_2\">\n     <g id=\"line2d_2\">\n      <g>\n       <use style=\"stroke:#000000;stroke-width:0.8;\" x=\"103.015909\" xlink:href=\"#m9bbf3af97c\" y=\"224.64\"/>\n      </g>\n     </g>\n     <g id=\"text_2\">\n      <!-- 5 -->\n      <g transform=\"translate(99.834659 239.238438)scale(0.1 -0.1)\">\n       <defs>\n        <path d=\"M 10.796875 72.90625 \nL 49.515625 72.90625 \nL 49.515625 64.59375 \nL 19.828125 64.59375 \nL 19.828125 46.734375 \nQ 21.96875 47.46875 24.109375 47.828125 \nQ 26.265625 48.1875 28.421875 48.1875 \nQ 40.625 48.1875 47.75 41.5 \nQ 54.890625 34.8125 54.890625 23.390625 \nQ 54.890625 11.625 47.5625 5.09375 \nQ 40.234375 -1.421875 26.90625 -1.421875 \nQ 22.3125 -1.421875 17.546875 -0.640625 \nQ 12.796875 0.140625 7.71875 1.703125 \nL 7.71875 11.625 \nQ 12.109375 9.234375 16.796875 8.0625 \nQ 21.484375 6.890625 26.703125 6.890625 \nQ 35.15625 6.890625 40.078125 11.328125 \nQ 45.015625 15.765625 45.015625 23.390625 \nQ 45.015625 31 40.078125 35.4375 \nQ 35.15625 39.890625 26.703125 39.890625 \nQ 22.75 39.890625 18.8125 39.015625 \nQ 14.890625 38.140625 10.796875 36.28125 \nz\n\" id=\"DejaVuSans-53\"/>\n       </defs>\n       <use xlink:href=\"#DejaVuSans-53\"/>\n      </g>\n     </g>\n    </g>\n    <g id=\"xtick_3\">\n     <g id=\"line2d_3\">\n      <g>\n       <use style=\"stroke:#000000;stroke-width:0.8;\" x=\"163.888636\" xlink:href=\"#m9bbf3af97c\" y=\"224.64\"/>\n      </g>\n     </g>\n     <g id=\"text_3\">\n      <!-- 10 -->\n      <g transform=\"translate(157.526136 239.238438)scale(0.1 -0.1)\">\n       <defs>\n        <path d=\"M 12.40625 8.296875 \nL 28.515625 8.296875 \nL 28.515625 63.921875 \nL 10.984375 60.40625 \nL 10.984375 69.390625 \nL 28.421875 72.90625 \nL 38.28125 72.90625 \nL 38.28125 8.296875 \nL 54.390625 8.296875 \nL 54.390625 0 \nL 12.40625 0 \nz\n\" id=\"DejaVuSans-49\"/>\n       </defs>\n       <use xlink:href=\"#DejaVuSans-49\"/>\n       <use x=\"63.623047\" xlink:href=\"#DejaVuSans-48\"/>\n      </g>\n     </g>\n    </g>\n    <g id=\"xtick_4\">\n     <g id=\"line2d_4\">\n      <g>\n       <use style=\"stroke:#000000;stroke-width:0.8;\" x=\"224.761364\" xlink:href=\"#m9bbf3af97c\" y=\"224.64\"/>\n      </g>\n     </g>\n     <g id=\"text_4\">\n      <!-- 15 -->\n      <g transform=\"translate(218.398864 239.238438)scale(0.1 -0.1)\">\n       <use xlink:href=\"#DejaVuSans-49\"/>\n       <use x=\"63.623047\" xlink:href=\"#DejaVuSans-53\"/>\n      </g>\n     </g>\n    </g>\n    <g id=\"xtick_5\">\n     <g id=\"line2d_5\">\n      <g>\n       <use style=\"stroke:#000000;stroke-width:0.8;\" x=\"285.634091\" xlink:href=\"#m9bbf3af97c\" y=\"224.64\"/>\n      </g>\n     </g>\n     <g id=\"text_5\">\n      <!-- 20 -->\n      <g transform=\"translate(279.271591 239.238438)scale(0.1 -0.1)\">\n       <defs>\n        <path d=\"M 19.1875 8.296875 \nL 53.609375 8.296875 \nL 53.609375 0 \nL 7.328125 0 \nL 7.328125 8.296875 \nQ 12.9375 14.109375 22.625 23.890625 \nQ 32.328125 33.6875 34.8125 36.53125 \nQ 39.546875 41.84375 41.421875 45.53125 \nQ 43.3125 49.21875 43.3125 52.78125 \nQ 43.3125 58.59375 39.234375 62.25 \nQ 35.15625 65.921875 28.609375 65.921875 \nQ 23.96875 65.921875 18.8125 64.3125 \nQ 13.671875 62.703125 7.8125 59.421875 \nL 7.8125 69.390625 \nQ 13.765625 71.78125 18.9375 73 \nQ 24.125 74.21875 28.421875 74.21875 \nQ 39.75 74.21875 46.484375 68.546875 \nQ 53.21875 62.890625 53.21875 53.421875 \nQ 53.21875 48.921875 51.53125 44.890625 \nQ 49.859375 40.875 45.40625 35.40625 \nQ 44.1875 33.984375 37.640625 27.21875 \nQ 31.109375 20.453125 19.1875 8.296875 \nz\n\" id=\"DejaVuSans-50\"/>\n       </defs>\n       <use xlink:href=\"#DejaVuSans-50\"/>\n       <use x=\"63.623047\" xlink:href=\"#DejaVuSans-48\"/>\n      </g>\n     </g>\n    </g>\n    <g id=\"xtick_6\">\n     <g id=\"line2d_6\">\n      <g>\n       <use style=\"stroke:#000000;stroke-width:0.8;\" x=\"346.506818\" xlink:href=\"#m9bbf3af97c\" y=\"224.64\"/>\n      </g>\n     </g>\n     <g id=\"text_6\">\n      <!-- 25 -->\n      <g transform=\"translate(340.144318 239.238438)scale(0.1 -0.1)\">\n       <use xlink:href=\"#DejaVuSans-50\"/>\n       <use x=\"63.623047\" xlink:href=\"#DejaVuSans-53\"/>\n      </g>\n     </g>\n    </g>\n   </g>\n   <g id=\"matplotlib.axis_2\">\n    <g id=\"ytick_1\">\n     <g id=\"line2d_7\">\n      <defs>\n       <path d=\"M 0 0 \nL -3.5 0 \n\" id=\"mbec7f805ca\" style=\"stroke:#000000;stroke-width:0.8;\"/>\n      </defs>\n      <g>\n       <use style=\"stroke:#000000;stroke-width:0.8;\" x=\"26.925\" xlink:href=\"#mbec7f805ca\" y=\"214.756364\"/>\n      </g>\n     </g>\n     <g id=\"text_7\">\n      <!-- 16 -->\n      <g transform=\"translate(7.2 218.555582)scale(0.1 -0.1)\">\n       <defs>\n        <path d=\"M 33.015625 40.375 \nQ 26.375 40.375 22.484375 35.828125 \nQ 18.609375 31.296875 18.609375 23.390625 \nQ 18.609375 15.53125 22.484375 10.953125 \nQ 26.375 6.390625 33.015625 6.390625 \nQ 39.65625 6.390625 43.53125 10.953125 \nQ 47.40625 15.53125 47.40625 23.390625 \nQ 47.40625 31.296875 43.53125 35.828125 \nQ 39.65625 40.375 33.015625 40.375 \nz\nM 52.59375 71.296875 \nL 52.59375 62.3125 \nQ 48.875 64.0625 45.09375 64.984375 \nQ 41.3125 65.921875 37.59375 65.921875 \nQ 27.828125 65.921875 22.671875 59.328125 \nQ 17.53125 52.734375 16.796875 39.40625 \nQ 19.671875 43.65625 24.015625 45.921875 \nQ 28.375 48.1875 33.59375 48.1875 \nQ 44.578125 48.1875 50.953125 41.515625 \nQ 57.328125 34.859375 57.328125 23.390625 \nQ 57.328125 12.15625 50.6875 5.359375 \nQ 44.046875 -1.421875 33.015625 -1.421875 \nQ 20.359375 -1.421875 13.671875 8.265625 \nQ 6.984375 17.96875 6.984375 36.375 \nQ 6.984375 53.65625 15.1875 63.9375 \nQ 23.390625 74.21875 37.203125 74.21875 \nQ 40.921875 74.21875 44.703125 73.484375 \nQ 48.484375 72.75 52.59375 71.296875 \nz\n\" id=\"DejaVuSans-54\"/>\n       </defs>\n       <use xlink:href=\"#DejaVuSans-49\"/>\n       <use x=\"63.623047\" xlink:href=\"#DejaVuSans-54\"/>\n      </g>\n     </g>\n    </g>\n    <g id=\"ytick_2\">\n     <g id=\"line2d_8\">\n      <g>\n       <use style=\"stroke:#000000;stroke-width:0.8;\" x=\"26.925\" xlink:href=\"#mbec7f805ca\" y=\"190.047273\"/>\n      </g>\n     </g>\n     <g id=\"text_8\">\n      <!-- 18 -->\n      <g transform=\"translate(7.2 193.846491)scale(0.1 -0.1)\">\n       <defs>\n        <path d=\"M 31.78125 34.625 \nQ 24.75 34.625 20.71875 30.859375 \nQ 16.703125 27.09375 16.703125 20.515625 \nQ 16.703125 13.921875 20.71875 10.15625 \nQ 24.75 6.390625 31.78125 6.390625 \nQ 38.8125 6.390625 42.859375 10.171875 \nQ 46.921875 13.96875 46.921875 20.515625 \nQ 46.921875 27.09375 42.890625 30.859375 \nQ 38.875 34.625 31.78125 34.625 \nz\nM 21.921875 38.8125 \nQ 15.578125 40.375 12.03125 44.71875 \nQ 8.5 49.078125 8.5 55.328125 \nQ 8.5 64.0625 14.71875 69.140625 \nQ 20.953125 74.21875 31.78125 74.21875 \nQ 42.671875 74.21875 48.875 69.140625 \nQ 55.078125 64.0625 55.078125 55.328125 \nQ 55.078125 49.078125 51.53125 44.71875 \nQ 48 40.375 41.703125 38.8125 \nQ 48.828125 37.15625 52.796875 32.3125 \nQ 56.78125 27.484375 56.78125 20.515625 \nQ 56.78125 9.90625 50.3125 4.234375 \nQ 43.84375 -1.421875 31.78125 -1.421875 \nQ 19.734375 -1.421875 13.25 4.234375 \nQ 6.78125 9.90625 6.78125 20.515625 \nQ 6.78125 27.484375 10.78125 32.3125 \nQ 14.796875 37.15625 21.921875 38.8125 \nz\nM 18.3125 54.390625 \nQ 18.3125 48.734375 21.84375 45.5625 \nQ 25.390625 42.390625 31.78125 42.390625 \nQ 38.140625 42.390625 41.71875 45.5625 \nQ 45.3125 48.734375 45.3125 54.390625 \nQ 45.3125 60.0625 41.71875 63.234375 \nQ 38.140625 66.40625 31.78125 66.40625 \nQ 25.390625 66.40625 21.84375 63.234375 \nQ 18.3125 60.0625 18.3125 54.390625 \nz\n\" id=\"DejaVuSans-56\"/>\n       </defs>\n       <use xlink:href=\"#DejaVuSans-49\"/>\n       <use x=\"63.623047\" xlink:href=\"#DejaVuSans-56\"/>\n      </g>\n     </g>\n    </g>\n    <g id=\"ytick_3\">\n     <g id=\"line2d_9\">\n      <g>\n       <use style=\"stroke:#000000;stroke-width:0.8;\" x=\"26.925\" xlink:href=\"#mbec7f805ca\" y=\"165.338182\"/>\n      </g>\n     </g>\n     <g id=\"text_9\">\n      <!-- 20 -->\n      <g transform=\"translate(7.2 169.137401)scale(0.1 -0.1)\">\n       <use xlink:href=\"#DejaVuSans-50\"/>\n       <use x=\"63.623047\" xlink:href=\"#DejaVuSans-48\"/>\n      </g>\n     </g>\n    </g>\n    <g id=\"ytick_4\">\n     <g id=\"line2d_10\">\n      <g>\n       <use style=\"stroke:#000000;stroke-width:0.8;\" x=\"26.925\" xlink:href=\"#mbec7f805ca\" y=\"140.629091\"/>\n      </g>\n     </g>\n     <g id=\"text_10\">\n      <!-- 22 -->\n      <g transform=\"translate(7.2 144.42831)scale(0.1 -0.1)\">\n       <use xlink:href=\"#DejaVuSans-50\"/>\n       <use x=\"63.623047\" xlink:href=\"#DejaVuSans-50\"/>\n      </g>\n     </g>\n    </g>\n    <g id=\"ytick_5\">\n     <g id=\"line2d_11\">\n      <g>\n       <use style=\"stroke:#000000;stroke-width:0.8;\" x=\"26.925\" xlink:href=\"#mbec7f805ca\" y=\"115.92\"/>\n      </g>\n     </g>\n     <g id=\"text_11\">\n      <!-- 24 -->\n      <g transform=\"translate(7.2 119.719219)scale(0.1 -0.1)\">\n       <defs>\n        <path d=\"M 37.796875 64.3125 \nL 12.890625 25.390625 \nL 37.796875 25.390625 \nz\nM 35.203125 72.90625 \nL 47.609375 72.90625 \nL 47.609375 25.390625 \nL 58.015625 25.390625 \nL 58.015625 17.1875 \nL 47.609375 17.1875 \nL 47.609375 0 \nL 37.796875 0 \nL 37.796875 17.1875 \nL 4.890625 17.1875 \nL 4.890625 26.703125 \nz\n\" id=\"DejaVuSans-52\"/>\n       </defs>\n       <use xlink:href=\"#DejaVuSans-50\"/>\n       <use x=\"63.623047\" xlink:href=\"#DejaVuSans-52\"/>\n      </g>\n     </g>\n    </g>\n    <g id=\"ytick_6\">\n     <g id=\"line2d_12\">\n      <g>\n       <use style=\"stroke:#000000;stroke-width:0.8;\" x=\"26.925\" xlink:href=\"#mbec7f805ca\" y=\"91.210909\"/>\n      </g>\n     </g>\n     <g id=\"text_12\">\n      <!-- 26 -->\n      <g transform=\"translate(7.2 95.010128)scale(0.1 -0.1)\">\n       <use xlink:href=\"#DejaVuSans-50\"/>\n       <use x=\"63.623047\" xlink:href=\"#DejaVuSans-54\"/>\n      </g>\n     </g>\n    </g>\n    <g id=\"ytick_7\">\n     <g id=\"line2d_13\">\n      <g>\n       <use style=\"stroke:#000000;stroke-width:0.8;\" x=\"26.925\" xlink:href=\"#mbec7f805ca\" y=\"66.501818\"/>\n      </g>\n     </g>\n     <g id=\"text_13\">\n      <!-- 28 -->\n      <g transform=\"translate(7.2 70.301037)scale(0.1 -0.1)\">\n       <use xlink:href=\"#DejaVuSans-50\"/>\n       <use x=\"63.623047\" xlink:href=\"#DejaVuSans-56\"/>\n      </g>\n     </g>\n    </g>\n    <g id=\"ytick_8\">\n     <g id=\"line2d_14\">\n      <g>\n       <use style=\"stroke:#000000;stroke-width:0.8;\" x=\"26.925\" xlink:href=\"#mbec7f805ca\" y=\"41.792727\"/>\n      </g>\n     </g>\n     <g id=\"text_14\">\n      <!-- 30 -->\n      <g transform=\"translate(7.2 45.591946)scale(0.1 -0.1)\">\n       <defs>\n        <path d=\"M 40.578125 39.3125 \nQ 47.65625 37.796875 51.625 33 \nQ 55.609375 28.21875 55.609375 21.1875 \nQ 55.609375 10.40625 48.1875 4.484375 \nQ 40.765625 -1.421875 27.09375 -1.421875 \nQ 22.515625 -1.421875 17.65625 -0.515625 \nQ 12.796875 0.390625 7.625 2.203125 \nL 7.625 11.71875 \nQ 11.71875 9.328125 16.59375 8.109375 \nQ 21.484375 6.890625 26.8125 6.890625 \nQ 36.078125 6.890625 40.9375 10.546875 \nQ 45.796875 14.203125 45.796875 21.1875 \nQ 45.796875 27.640625 41.28125 31.265625 \nQ 36.765625 34.90625 28.71875 34.90625 \nL 20.21875 34.90625 \nL 20.21875 43.015625 \nL 29.109375 43.015625 \nQ 36.375 43.015625 40.234375 45.921875 \nQ 44.09375 48.828125 44.09375 54.296875 \nQ 44.09375 59.90625 40.109375 62.90625 \nQ 36.140625 65.921875 28.71875 65.921875 \nQ 24.65625 65.921875 20.015625 65.03125 \nQ 15.375 64.15625 9.8125 62.3125 \nL 9.8125 71.09375 \nQ 15.4375 72.65625 20.34375 73.4375 \nQ 25.25 74.21875 29.59375 74.21875 \nQ 40.828125 74.21875 47.359375 69.109375 \nQ 53.90625 64.015625 53.90625 55.328125 \nQ 53.90625 49.265625 50.4375 45.09375 \nQ 46.96875 40.921875 40.578125 39.3125 \nz\n\" id=\"DejaVuSans-51\"/>\n       </defs>\n       <use xlink:href=\"#DejaVuSans-51\"/>\n       <use x=\"63.623047\" xlink:href=\"#DejaVuSans-48\"/>\n      </g>\n     </g>\n    </g>\n    <g id=\"ytick_9\">\n     <g id=\"line2d_15\">\n      <g>\n       <use style=\"stroke:#000000;stroke-width:0.8;\" x=\"26.925\" xlink:href=\"#mbec7f805ca\" y=\"17.083636\"/>\n      </g>\n     </g>\n     <g id=\"text_15\">\n      <!-- 32 -->\n      <g transform=\"translate(7.2 20.882855)scale(0.1 -0.1)\">\n       <use xlink:href=\"#DejaVuSans-51\"/>\n       <use x=\"63.623047\" xlink:href=\"#DejaVuSans-50\"/>\n      </g>\n     </g>\n    </g>\n   </g>\n   <g id=\"line2d_16\">\n    <path clip-path=\"url(#p58df43ba29)\" d=\"M 42.143182 214.756364 \nL 54.317727 214.756364 \nL 66.492273 17.083636 \nL 78.666818 214.756364 \nL 90.841364 214.756364 \nL 103.015909 165.338182 \nL 115.190455 202.401818 \nL 127.365 190.047273 \nL 139.539545 214.756364 \nL 151.714091 214.756364 \nL 163.888636 202.401818 \nL 176.063182 177.692727 \nL 188.237727 202.401818 \nL 200.412273 214.756364 \nL 212.586818 214.756364 \nL 224.761364 214.756364 \nL 236.935909 202.401818 \nL 249.110455 190.047273 \nL 261.285 214.756364 \nL 273.459545 214.756364 \nL 285.634091 214.756364 \nL 297.808636 214.756364 \nL 309.983182 214.756364 \nL 322.157727 190.047273 \nL 334.332273 214.756364 \nL 346.506818 177.692727 \n\" style=\"fill:none;stroke:#1f77b4;stroke-linecap:square;stroke-width:1.5;\"/>\n   </g>\n   <g id=\"line2d_17\">\n    <path clip-path=\"url(#p58df43ba29)\" d=\"M 42.143182 196.155705 \nL 54.317727 188.110124 \nL 66.492273 188.335502 \nL 78.666818 200.13169 \nL 90.841364 189.134366 \nL 103.015909 200.255991 \nL 115.190455 174.018086 \nL 127.365 171.70159 \nL 139.539545 177.564318 \nL 151.714091 213.846498 \nL 163.888636 184.923803 \nL 176.063182 191.13592 \nL 188.237727 149.661492 \nL 200.412273 179.699996 \nL 212.586818 199.06132 \nL 224.761364 201.322442 \nL 236.935909 167.786097 \nL 249.110455 167.113313 \nL 261.285 155.333277 \nL 273.459545 192.437728 \nL 285.634091 203.090414 \nL 297.808636 171.192401 \nL 309.983182 186.236101 \nL 322.157727 166.9927 \nL 334.332273 198.254004 \nL 346.506818 193.538614 \n\" style=\"fill:none;stroke:#ff7f0e;stroke-linecap:square;stroke-width:1.5;\"/>\n   </g>\n   <g id=\"patch_3\">\n    <path d=\"M 26.925 224.64 \nL 26.925 7.2 \n\" style=\"fill:none;stroke:#000000;stroke-linecap:square;stroke-linejoin:miter;stroke-width:0.8;\"/>\n   </g>\n   <g id=\"patch_4\">\n    <path d=\"M 361.725 224.64 \nL 361.725 7.2 \n\" style=\"fill:none;stroke:#000000;stroke-linecap:square;stroke-linejoin:miter;stroke-width:0.8;\"/>\n   </g>\n   <g id=\"patch_5\">\n    <path d=\"M 26.925 224.64 \nL 361.725 224.64 \n\" style=\"fill:none;stroke:#000000;stroke-linecap:square;stroke-linejoin:miter;stroke-width:0.8;\"/>\n   </g>\n   <g id=\"patch_6\">\n    <path d=\"M 26.925 7.2 \nL 361.725 7.2 \n\" style=\"fill:none;stroke:#000000;stroke-linecap:square;stroke-linejoin:miter;stroke-width:0.8;\"/>\n   </g>\n   <g id=\"legend_1\">\n    <g id=\"patch_7\">\n     <path d=\"M 272.557813 44.55625 \nL 354.725 44.55625 \nQ 356.725 44.55625 356.725 42.55625 \nL 356.725 14.2 \nQ 356.725 12.2 354.725 12.2 \nL 272.557813 12.2 \nQ 270.557813 12.2 270.557813 14.2 \nL 270.557813 42.55625 \nQ 270.557813 44.55625 272.557813 44.55625 \nz\n\" style=\"fill:#ffffff;opacity:0.8;stroke:#cccccc;stroke-linejoin:miter;\"/>\n    </g>\n    <g id=\"line2d_18\">\n     <path d=\"M 274.557813 20.298437 \nL 294.557813 20.298437 \n\" style=\"fill:none;stroke:#1f77b4;stroke-linecap:square;stroke-width:1.5;\"/>\n    </g>\n    <g id=\"line2d_19\"/>\n    <g id=\"text_16\">\n     <!-- label -->\n     <g transform=\"translate(302.557813 23.798437)scale(0.1 -0.1)\">\n      <defs>\n       <path d=\"M 9.421875 75.984375 \nL 18.40625 75.984375 \nL 18.40625 0 \nL 9.421875 0 \nz\n\" id=\"DejaVuSans-108\"/>\n       <path d=\"M 34.28125 27.484375 \nQ 23.390625 27.484375 19.1875 25 \nQ 14.984375 22.515625 14.984375 16.5 \nQ 14.984375 11.71875 18.140625 8.90625 \nQ 21.296875 6.109375 26.703125 6.109375 \nQ 34.1875 6.109375 38.703125 11.40625 \nQ 43.21875 16.703125 43.21875 25.484375 \nL 43.21875 27.484375 \nz\nM 52.203125 31.203125 \nL 52.203125 0 \nL 43.21875 0 \nL 43.21875 8.296875 \nQ 40.140625 3.328125 35.546875 0.953125 \nQ 30.953125 -1.421875 24.3125 -1.421875 \nQ 15.921875 -1.421875 10.953125 3.296875 \nQ 6 8.015625 6 15.921875 \nQ 6 25.140625 12.171875 29.828125 \nQ 18.359375 34.515625 30.609375 34.515625 \nL 43.21875 34.515625 \nL 43.21875 35.40625 \nQ 43.21875 41.609375 39.140625 45 \nQ 35.0625 48.390625 27.6875 48.390625 \nQ 23 48.390625 18.546875 47.265625 \nQ 14.109375 46.140625 10.015625 43.890625 \nL 10.015625 52.203125 \nQ 14.9375 54.109375 19.578125 55.046875 \nQ 24.21875 56 28.609375 56 \nQ 40.484375 56 46.34375 49.84375 \nQ 52.203125 43.703125 52.203125 31.203125 \nz\n\" id=\"DejaVuSans-97\"/>\n       <path d=\"M 48.6875 27.296875 \nQ 48.6875 37.203125 44.609375 42.84375 \nQ 40.53125 48.484375 33.40625 48.484375 \nQ 26.265625 48.484375 22.1875 42.84375 \nQ 18.109375 37.203125 18.109375 27.296875 \nQ 18.109375 17.390625 22.1875 11.75 \nQ 26.265625 6.109375 33.40625 6.109375 \nQ 40.53125 6.109375 44.609375 11.75 \nQ 48.6875 17.390625 48.6875 27.296875 \nz\nM 18.109375 46.390625 \nQ 20.953125 51.265625 25.265625 53.625 \nQ 29.59375 56 35.59375 56 \nQ 45.5625 56 51.78125 48.09375 \nQ 58.015625 40.1875 58.015625 27.296875 \nQ 58.015625 14.40625 51.78125 6.484375 \nQ 45.5625 -1.421875 35.59375 -1.421875 \nQ 29.59375 -1.421875 25.265625 0.953125 \nQ 20.953125 3.328125 18.109375 8.203125 \nL 18.109375 0 \nL 9.078125 0 \nL 9.078125 75.984375 \nL 18.109375 75.984375 \nz\n\" id=\"DejaVuSans-98\"/>\n       <path d=\"M 56.203125 29.59375 \nL 56.203125 25.203125 \nL 14.890625 25.203125 \nQ 15.484375 15.921875 20.484375 11.0625 \nQ 25.484375 6.203125 34.421875 6.203125 \nQ 39.59375 6.203125 44.453125 7.46875 \nQ 49.3125 8.734375 54.109375 11.28125 \nL 54.109375 2.78125 \nQ 49.265625 0.734375 44.1875 -0.34375 \nQ 39.109375 -1.421875 33.890625 -1.421875 \nQ 20.796875 -1.421875 13.15625 6.1875 \nQ 5.515625 13.8125 5.515625 26.8125 \nQ 5.515625 40.234375 12.765625 48.109375 \nQ 20.015625 56 32.328125 56 \nQ 43.359375 56 49.78125 48.890625 \nQ 56.203125 41.796875 56.203125 29.59375 \nz\nM 47.21875 32.234375 \nQ 47.125 39.59375 43.09375 43.984375 \nQ 39.0625 48.390625 32.421875 48.390625 \nQ 24.90625 48.390625 20.390625 44.140625 \nQ 15.875 39.890625 15.1875 32.171875 \nz\n\" id=\"DejaVuSans-101\"/>\n      </defs>\n      <use xlink:href=\"#DejaVuSans-108\"/>\n      <use x=\"27.783203\" xlink:href=\"#DejaVuSans-97\"/>\n      <use x=\"89.0625\" xlink:href=\"#DejaVuSans-98\"/>\n      <use x=\"152.539062\" xlink:href=\"#DejaVuSans-101\"/>\n      <use x=\"214.0625\" xlink:href=\"#DejaVuSans-108\"/>\n     </g>\n    </g>\n    <g id=\"line2d_20\">\n     <path d=\"M 274.557813 34.976562 \nL 294.557813 34.976562 \n\" style=\"fill:none;stroke:#ff7f0e;stroke-linecap:square;stroke-width:1.5;\"/>\n    </g>\n    <g id=\"line2d_21\"/>\n    <g id=\"text_17\">\n     <!-- prediction -->\n     <g transform=\"translate(302.557813 38.476562)scale(0.1 -0.1)\">\n      <defs>\n       <path d=\"M 18.109375 8.203125 \nL 18.109375 -20.796875 \nL 9.078125 -20.796875 \nL 9.078125 54.6875 \nL 18.109375 54.6875 \nL 18.109375 46.390625 \nQ 20.953125 51.265625 25.265625 53.625 \nQ 29.59375 56 35.59375 56 \nQ 45.5625 56 51.78125 48.09375 \nQ 58.015625 40.1875 58.015625 27.296875 \nQ 58.015625 14.40625 51.78125 6.484375 \nQ 45.5625 -1.421875 35.59375 -1.421875 \nQ 29.59375 -1.421875 25.265625 0.953125 \nQ 20.953125 3.328125 18.109375 8.203125 \nz\nM 48.6875 27.296875 \nQ 48.6875 37.203125 44.609375 42.84375 \nQ 40.53125 48.484375 33.40625 48.484375 \nQ 26.265625 48.484375 22.1875 42.84375 \nQ 18.109375 37.203125 18.109375 27.296875 \nQ 18.109375 17.390625 22.1875 11.75 \nQ 26.265625 6.109375 33.40625 6.109375 \nQ 40.53125 6.109375 44.609375 11.75 \nQ 48.6875 17.390625 48.6875 27.296875 \nz\n\" id=\"DejaVuSans-112\"/>\n       <path d=\"M 41.109375 46.296875 \nQ 39.59375 47.171875 37.8125 47.578125 \nQ 36.03125 48 33.890625 48 \nQ 26.265625 48 22.1875 43.046875 \nQ 18.109375 38.09375 18.109375 28.8125 \nL 18.109375 0 \nL 9.078125 0 \nL 9.078125 54.6875 \nL 18.109375 54.6875 \nL 18.109375 46.1875 \nQ 20.953125 51.171875 25.484375 53.578125 \nQ 30.03125 56 36.53125 56 \nQ 37.453125 56 38.578125 55.875 \nQ 39.703125 55.765625 41.0625 55.515625 \nz\n\" id=\"DejaVuSans-114\"/>\n       <path d=\"M 45.40625 46.390625 \nL 45.40625 75.984375 \nL 54.390625 75.984375 \nL 54.390625 0 \nL 45.40625 0 \nL 45.40625 8.203125 \nQ 42.578125 3.328125 38.25 0.953125 \nQ 33.9375 -1.421875 27.875 -1.421875 \nQ 17.96875 -1.421875 11.734375 6.484375 \nQ 5.515625 14.40625 5.515625 27.296875 \nQ 5.515625 40.1875 11.734375 48.09375 \nQ 17.96875 56 27.875 56 \nQ 33.9375 56 38.25 53.625 \nQ 42.578125 51.265625 45.40625 46.390625 \nz\nM 14.796875 27.296875 \nQ 14.796875 17.390625 18.875 11.75 \nQ 22.953125 6.109375 30.078125 6.109375 \nQ 37.203125 6.109375 41.296875 11.75 \nQ 45.40625 17.390625 45.40625 27.296875 \nQ 45.40625 37.203125 41.296875 42.84375 \nQ 37.203125 48.484375 30.078125 48.484375 \nQ 22.953125 48.484375 18.875 42.84375 \nQ 14.796875 37.203125 14.796875 27.296875 \nz\n\" id=\"DejaVuSans-100\"/>\n       <path d=\"M 9.421875 54.6875 \nL 18.40625 54.6875 \nL 18.40625 0 \nL 9.421875 0 \nz\nM 9.421875 75.984375 \nL 18.40625 75.984375 \nL 18.40625 64.59375 \nL 9.421875 64.59375 \nz\n\" id=\"DejaVuSans-105\"/>\n       <path d=\"M 48.78125 52.59375 \nL 48.78125 44.1875 \nQ 44.96875 46.296875 41.140625 47.34375 \nQ 37.3125 48.390625 33.40625 48.390625 \nQ 24.65625 48.390625 19.8125 42.84375 \nQ 14.984375 37.3125 14.984375 27.296875 \nQ 14.984375 17.28125 19.8125 11.734375 \nQ 24.65625 6.203125 33.40625 6.203125 \nQ 37.3125 6.203125 41.140625 7.25 \nQ 44.96875 8.296875 48.78125 10.40625 \nL 48.78125 2.09375 \nQ 45.015625 0.34375 40.984375 -0.53125 \nQ 36.96875 -1.421875 32.421875 -1.421875 \nQ 20.0625 -1.421875 12.78125 6.34375 \nQ 5.515625 14.109375 5.515625 27.296875 \nQ 5.515625 40.671875 12.859375 48.328125 \nQ 20.21875 56 33.015625 56 \nQ 37.15625 56 41.109375 55.140625 \nQ 45.0625 54.296875 48.78125 52.59375 \nz\n\" id=\"DejaVuSans-99\"/>\n       <path d=\"M 18.3125 70.21875 \nL 18.3125 54.6875 \nL 36.8125 54.6875 \nL 36.8125 47.703125 \nL 18.3125 47.703125 \nL 18.3125 18.015625 \nQ 18.3125 11.328125 20.140625 9.421875 \nQ 21.96875 7.515625 27.59375 7.515625 \nL 36.8125 7.515625 \nL 36.8125 0 \nL 27.59375 0 \nQ 17.1875 0 13.234375 3.875 \nQ 9.28125 7.765625 9.28125 18.015625 \nL 9.28125 47.703125 \nL 2.6875 47.703125 \nL 2.6875 54.6875 \nL 9.28125 54.6875 \nL 9.28125 70.21875 \nz\n\" id=\"DejaVuSans-116\"/>\n       <path d=\"M 30.609375 48.390625 \nQ 23.390625 48.390625 19.1875 42.75 \nQ 14.984375 37.109375 14.984375 27.296875 \nQ 14.984375 17.484375 19.15625 11.84375 \nQ 23.34375 6.203125 30.609375 6.203125 \nQ 37.796875 6.203125 41.984375 11.859375 \nQ 46.1875 17.53125 46.1875 27.296875 \nQ 46.1875 37.015625 41.984375 42.703125 \nQ 37.796875 48.390625 30.609375 48.390625 \nz\nM 30.609375 56 \nQ 42.328125 56 49.015625 48.375 \nQ 55.71875 40.765625 55.71875 27.296875 \nQ 55.71875 13.875 49.015625 6.21875 \nQ 42.328125 -1.421875 30.609375 -1.421875 \nQ 18.84375 -1.421875 12.171875 6.21875 \nQ 5.515625 13.875 5.515625 27.296875 \nQ 5.515625 40.765625 12.171875 48.375 \nQ 18.84375 56 30.609375 56 \nz\n\" id=\"DejaVuSans-111\"/>\n       <path d=\"M 54.890625 33.015625 \nL 54.890625 0 \nL 45.90625 0 \nL 45.90625 32.71875 \nQ 45.90625 40.484375 42.875 44.328125 \nQ 39.84375 48.1875 33.796875 48.1875 \nQ 26.515625 48.1875 22.3125 43.546875 \nQ 18.109375 38.921875 18.109375 30.90625 \nL 18.109375 0 \nL 9.078125 0 \nL 9.078125 54.6875 \nL 18.109375 54.6875 \nL 18.109375 46.1875 \nQ 21.34375 51.125 25.703125 53.5625 \nQ 30.078125 56 35.796875 56 \nQ 45.21875 56 50.046875 50.171875 \nQ 54.890625 44.34375 54.890625 33.015625 \nz\n\" id=\"DejaVuSans-110\"/>\n      </defs>\n      <use xlink:href=\"#DejaVuSans-112\"/>\n      <use x=\"63.476562\" xlink:href=\"#DejaVuSans-114\"/>\n      <use x=\"102.339844\" xlink:href=\"#DejaVuSans-101\"/>\n      <use x=\"163.863281\" xlink:href=\"#DejaVuSans-100\"/>\n      <use x=\"227.339844\" xlink:href=\"#DejaVuSans-105\"/>\n      <use x=\"255.123047\" xlink:href=\"#DejaVuSans-99\"/>\n      <use x=\"310.103516\" xlink:href=\"#DejaVuSans-116\"/>\n      <use x=\"349.3125\" xlink:href=\"#DejaVuSans-105\"/>\n      <use x=\"377.095703\" xlink:href=\"#DejaVuSans-111\"/>\n      <use x=\"438.277344\" xlink:href=\"#DejaVuSans-110\"/>\n     </g>\n    </g>\n   </g>\n  </g>\n </g>\n <defs>\n  <clipPath id=\"p58df43ba29\">\n   <rect height=\"217.44\" width=\"334.8\" x=\"26.925\" y=\"7.2\"/>\n  </clipPath>\n </defs>\n</svg>\n",
      "image/png": "[encoded data removed]"
     },
     "metadata": {
      "needs_background": "light"
     }
    }
   ],
   "source": [
    "plt.plot(results.index, results.label)\n",
    "plt.plot(results.index, results.prediction)\n",
    "plt.legend(['label', 'prediction'])\n",
    "plt.show()"
   ]
  },
  {
   "cell_type": "code",
   "execution_count": 27,
   "metadata": {},
   "outputs": [],
   "source": [
    "spark.stop()"
   ]
  }
 ]
}