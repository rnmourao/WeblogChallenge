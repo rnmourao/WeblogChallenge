{
 "metadata": {
  "language_info": {
   "codemirror_mode": {
    "name": "ipython",
    "version": 3
   },
   "file_extension": ".py",
   "mimetype": "text/x-python",
   "name": "python",
   "nbconvert_exporter": "python",
   "pygments_lexer": "ipython3",
   "version": "3.8.2-final"
  },
  "orig_nbformat": 2,
  "kernelspec": {
   "name": "Python 3.8.2 64-bit ('venv')",
   "display_name": "Python 3.8.2 64-bit ('venv')",
   "metadata": {
    "interpreter": {
     "hash": "2213592b4299e9f91d4a2708979e9e16ce1a6b9567b6946a5b9fb8c28aec46ae"
    }
   }
  }
 },
 "nbformat": 4,
 "nbformat_minor": 2,
 "cells": [
  {
   "cell_type": "code",
   "execution_count": 1,
   "metadata": {},
   "outputs": [],
   "source": [
    "from pyspark.sql import SparkSession\n",
    "from pyspark import SparkContext\n",
    "from pyspark.sql.window import Window\n",
    "from pyspark.sql.functions import lag, to_timestamp, col, when, sum, avg, count, split, explode, udf, collect_list, monotonically_increasing_id, row_number, size\n",
    "from pyspark import Row\n",
    "from pyspark.ml.linalg import Vectors, VectorUDT\n",
    "from pyspark.sql.types import ArrayType, TimestampType\n",
    "import datetime\n",
    "from matplotlib import pyplot as plt"
   ]
  },
  {
   "cell_type": "code",
   "execution_count": 2,
   "metadata": {},
   "outputs": [],
   "source": [
    "sc = SparkContext.getOrCreate()"
   ]
  },
  {
   "cell_type": "code",
   "execution_count": 3,
   "metadata": {},
   "outputs": [],
   "source": [
    "spark = SparkSession.builder.getOrCreate()"
   ]
  },
  {
   "cell_type": "code",
   "execution_count": 4,
   "metadata": {},
   "outputs": [],
   "source": [
    "df = spark.read \\\n",
    "          .option(\"sep\", \" \") \\\n",
    "          .option(\"inferSchema\", \"true\") \\\n",
    "          .csv('data/2015_07_22_mktplace_shop_web_log_sample.log')"
   ]
  },
  {
   "cell_type": "code",
   "execution_count": 5,
   "metadata": {
    "tags": []
   },
   "outputs": [
    {
     "output_type": "execute_result",
     "data": {
      "text/plain": [
       "                           _c0               _c1                    _c2  \\\n",
       "0  2015-07-22T09:00:28.019143Z  marketpalce-shop  123.242.248.130:54635   \n",
       "1  2015-07-22T09:00:27.894580Z  marketpalce-shop    203.91.211.44:51402   \n",
       "2  2015-07-22T09:00:27.885745Z  marketpalce-shop      1.39.32.179:56419   \n",
       "3  2015-07-22T09:00:28.048369Z  marketpalce-shop   180.179.213.94:48725   \n",
       "4  2015-07-22T09:00:28.036251Z  marketpalce-shop   120.59.192.208:13527   \n",
       "5  2015-07-22T09:00:28.033793Z  marketpalce-shop   117.239.195.66:50524   \n",
       "6  2015-07-22T09:00:28.055029Z  marketpalce-shop    101.60.186.26:33177   \n",
       "7  2015-07-22T09:00:28.050298Z  marketpalce-shop     59.183.41.47:62014   \n",
       "8  2015-07-22T09:00:28.059081Z  marketpalce-shop   117.239.195.66:50538   \n",
       "9  2015-07-22T09:00:28.054939Z  marketpalce-shop    183.83.237.83:49687   \n",
       "\n",
       "             _c3       _c4       _c5       _c6  _c7  _c8  _c9   _c10  \\\n",
       "0  10.0.6.158:80  0.000022  0.026109  0.000020  200  200    0    699   \n",
       "1  10.0.4.150:80  0.000024  0.153340  0.000026  200  200    0   1497   \n",
       "2  10.0.4.244:80  0.000024  0.164958  0.000017  200  200    0    157   \n",
       "3  10.0.6.108:80  0.000020  0.002333  0.000021  200  200    0  35734   \n",
       "4  10.0.4.217:80  0.000024  0.015091  0.000016  200  200   68    640   \n",
       "5  10.0.6.195:80  0.000024  0.021570  0.000021  200  200    0     60   \n",
       "6  10.0.4.244:80  0.000020  0.001098  0.000022  200  200    0   1150   \n",
       "7  10.0.4.227:80  0.000021  0.008161  0.000021  200  200    0     72   \n",
       "8  10.0.4.227:80  0.000019  0.001035  0.000021  200  200    0    396   \n",
       "9  10.0.6.108:80  0.000023  0.008762  0.000021  200  200    0    214   \n",
       "\n",
       "                                                _c11  \\\n",
       "0  GET https://paytm.com:443/shop/authresponse?co...   \n",
       "1  GET https://paytm.com:443/shop/wallet/txnhisto...   \n",
       "2  GET https://paytm.com:443/shop/wallet/txnhisto...   \n",
       "3  GET https://paytm.com:443/shop/p/micromax-yu-y...   \n",
       "4  POST https://paytm.com:443/papi/v1/expresscart...   \n",
       "5  GET https://paytm.com:443/api/user/favourite?c...   \n",
       "6     GET https://paytm.com:443/favicon.ico HTTP/1.1   \n",
       "7  GET https://paytm.com:443/papi/rr/products/693...   \n",
       "8  GET https://paytm.com:443/images/greyStar.png ...   \n",
       "9  GET https://paytm.com:443/shop/cart?channel=we...   \n",
       "\n",
       "                                                _c12  \\\n",
       "0  Mozilla/5.0 (Windows NT 6.1; WOW64) AppleWebKi...   \n",
       "1  Mozilla/5.0 (Windows NT 6.1; rv:39.0) Gecko/20...   \n",
       "2  Mozilla/5.0 (Windows NT 6.1) AppleWebKit/537.3...   \n",
       "3                                                  -   \n",
       "4  Mozilla/5.0 (Windows NT 6.1; WOW64) AppleWebKi...   \n",
       "5  Mozilla/5.0 (Windows NT 6.1) AppleWebKit/537.3...   \n",
       "6  Mozilla/5.0 (Windows NT 6.3; rv:27.0) Gecko/20...   \n",
       "7  Mozilla/5.0 (Windows NT 6.3; WOW64) AppleWebKi...   \n",
       "8  Mozilla/5.0 (Windows NT 6.1) AppleWebKit/537.3...   \n",
       "9  Mozilla/5.0 (Windows NT 6.1; WOW64) AppleWebKi...   \n",
       "\n",
       "                          _c13     _c14  \n",
       "0  ECDHE-RSA-AES128-GCM-SHA256  TLSv1.2  \n",
       "1  ECDHE-RSA-AES128-GCM-SHA256  TLSv1.2  \n",
       "2  ECDHE-RSA-AES128-GCM-SHA256  TLSv1.2  \n",
       "3  ECDHE-RSA-AES128-GCM-SHA256  TLSv1.2  \n",
       "4  ECDHE-RSA-AES128-GCM-SHA256  TLSv1.2  \n",
       "5  ECDHE-RSA-AES128-GCM-SHA256  TLSv1.2  \n",
       "6  ECDHE-RSA-AES128-GCM-SHA256  TLSv1.2  \n",
       "7  ECDHE-RSA-AES128-GCM-SHA256  TLSv1.2  \n",
       "8  ECDHE-RSA-AES128-GCM-SHA256  TLSv1.2  \n",
       "9  ECDHE-RSA-AES128-GCM-SHA256  TLSv1.2  "
      ],
      "text/html": "<div>\n<style scoped>\n    .dataframe tbody tr th:only-of-type {\n        vertical-align: middle;\n    }\n\n    .dataframe tbody tr th {\n        vertical-align: top;\n    }\n\n    .dataframe thead th {\n        text-align: right;\n    }\n</style>\n<table border=\"1\" class=\"dataframe\">\n  <thead>\n    <tr style=\"text-align: right;\">\n      <th></th>\n      <th>_c0</th>\n      <th>_c1</th>\n      <th>_c2</th>\n      <th>_c3</th>\n      <th>_c4</th>\n      <th>_c5</th>\n      <th>_c6</th>\n      <th>_c7</th>\n      <th>_c8</th>\n      <th>_c9</th>\n      <th>_c10</th>\n      <th>_c11</th>\n      <th>_c12</th>\n      <th>_c13</th>\n      <th>_c14</th>\n    </tr>\n  </thead>\n  <tbody>\n    <tr>\n      <th>0</th>\n      <td>2015-07-22T09:00:28.019143Z</td>\n      <td>marketpalce-shop</td>\n      <td>123.242.248.130:54635</td>\n      <td>10.0.6.158:80</td>\n      <td>0.000022</td>\n      <td>0.026109</td>\n      <td>0.000020</td>\n      <td>200</td>\n      <td>200</td>\n      <td>0</td>\n      <td>699</td>\n      <td>GET https://paytm.com:443/shop/authresponse?co...</td>\n      <td>Mozilla/5.0 (Windows NT 6.1; WOW64) AppleWebKi...</td>\n      <td>ECDHE-RSA-AES128-GCM-SHA256</td>\n      <td>TLSv1.2</td>\n    </tr>\n    <tr>\n      <th>1</th>\n      <td>2015-07-22T09:00:27.894580Z</td>\n      <td>marketpalce-shop</td>\n      <td>203.91.211.44:51402</td>\n      <td>10.0.4.150:80</td>\n      <td>0.000024</td>\n      <td>0.153340</td>\n      <td>0.000026</td>\n      <td>200</td>\n      <td>200</td>\n      <td>0</td>\n      <td>1497</td>\n      <td>GET https://paytm.com:443/shop/wallet/txnhisto...</td>\n      <td>Mozilla/5.0 (Windows NT 6.1; rv:39.0) Gecko/20...</td>\n      <td>ECDHE-RSA-AES128-GCM-SHA256</td>\n      <td>TLSv1.2</td>\n    </tr>\n    <tr>\n      <th>2</th>\n      <td>2015-07-22T09:00:27.885745Z</td>\n      <td>marketpalce-shop</td>\n      <td>1.39.32.179:56419</td>\n      <td>10.0.4.244:80</td>\n      <td>0.000024</td>\n      <td>0.164958</td>\n      <td>0.000017</td>\n      <td>200</td>\n      <td>200</td>\n      <td>0</td>\n      <td>157</td>\n      <td>GET https://paytm.com:443/shop/wallet/txnhisto...</td>\n      <td>Mozilla/5.0 (Windows NT 6.1) AppleWebKit/537.3...</td>\n      <td>ECDHE-RSA-AES128-GCM-SHA256</td>\n      <td>TLSv1.2</td>\n    </tr>\n    <tr>\n      <th>3</th>\n      <td>2015-07-22T09:00:28.048369Z</td>\n      <td>marketpalce-shop</td>\n      <td>180.179.213.94:48725</td>\n      <td>10.0.6.108:80</td>\n      <td>0.000020</td>\n      <td>0.002333</td>\n      <td>0.000021</td>\n      <td>200</td>\n      <td>200</td>\n      <td>0</td>\n      <td>35734</td>\n      <td>GET https://paytm.com:443/shop/p/micromax-yu-y...</td>\n      <td>-</td>\n      <td>ECDHE-RSA-AES128-GCM-SHA256</td>\n      <td>TLSv1.2</td>\n    </tr>\n    <tr>\n      <th>4</th>\n      <td>2015-07-22T09:00:28.036251Z</td>\n      <td>marketpalce-shop</td>\n      <td>120.59.192.208:13527</td>\n      <td>10.0.4.217:80</td>\n      <td>0.000024</td>\n      <td>0.015091</td>\n      <td>0.000016</td>\n      <td>200</td>\n      <td>200</td>\n      <td>68</td>\n      <td>640</td>\n      <td>POST https://paytm.com:443/papi/v1/expresscart...</td>\n      <td>Mozilla/5.0 (Windows NT 6.1; WOW64) AppleWebKi...</td>\n      <td>ECDHE-RSA-AES128-GCM-SHA256</td>\n      <td>TLSv1.2</td>\n    </tr>\n    <tr>\n      <th>5</th>\n      <td>2015-07-22T09:00:28.033793Z</td>\n      <td>marketpalce-shop</td>\n      <td>117.239.195.66:50524</td>\n      <td>10.0.6.195:80</td>\n      <td>0.000024</td>\n      <td>0.021570</td>\n      <td>0.000021</td>\n      <td>200</td>\n      <td>200</td>\n      <td>0</td>\n      <td>60</td>\n      <td>GET https://paytm.com:443/api/user/favourite?c...</td>\n      <td>Mozilla/5.0 (Windows NT 6.1) AppleWebKit/537.3...</td>\n      <td>ECDHE-RSA-AES128-GCM-SHA256</td>\n      <td>TLSv1.2</td>\n    </tr>\n    <tr>\n      <th>6</th>\n      <td>2015-07-22T09:00:28.055029Z</td>\n      <td>marketpalce-shop</td>\n      <td>101.60.186.26:33177</td>\n      <td>10.0.4.244:80</td>\n      <td>0.000020</td>\n      <td>0.001098</td>\n      <td>0.000022</td>\n      <td>200</td>\n      <td>200</td>\n      <td>0</td>\n      <td>1150</td>\n      <td>GET https://paytm.com:443/favicon.ico HTTP/1.1</td>\n      <td>Mozilla/5.0 (Windows NT 6.3; rv:27.0) Gecko/20...</td>\n      <td>ECDHE-RSA-AES128-GCM-SHA256</td>\n      <td>TLSv1.2</td>\n    </tr>\n    <tr>\n      <th>7</th>\n      <td>2015-07-22T09:00:28.050298Z</td>\n      <td>marketpalce-shop</td>\n      <td>59.183.41.47:62014</td>\n      <td>10.0.4.227:80</td>\n      <td>0.000021</td>\n      <td>0.008161</td>\n      <td>0.000021</td>\n      <td>200</td>\n      <td>200</td>\n      <td>0</td>\n      <td>72</td>\n      <td>GET https://paytm.com:443/papi/rr/products/693...</td>\n      <td>Mozilla/5.0 (Windows NT 6.3; WOW64) AppleWebKi...</td>\n      <td>ECDHE-RSA-AES128-GCM-SHA256</td>\n      <td>TLSv1.2</td>\n    </tr>\n    <tr>\n      <th>8</th>\n      <td>2015-07-22T09:00:28.059081Z</td>\n      <td>marketpalce-shop</td>\n      <td>117.239.195.66:50538</td>\n      <td>10.0.4.227:80</td>\n      <td>0.000019</td>\n      <td>0.001035</td>\n      <td>0.000021</td>\n      <td>200</td>\n      <td>200</td>\n      <td>0</td>\n      <td>396</td>\n      <td>GET https://paytm.com:443/images/greyStar.png ...</td>\n      <td>Mozilla/5.0 (Windows NT 6.1) AppleWebKit/537.3...</td>\n      <td>ECDHE-RSA-AES128-GCM-SHA256</td>\n      <td>TLSv1.2</td>\n    </tr>\n    <tr>\n      <th>9</th>\n      <td>2015-07-22T09:00:28.054939Z</td>\n      <td>marketpalce-shop</td>\n      <td>183.83.237.83:49687</td>\n      <td>10.0.6.108:80</td>\n      <td>0.000023</td>\n      <td>0.008762</td>\n      <td>0.000021</td>\n      <td>200</td>\n      <td>200</td>\n      <td>0</td>\n      <td>214</td>\n      <td>GET https://paytm.com:443/shop/cart?channel=we...</td>\n      <td>Mozilla/5.0 (Windows NT 6.1; WOW64) AppleWebKi...</td>\n      <td>ECDHE-RSA-AES128-GCM-SHA256</td>\n      <td>TLSv1.2</td>\n    </tr>\n  </tbody>\n</table>\n</div>"
     },
     "metadata": {},
     "execution_count": 5
    }
   ],
   "source": [
    "df.limit(10).toPandas()"
   ]
  },
  {
   "cell_type": "code",
   "execution_count": 6,
   "metadata": {
    "tags": []
   },
   "outputs": [
    {
     "output_type": "execute_result",
     "data": {
      "text/plain": [
       "DataFrame[_c0: string, _c1: string, _c2: string, _c3: string, _c4: double, _c5: double, _c6: double, _c7: int, _c8: int, _c9: int, _c10: int, _c11: string, _c12: string, _c13: string, _c14: string]"
      ]
     },
     "metadata": {},
     "execution_count": 6
    }
   ],
   "source": [
    "df.cache()"
   ]
  },
  {
   "cell_type": "code",
   "execution_count": 7,
   "metadata": {},
   "outputs": [
    {
     "output_type": "execute_result",
     "data": {
      "text/plain": [
       "[('_c0', 'string'),\n",
       " ('_c1', 'string'),\n",
       " ('_c2', 'string'),\n",
       " ('_c3', 'string'),\n",
       " ('_c4', 'double'),\n",
       " ('_c5', 'double'),\n",
       " ('_c6', 'double'),\n",
       " ('_c7', 'int'),\n",
       " ('_c8', 'int'),\n",
       " ('_c9', 'int'),\n",
       " ('_c10', 'int'),\n",
       " ('_c11', 'string'),\n",
       " ('_c12', 'string'),\n",
       " ('_c13', 'string'),\n",
       " ('_c14', 'string')]"
      ]
     },
     "metadata": {},
     "execution_count": 7
    }
   ],
   "source": [
    "df.dtypes"
   ]
  },
  {
   "cell_type": "code",
   "execution_count": 8,
   "metadata": {},
   "outputs": [
    {
     "output_type": "execute_result",
     "data": {
      "text/plain": [
       "404391"
      ]
     },
     "metadata": {},
     "execution_count": 8
    }
   ],
   "source": [
    "df.select('_c2').distinct().count()"
   ]
  },
  {
   "cell_type": "code",
   "execution_count": 9,
   "metadata": {},
   "outputs": [
    {
     "output_type": "execute_result",
     "data": {
      "text/plain": [
       "25"
      ]
     },
     "metadata": {},
     "execution_count": 9
    }
   ],
   "source": [
    "df.select('_c3').distinct().count()"
   ]
  },
  {
   "cell_type": "code",
   "execution_count": 10,
   "metadata": {},
   "outputs": [],
   "source": [
    "df = df.withColumn('user_id', split('_c2', ':')[0])"
   ]
  },
  {
   "cell_type": "code",
   "execution_count": 11,
   "metadata": {
    "tags": []
   },
   "outputs": [
    {
     "output_type": "stream",
     "name": "stdout",
     "text": [
      "+---------------+\n|        user_id|\n+---------------+\n|123.242.248.130|\n|  203.91.211.44|\n|    1.39.32.179|\n| 180.179.213.94|\n| 120.59.192.208|\n| 117.239.195.66|\n|  101.60.186.26|\n|   59.183.41.47|\n| 117.239.195.66|\n|  183.83.237.83|\n|  117.195.91.36|\n|122.180.245.251|\n| 117.198.215.20|\n| 223.176.154.91|\n|223.225.236.110|\n| 117.241.97.140|\n|117.205.247.140|\n|   14.102.53.58|\n|  203.200.99.67|\n|107.167.109.204|\n+---------------+\nonly showing top 20 rows\n\n"
     ]
    }
   ],
   "source": [
    "df.select('user_id').show()"
   ]
  },
  {
   "cell_type": "code",
   "execution_count": 12,
   "metadata": {},
   "outputs": [
    {
     "output_type": "execute_result",
     "data": {
      "text/plain": [
       "90544"
      ]
     },
     "metadata": {},
     "execution_count": 12
    }
   ],
   "source": [
    "df.select('user_id').distinct().count()"
   ]
  },
  {
   "cell_type": "code",
   "execution_count": 13,
   "metadata": {},
   "outputs": [],
   "source": [
    "df = df.withColumn('occured_at', to_timestamp('_c0'))"
   ]
  },
  {
   "cell_type": "code",
   "execution_count": 14,
   "metadata": {},
   "outputs": [
    {
     "output_type": "execute_result",
     "data": {
      "text/plain": [
       "                           _c0               _c1                    _c2  \\\n",
       "0  2015-07-22T09:00:28.019143Z  marketpalce-shop  123.242.248.130:54635   \n",
       "\n",
       "             _c3       _c4       _c5      _c6  _c7  _c8  _c9  _c10  \\\n",
       "0  10.0.6.158:80  0.000022  0.026109  0.00002  200  200    0   699   \n",
       "\n",
       "                                                _c11  \\\n",
       "0  GET https://paytm.com:443/shop/authresponse?co...   \n",
       "\n",
       "                                                _c12  \\\n",
       "0  Mozilla/5.0 (Windows NT 6.1; WOW64) AppleWebKi...   \n",
       "\n",
       "                          _c13     _c14          user_id  \\\n",
       "0  ECDHE-RSA-AES128-GCM-SHA256  TLSv1.2  123.242.248.130   \n",
       "\n",
       "                  occured_at  \n",
       "0 2015-07-22 06:00:28.019143  "
      ],
      "text/html": "<div>\n<style scoped>\n    .dataframe tbody tr th:only-of-type {\n        vertical-align: middle;\n    }\n\n    .dataframe tbody tr th {\n        vertical-align: top;\n    }\n\n    .dataframe thead th {\n        text-align: right;\n    }\n</style>\n<table border=\"1\" class=\"dataframe\">\n  <thead>\n    <tr style=\"text-align: right;\">\n      <th></th>\n      <th>_c0</th>\n      <th>_c1</th>\n      <th>_c2</th>\n      <th>_c3</th>\n      <th>_c4</th>\n      <th>_c5</th>\n      <th>_c6</th>\n      <th>_c7</th>\n      <th>_c8</th>\n      <th>_c9</th>\n      <th>_c10</th>\n      <th>_c11</th>\n      <th>_c12</th>\n      <th>_c13</th>\n      <th>_c14</th>\n      <th>user_id</th>\n      <th>occured_at</th>\n    </tr>\n  </thead>\n  <tbody>\n    <tr>\n      <th>0</th>\n      <td>2015-07-22T09:00:28.019143Z</td>\n      <td>marketpalce-shop</td>\n      <td>123.242.248.130:54635</td>\n      <td>10.0.6.158:80</td>\n      <td>0.000022</td>\n      <td>0.026109</td>\n      <td>0.00002</td>\n      <td>200</td>\n      <td>200</td>\n      <td>0</td>\n      <td>699</td>\n      <td>GET https://paytm.com:443/shop/authresponse?co...</td>\n      <td>Mozilla/5.0 (Windows NT 6.1; WOW64) AppleWebKi...</td>\n      <td>ECDHE-RSA-AES128-GCM-SHA256</td>\n      <td>TLSv1.2</td>\n      <td>123.242.248.130</td>\n      <td>2015-07-22 06:00:28.019143</td>\n    </tr>\n  </tbody>\n</table>\n</div>"
     },
     "metadata": {},
     "execution_count": 14
    }
   ],
   "source": [
    "df.limit(1).toPandas()"
   ]
  },
  {
   "cell_type": "code",
   "execution_count": 15,
   "metadata": {},
   "outputs": [
    {
     "output_type": "execute_result",
     "data": {
      "text/plain": [
       "[('_c0', 'string'),\n",
       " ('_c1', 'string'),\n",
       " ('_c2', 'string'),\n",
       " ('_c3', 'string'),\n",
       " ('_c4', 'double'),\n",
       " ('_c5', 'double'),\n",
       " ('_c6', 'double'),\n",
       " ('_c7', 'int'),\n",
       " ('_c8', 'int'),\n",
       " ('_c9', 'int'),\n",
       " ('_c10', 'int'),\n",
       " ('_c11', 'string'),\n",
       " ('_c12', 'string'),\n",
       " ('_c13', 'string'),\n",
       " ('_c14', 'string'),\n",
       " ('user_id', 'string'),\n",
       " ('occured_at', 'timestamp')]"
      ]
     },
     "metadata": {},
     "execution_count": 15
    }
   ],
   "source": [
    "df.dtypes"
   ]
  },
  {
   "source": [
    "## Processing & Analytical goals"
   ],
   "cell_type": "markdown",
   "metadata": {}
  },
  {
   "source": [
    "## 1. Sessionize the web log by IP. Sessionize = aggregrate all page hits by visitor/IP during a session. https://en.wikipedia.org/wiki/Session_(web_analytics)"
   ],
   "cell_type": "markdown",
   "metadata": {}
  },
  {
   "cell_type": "code",
   "execution_count": 16,
   "metadata": {},
   "outputs": [],
   "source": [
    "last_event = df.withColumn(\"last_event\", lag('occured_at').over(Window.partitionBy('user_id').orderBy('occured_at')))"
   ]
  },
  {
   "cell_type": "code",
   "execution_count": 17,
   "metadata": {
    "tags": []
   },
   "outputs": [
    {
     "output_type": "execute_result",
     "data": {
      "text/plain": [
       "                           _c0               _c1                 _c2  \\\n",
       "0  2015-07-22T16:14:36.308131Z  marketpalce-shop  1.186.143.37:11395   \n",
       "1  2015-07-22T16:14:44.846873Z  marketpalce-shop  1.186.143.37:11395   \n",
       "2  2015-07-22T02:43:31.135201Z  marketpalce-shop  1.187.164.29:49414   \n",
       "3  2015-07-22T02:43:42.735304Z  marketpalce-shop  1.187.164.29:49414   \n",
       "4  2015-07-22T02:43:47.685225Z  marketpalce-shop  1.187.164.29:49414   \n",
       "5  2015-07-22T02:44:19.075268Z  marketpalce-shop  1.187.164.29:49414   \n",
       "\n",
       "             _c3       _c4       _c5       _c6  _c7  _c8  _c9   _c10  \\\n",
       "0  10.0.4.150:80  0.000023  0.004619  0.000020  200  200    0  13989   \n",
       "1  10.0.6.108:80  0.000025  0.008939  0.000021  200  200    0    215   \n",
       "2  10.0.4.244:80  0.000021  0.006038  0.000021  200  200    0  13980   \n",
       "3  10.0.6.158:80  0.000026  0.005846  0.000024  200  200    0    215   \n",
       "4  10.0.6.199:80  0.000024  0.002448  0.000023  302  302    0    530   \n",
       "5  10.0.4.225:80  0.000026  0.031224  0.000023  200  200    0    716   \n",
       "\n",
       "                                                _c11  \\\n",
       "0                GET https://paytm.com:443/ HTTP/1.1   \n",
       "1  GET https://paytm.com:443/shop/cart?channel=we...   \n",
       "2  GET https://paytm.com:443/shop?utm_source=Affi...   \n",
       "3  GET https://paytm.com:443/shop/cart?channel=we...   \n",
       "4  GET https://paytm.com:443/shop/login?isIframe=...   \n",
       "5  GET https://paytm.com:443/shop/authresponse?co...   \n",
       "\n",
       "                                                _c12  \\\n",
       "0  Mozilla/5.0 (Windows NT 6.1; WOW64; rv:39.0) G...   \n",
       "1  Mozilla/5.0 (Windows NT 6.1; WOW64; rv:39.0) G...   \n",
       "2  Mozilla/5.0 (Windows NT 6.1; rv:39.0) Gecko/20...   \n",
       "3  Mozilla/5.0 (Windows NT 6.1; rv:39.0) Gecko/20...   \n",
       "4  Mozilla/5.0 (Windows NT 6.1; rv:39.0) Gecko/20...   \n",
       "5  Mozilla/5.0 (Windows NT 6.1; rv:39.0) Gecko/20...   \n",
       "\n",
       "                          _c13     _c14       user_id  \\\n",
       "0  ECDHE-RSA-AES128-GCM-SHA256  TLSv1.2  1.186.143.37   \n",
       "1  ECDHE-RSA-AES128-GCM-SHA256  TLSv1.2  1.186.143.37   \n",
       "2  ECDHE-RSA-AES128-GCM-SHA256  TLSv1.2  1.187.164.29   \n",
       "3  ECDHE-RSA-AES128-GCM-SHA256  TLSv1.2  1.187.164.29   \n",
       "4  ECDHE-RSA-AES128-GCM-SHA256  TLSv1.2  1.187.164.29   \n",
       "5  ECDHE-RSA-AES128-GCM-SHA256  TLSv1.2  1.187.164.29   \n",
       "\n",
       "                  occured_at                 last_event  \n",
       "0 2015-07-22 13:14:36.308131                        NaT  \n",
       "1 2015-07-22 13:14:44.846873 2015-07-22 13:14:36.308131  \n",
       "2 2015-07-21 23:43:31.135201                        NaT  \n",
       "3 2015-07-21 23:43:42.735304 2015-07-21 23:43:31.135201  \n",
       "4 2015-07-21 23:43:47.685225 2015-07-21 23:43:42.735304  \n",
       "5 2015-07-21 23:44:19.075268 2015-07-21 23:43:47.685225  "
      ],
      "text/html": "<div>\n<style scoped>\n    .dataframe tbody tr th:only-of-type {\n        vertical-align: middle;\n    }\n\n    .dataframe tbody tr th {\n        vertical-align: top;\n    }\n\n    .dataframe thead th {\n        text-align: right;\n    }\n</style>\n<table border=\"1\" class=\"dataframe\">\n  <thead>\n    <tr style=\"text-align: right;\">\n      <th></th>\n      <th>_c0</th>\n      <th>_c1</th>\n      <th>_c2</th>\n      <th>_c3</th>\n      <th>_c4</th>\n      <th>_c5</th>\n      <th>_c6</th>\n      <th>_c7</th>\n      <th>_c8</th>\n      <th>_c9</th>\n      <th>_c10</th>\n      <th>_c11</th>\n      <th>_c12</th>\n      <th>_c13</th>\n      <th>_c14</th>\n      <th>user_id</th>\n      <th>occured_at</th>\n      <th>last_event</th>\n    </tr>\n  </thead>\n  <tbody>\n    <tr>\n      <th>0</th>\n      <td>2015-07-22T16:14:36.308131Z</td>\n      <td>marketpalce-shop</td>\n      <td>1.186.143.37:11395</td>\n      <td>10.0.4.150:80</td>\n      <td>0.000023</td>\n      <td>0.004619</td>\n      <td>0.000020</td>\n      <td>200</td>\n      <td>200</td>\n      <td>0</td>\n      <td>13989</td>\n      <td>GET https://paytm.com:443/ HTTP/1.1</td>\n      <td>Mozilla/5.0 (Windows NT 6.1; WOW64; rv:39.0) G...</td>\n      <td>ECDHE-RSA-AES128-GCM-SHA256</td>\n      <td>TLSv1.2</td>\n      <td>1.186.143.37</td>\n      <td>2015-07-22 13:14:36.308131</td>\n      <td>NaT</td>\n    </tr>\n    <tr>\n      <th>1</th>\n      <td>2015-07-22T16:14:44.846873Z</td>\n      <td>marketpalce-shop</td>\n      <td>1.186.143.37:11395</td>\n      <td>10.0.6.108:80</td>\n      <td>0.000025</td>\n      <td>0.008939</td>\n      <td>0.000021</td>\n      <td>200</td>\n      <td>200</td>\n      <td>0</td>\n      <td>215</td>\n      <td>GET https://paytm.com:443/shop/cart?channel=we...</td>\n      <td>Mozilla/5.0 (Windows NT 6.1; WOW64; rv:39.0) G...</td>\n      <td>ECDHE-RSA-AES128-GCM-SHA256</td>\n      <td>TLSv1.2</td>\n      <td>1.186.143.37</td>\n      <td>2015-07-22 13:14:44.846873</td>\n      <td>2015-07-22 13:14:36.308131</td>\n    </tr>\n    <tr>\n      <th>2</th>\n      <td>2015-07-22T02:43:31.135201Z</td>\n      <td>marketpalce-shop</td>\n      <td>1.187.164.29:49414</td>\n      <td>10.0.4.244:80</td>\n      <td>0.000021</td>\n      <td>0.006038</td>\n      <td>0.000021</td>\n      <td>200</td>\n      <td>200</td>\n      <td>0</td>\n      <td>13980</td>\n      <td>GET https://paytm.com:443/shop?utm_source=Affi...</td>\n      <td>Mozilla/5.0 (Windows NT 6.1; rv:39.0) Gecko/20...</td>\n      <td>ECDHE-RSA-AES128-GCM-SHA256</td>\n      <td>TLSv1.2</td>\n      <td>1.187.164.29</td>\n      <td>2015-07-21 23:43:31.135201</td>\n      <td>NaT</td>\n    </tr>\n    <tr>\n      <th>3</th>\n      <td>2015-07-22T02:43:42.735304Z</td>\n      <td>marketpalce-shop</td>\n      <td>1.187.164.29:49414</td>\n      <td>10.0.6.158:80</td>\n      <td>0.000026</td>\n      <td>0.005846</td>\n      <td>0.000024</td>\n      <td>200</td>\n      <td>200</td>\n      <td>0</td>\n      <td>215</td>\n      <td>GET https://paytm.com:443/shop/cart?channel=we...</td>\n      <td>Mozilla/5.0 (Windows NT 6.1; rv:39.0) Gecko/20...</td>\n      <td>ECDHE-RSA-AES128-GCM-SHA256</td>\n      <td>TLSv1.2</td>\n      <td>1.187.164.29</td>\n      <td>2015-07-21 23:43:42.735304</td>\n      <td>2015-07-21 23:43:31.135201</td>\n    </tr>\n    <tr>\n      <th>4</th>\n      <td>2015-07-22T02:43:47.685225Z</td>\n      <td>marketpalce-shop</td>\n      <td>1.187.164.29:49414</td>\n      <td>10.0.6.199:80</td>\n      <td>0.000024</td>\n      <td>0.002448</td>\n      <td>0.000023</td>\n      <td>302</td>\n      <td>302</td>\n      <td>0</td>\n      <td>530</td>\n      <td>GET https://paytm.com:443/shop/login?isIframe=...</td>\n      <td>Mozilla/5.0 (Windows NT 6.1; rv:39.0) Gecko/20...</td>\n      <td>ECDHE-RSA-AES128-GCM-SHA256</td>\n      <td>TLSv1.2</td>\n      <td>1.187.164.29</td>\n      <td>2015-07-21 23:43:47.685225</td>\n      <td>2015-07-21 23:43:42.735304</td>\n    </tr>\n    <tr>\n      <th>5</th>\n      <td>2015-07-22T02:44:19.075268Z</td>\n      <td>marketpalce-shop</td>\n      <td>1.187.164.29:49414</td>\n      <td>10.0.4.225:80</td>\n      <td>0.000026</td>\n      <td>0.031224</td>\n      <td>0.000023</td>\n      <td>200</td>\n      <td>200</td>\n      <td>0</td>\n      <td>716</td>\n      <td>GET https://paytm.com:443/shop/authresponse?co...</td>\n      <td>Mozilla/5.0 (Windows NT 6.1; rv:39.0) Gecko/20...</td>\n      <td>ECDHE-RSA-AES128-GCM-SHA256</td>\n      <td>TLSv1.2</td>\n      <td>1.187.164.29</td>\n      <td>2015-07-21 23:44:19.075268</td>\n      <td>2015-07-21 23:43:47.685225</td>\n    </tr>\n  </tbody>\n</table>\n</div>"
     },
     "metadata": {},
     "execution_count": 17
    }
   ],
   "source": [
    "last_event.limit(6).toPandas()"
   ]
  },
  {
   "cell_type": "code",
   "execution_count": 18,
   "metadata": {},
   "outputs": [],
   "source": [
    "lag_in_day = last_event.withColumn('lag_in_day', (col('occured_at').astype(\"long\") - col('last_event').astype(\"long\"))/60)"
   ]
  },
  {
   "cell_type": "code",
   "execution_count": 19,
   "metadata": {},
   "outputs": [
    {
     "output_type": "execute_result",
     "data": {
      "text/plain": [
       "         user_id                 occured_at                 last_event  \\\n",
       "0   1.186.143.37 2015-07-22 13:14:36.308131                        NaT   \n",
       "1   1.186.143.37 2015-07-22 13:14:44.846873 2015-07-22 13:14:36.308131   \n",
       "2   1.187.164.29 2015-07-21 23:43:31.135201                        NaT   \n",
       "3   1.187.164.29 2015-07-21 23:43:42.735304 2015-07-21 23:43:31.135201   \n",
       "4   1.187.164.29 2015-07-21 23:43:47.685225 2015-07-21 23:43:42.735304   \n",
       "5   1.187.164.29 2015-07-21 23:44:19.075268 2015-07-21 23:43:47.685225   \n",
       "6   1.187.164.29 2015-07-21 23:44:20.084871 2015-07-21 23:44:19.075268   \n",
       "7   1.187.164.29 2015-07-21 23:44:21.995557 2015-07-21 23:44:20.084871   \n",
       "8   1.187.164.29 2015-07-21 23:44:23.254646 2015-07-21 23:44:21.995557   \n",
       "9   1.187.164.29 2015-07-21 23:44:23.295011 2015-07-21 23:44:23.254646   \n",
       "10  1.187.164.29 2015-07-21 23:44:40.245266 2015-07-21 23:44:23.295011   \n",
       "11    1.22.41.76 2015-07-22 13:42:59.014170                        NaT   \n",
       "12    1.22.41.76 2015-07-22 13:43:07.155189 2015-07-22 13:42:59.014170   \n",
       "13    1.22.41.76 2015-07-22 13:43:29.154160 2015-07-22 13:43:07.155189   \n",
       "14    1.22.41.76 2015-07-22 13:43:31.846037 2015-07-22 13:43:29.154160   \n",
       "15    1.22.41.76 2015-07-22 13:43:55.687425 2015-07-22 13:43:31.846037   \n",
       "16    1.22.41.76 2015-07-22 13:43:57.475919 2015-07-22 13:43:55.687425   \n",
       "17    1.22.41.76 2015-07-22 13:43:59.375379 2015-07-22 13:43:57.475919   \n",
       "18    1.22.41.76 2015-07-22 13:44:01.322622 2015-07-22 13:43:59.375379   \n",
       "19   1.23.208.26 2015-07-22 14:41:41.431398                        NaT   \n",
       "\n",
       "    lag_in_day  \n",
       "0          NaN  \n",
       "1     0.133333  \n",
       "2          NaN  \n",
       "3     0.183333  \n",
       "4     0.083333  \n",
       "5     0.533333  \n",
       "6     0.016667  \n",
       "7     0.016667  \n",
       "8     0.033333  \n",
       "9     0.000000  \n",
       "10    0.283333  \n",
       "11         NaN  \n",
       "12    0.133333  \n",
       "13    0.366667  \n",
       "14    0.033333  \n",
       "15    0.400000  \n",
       "16    0.033333  \n",
       "17    0.033333  \n",
       "18    0.033333  \n",
       "19         NaN  "
      ],
      "text/html": "<div>\n<style scoped>\n    .dataframe tbody tr th:only-of-type {\n        vertical-align: middle;\n    }\n\n    .dataframe tbody tr th {\n        vertical-align: top;\n    }\n\n    .dataframe thead th {\n        text-align: right;\n    }\n</style>\n<table border=\"1\" class=\"dataframe\">\n  <thead>\n    <tr style=\"text-align: right;\">\n      <th></th>\n      <th>user_id</th>\n      <th>occured_at</th>\n      <th>last_event</th>\n      <th>lag_in_day</th>\n    </tr>\n  </thead>\n  <tbody>\n    <tr>\n      <th>0</th>\n      <td>1.186.143.37</td>\n      <td>2015-07-22 13:14:36.308131</td>\n      <td>NaT</td>\n      <td>NaN</td>\n    </tr>\n    <tr>\n      <th>1</th>\n      <td>1.186.143.37</td>\n      <td>2015-07-22 13:14:44.846873</td>\n      <td>2015-07-22 13:14:36.308131</td>\n      <td>0.133333</td>\n    </tr>\n    <tr>\n      <th>2</th>\n      <td>1.187.164.29</td>\n      <td>2015-07-21 23:43:31.135201</td>\n      <td>NaT</td>\n      <td>NaN</td>\n    </tr>\n    <tr>\n      <th>3</th>\n      <td>1.187.164.29</td>\n      <td>2015-07-21 23:43:42.735304</td>\n      <td>2015-07-21 23:43:31.135201</td>\n      <td>0.183333</td>\n    </tr>\n    <tr>\n      <th>4</th>\n      <td>1.187.164.29</td>\n      <td>2015-07-21 23:43:47.685225</td>\n      <td>2015-07-21 23:43:42.735304</td>\n      <td>0.083333</td>\n    </tr>\n    <tr>\n      <th>5</th>\n      <td>1.187.164.29</td>\n      <td>2015-07-21 23:44:19.075268</td>\n      <td>2015-07-21 23:43:47.685225</td>\n      <td>0.533333</td>\n    </tr>\n    <tr>\n      <th>6</th>\n      <td>1.187.164.29</td>\n      <td>2015-07-21 23:44:20.084871</td>\n      <td>2015-07-21 23:44:19.075268</td>\n      <td>0.016667</td>\n    </tr>\n    <tr>\n      <th>7</th>\n      <td>1.187.164.29</td>\n      <td>2015-07-21 23:44:21.995557</td>\n      <td>2015-07-21 23:44:20.084871</td>\n      <td>0.016667</td>\n    </tr>\n    <tr>\n      <th>8</th>\n      <td>1.187.164.29</td>\n      <td>2015-07-21 23:44:23.254646</td>\n      <td>2015-07-21 23:44:21.995557</td>\n      <td>0.033333</td>\n    </tr>\n    <tr>\n      <th>9</th>\n      <td>1.187.164.29</td>\n      <td>2015-07-21 23:44:23.295011</td>\n      <td>2015-07-21 23:44:23.254646</td>\n      <td>0.000000</td>\n    </tr>\n    <tr>\n      <th>10</th>\n      <td>1.187.164.29</td>\n      <td>2015-07-21 23:44:40.245266</td>\n      <td>2015-07-21 23:44:23.295011</td>\n      <td>0.283333</td>\n    </tr>\n    <tr>\n      <th>11</th>\n      <td>1.22.41.76</td>\n      <td>2015-07-22 13:42:59.014170</td>\n      <td>NaT</td>\n      <td>NaN</td>\n    </tr>\n    <tr>\n      <th>12</th>\n      <td>1.22.41.76</td>\n      <td>2015-07-22 13:43:07.155189</td>\n      <td>2015-07-22 13:42:59.014170</td>\n      <td>0.133333</td>\n    </tr>\n    <tr>\n      <th>13</th>\n      <td>1.22.41.76</td>\n      <td>2015-07-22 13:43:29.154160</td>\n      <td>2015-07-22 13:43:07.155189</td>\n      <td>0.366667</td>\n    </tr>\n    <tr>\n      <th>14</th>\n      <td>1.22.41.76</td>\n      <td>2015-07-22 13:43:31.846037</td>\n      <td>2015-07-22 13:43:29.154160</td>\n      <td>0.033333</td>\n    </tr>\n    <tr>\n      <th>15</th>\n      <td>1.22.41.76</td>\n      <td>2015-07-22 13:43:55.687425</td>\n      <td>2015-07-22 13:43:31.846037</td>\n      <td>0.400000</td>\n    </tr>\n    <tr>\n      <th>16</th>\n      <td>1.22.41.76</td>\n      <td>2015-07-22 13:43:57.475919</td>\n      <td>2015-07-22 13:43:55.687425</td>\n      <td>0.033333</td>\n    </tr>\n    <tr>\n      <th>17</th>\n      <td>1.22.41.76</td>\n      <td>2015-07-22 13:43:59.375379</td>\n      <td>2015-07-22 13:43:57.475919</td>\n      <td>0.033333</td>\n    </tr>\n    <tr>\n      <th>18</th>\n      <td>1.22.41.76</td>\n      <td>2015-07-22 13:44:01.322622</td>\n      <td>2015-07-22 13:43:59.375379</td>\n      <td>0.033333</td>\n    </tr>\n    <tr>\n      <th>19</th>\n      <td>1.23.208.26</td>\n      <td>2015-07-22 14:41:41.431398</td>\n      <td>NaT</td>\n      <td>NaN</td>\n    </tr>\n  </tbody>\n</table>\n</div>"
     },
     "metadata": {},
     "execution_count": 19
    }
   ],
   "source": [
    "lag_in_day.select('user_id', 'occured_at', 'last_event', 'lag_in_day').limit(20).toPandas()"
   ]
  },
  {
   "cell_type": "code",
   "execution_count": 20,
   "metadata": {},
   "outputs": [],
   "source": [
    "new_session = lag_in_day.withColumn('is_new_session', when( col('lag_in_day') > 15 , 1).otherwise(0))"
   ]
  },
  {
   "cell_type": "code",
   "execution_count": 21,
   "metadata": {},
   "outputs": [
    {
     "output_type": "execute_result",
     "data": {
      "text/plain": [
       "         user_id                 occured_at                 last_event  \\\n",
       "0   1.186.143.37 2015-07-22 13:14:36.308131                        NaT   \n",
       "1   1.186.143.37 2015-07-22 13:14:44.846873 2015-07-22 13:14:36.308131   \n",
       "2   1.187.164.29 2015-07-21 23:43:31.135201                        NaT   \n",
       "3   1.187.164.29 2015-07-21 23:43:42.735304 2015-07-21 23:43:31.135201   \n",
       "4   1.187.164.29 2015-07-21 23:43:47.685225 2015-07-21 23:43:42.735304   \n",
       "5   1.187.164.29 2015-07-21 23:44:19.075268 2015-07-21 23:43:47.685225   \n",
       "6   1.187.164.29 2015-07-21 23:44:20.084871 2015-07-21 23:44:19.075268   \n",
       "7   1.187.164.29 2015-07-21 23:44:21.995557 2015-07-21 23:44:20.084871   \n",
       "8   1.187.164.29 2015-07-21 23:44:23.254646 2015-07-21 23:44:21.995557   \n",
       "9   1.187.164.29 2015-07-21 23:44:23.295011 2015-07-21 23:44:23.254646   \n",
       "10  1.187.164.29 2015-07-21 23:44:40.245266 2015-07-21 23:44:23.295011   \n",
       "11    1.22.41.76 2015-07-22 13:42:59.014170                        NaT   \n",
       "12    1.22.41.76 2015-07-22 13:43:07.155189 2015-07-22 13:42:59.014170   \n",
       "13    1.22.41.76 2015-07-22 13:43:29.154160 2015-07-22 13:43:07.155189   \n",
       "14    1.22.41.76 2015-07-22 13:43:31.846037 2015-07-22 13:43:29.154160   \n",
       "15    1.22.41.76 2015-07-22 13:43:55.687425 2015-07-22 13:43:31.846037   \n",
       "16    1.22.41.76 2015-07-22 13:43:57.475919 2015-07-22 13:43:55.687425   \n",
       "17    1.22.41.76 2015-07-22 13:43:59.375379 2015-07-22 13:43:57.475919   \n",
       "18    1.22.41.76 2015-07-22 13:44:01.322622 2015-07-22 13:43:59.375379   \n",
       "19   1.23.208.26 2015-07-22 14:41:41.431398                        NaT   \n",
       "\n",
       "    is_new_session  \n",
       "0                0  \n",
       "1                0  \n",
       "2                0  \n",
       "3                0  \n",
       "4                0  \n",
       "5                0  \n",
       "6                0  \n",
       "7                0  \n",
       "8                0  \n",
       "9                0  \n",
       "10               0  \n",
       "11               0  \n",
       "12               0  \n",
       "13               0  \n",
       "14               0  \n",
       "15               0  \n",
       "16               0  \n",
       "17               0  \n",
       "18               0  \n",
       "19               0  "
      ],
      "text/html": "<div>\n<style scoped>\n    .dataframe tbody tr th:only-of-type {\n        vertical-align: middle;\n    }\n\n    .dataframe tbody tr th {\n        vertical-align: top;\n    }\n\n    .dataframe thead th {\n        text-align: right;\n    }\n</style>\n<table border=\"1\" class=\"dataframe\">\n  <thead>\n    <tr style=\"text-align: right;\">\n      <th></th>\n      <th>user_id</th>\n      <th>occured_at</th>\n      <th>last_event</th>\n      <th>is_new_session</th>\n    </tr>\n  </thead>\n  <tbody>\n    <tr>\n      <th>0</th>\n      <td>1.186.143.37</td>\n      <td>2015-07-22 13:14:36.308131</td>\n      <td>NaT</td>\n      <td>0</td>\n    </tr>\n    <tr>\n      <th>1</th>\n      <td>1.186.143.37</td>\n      <td>2015-07-22 13:14:44.846873</td>\n      <td>2015-07-22 13:14:36.308131</td>\n      <td>0</td>\n    </tr>\n    <tr>\n      <th>2</th>\n      <td>1.187.164.29</td>\n      <td>2015-07-21 23:43:31.135201</td>\n      <td>NaT</td>\n      <td>0</td>\n    </tr>\n    <tr>\n      <th>3</th>\n      <td>1.187.164.29</td>\n      <td>2015-07-21 23:43:42.735304</td>\n      <td>2015-07-21 23:43:31.135201</td>\n      <td>0</td>\n    </tr>\n    <tr>\n      <th>4</th>\n      <td>1.187.164.29</td>\n      <td>2015-07-21 23:43:47.685225</td>\n      <td>2015-07-21 23:43:42.735304</td>\n      <td>0</td>\n    </tr>\n    <tr>\n      <th>5</th>\n      <td>1.187.164.29</td>\n      <td>2015-07-21 23:44:19.075268</td>\n      <td>2015-07-21 23:43:47.685225</td>\n      <td>0</td>\n    </tr>\n    <tr>\n      <th>6</th>\n      <td>1.187.164.29</td>\n      <td>2015-07-21 23:44:20.084871</td>\n      <td>2015-07-21 23:44:19.075268</td>\n      <td>0</td>\n    </tr>\n    <tr>\n      <th>7</th>\n      <td>1.187.164.29</td>\n      <td>2015-07-21 23:44:21.995557</td>\n      <td>2015-07-21 23:44:20.084871</td>\n      <td>0</td>\n    </tr>\n    <tr>\n      <th>8</th>\n      <td>1.187.164.29</td>\n      <td>2015-07-21 23:44:23.254646</td>\n      <td>2015-07-21 23:44:21.995557</td>\n      <td>0</td>\n    </tr>\n    <tr>\n      <th>9</th>\n      <td>1.187.164.29</td>\n      <td>2015-07-21 23:44:23.295011</td>\n      <td>2015-07-21 23:44:23.254646</td>\n      <td>0</td>\n    </tr>\n    <tr>\n      <th>10</th>\n      <td>1.187.164.29</td>\n      <td>2015-07-21 23:44:40.245266</td>\n      <td>2015-07-21 23:44:23.295011</td>\n      <td>0</td>\n    </tr>\n    <tr>\n      <th>11</th>\n      <td>1.22.41.76</td>\n      <td>2015-07-22 13:42:59.014170</td>\n      <td>NaT</td>\n      <td>0</td>\n    </tr>\n    <tr>\n      <th>12</th>\n      <td>1.22.41.76</td>\n      <td>2015-07-22 13:43:07.155189</td>\n      <td>2015-07-22 13:42:59.014170</td>\n      <td>0</td>\n    </tr>\n    <tr>\n      <th>13</th>\n      <td>1.22.41.76</td>\n      <td>2015-07-22 13:43:29.154160</td>\n      <td>2015-07-22 13:43:07.155189</td>\n      <td>0</td>\n    </tr>\n    <tr>\n      <th>14</th>\n      <td>1.22.41.76</td>\n      <td>2015-07-22 13:43:31.846037</td>\n      <td>2015-07-22 13:43:29.154160</td>\n      <td>0</td>\n    </tr>\n    <tr>\n      <th>15</th>\n      <td>1.22.41.76</td>\n      <td>2015-07-22 13:43:55.687425</td>\n      <td>2015-07-22 13:43:31.846037</td>\n      <td>0</td>\n    </tr>\n    <tr>\n      <th>16</th>\n      <td>1.22.41.76</td>\n      <td>2015-07-22 13:43:57.475919</td>\n      <td>2015-07-22 13:43:55.687425</td>\n      <td>0</td>\n    </tr>\n    <tr>\n      <th>17</th>\n      <td>1.22.41.76</td>\n      <td>2015-07-22 13:43:59.375379</td>\n      <td>2015-07-22 13:43:57.475919</td>\n      <td>0</td>\n    </tr>\n    <tr>\n      <th>18</th>\n      <td>1.22.41.76</td>\n      <td>2015-07-22 13:44:01.322622</td>\n      <td>2015-07-22 13:43:59.375379</td>\n      <td>0</td>\n    </tr>\n    <tr>\n      <th>19</th>\n      <td>1.23.208.26</td>\n      <td>2015-07-22 14:41:41.431398</td>\n      <td>NaT</td>\n      <td>0</td>\n    </tr>\n  </tbody>\n</table>\n</div>"
     },
     "metadata": {},
     "execution_count": 21
    }
   ],
   "source": [
    "new_session.select('user_id', 'occured_at', 'last_event', 'is_new_session').limit(20).toPandas()"
   ]
  },
  {
   "cell_type": "code",
   "execution_count": 22,
   "metadata": {
    "tags": []
   },
   "outputs": [
    {
     "output_type": "stream",
     "name": "stdout",
     "text": [
      "+-------+--------------------+\n|summary|      is_new_session|\n+-------+--------------------+\n|  count|             1158500|\n|   mean|0.017514889943892966|\n| stddev|  0.1311797752245047|\n|    min|                   0|\n|    max|                   1|\n+-------+--------------------+\n\n"
     ]
    }
   ],
   "source": [
    "new_session.select('is_new_session').describe().show()"
   ]
  },
  {
   "cell_type": "code",
   "execution_count": 23,
   "metadata": {
    "tags": []
   },
   "outputs": [
    {
     "output_type": "execute_result",
     "data": {
      "text/plain": [
       "                  occured_at       user_id\n",
       "0 2015-07-22 15:00:47.096589   1.23.208.26\n",
       "1 2015-07-22 13:41:40.317662   1.39.32.249\n",
       "2 2015-07-22 14:43:15.430441    1.39.33.77\n",
       "3 2015-07-22 14:41:47.962868     1.39.63.5\n",
       "4 2015-07-22 13:40:57.809077    1.39.80.59\n",
       "5 2015-07-22 15:03:44.730731   1.39.96.177\n",
       "6 2015-07-22 13:13:37.672328  103.15.63.34\n",
       "7 2015-07-22 13:43:56.997234  103.15.63.34\n",
       "8 2015-07-22 13:10:29.969176   103.16.71.9\n",
       "9 2015-07-22 13:42:20.392273   103.16.71.9"
      ],
      "text/html": "<div>\n<style scoped>\n    .dataframe tbody tr th:only-of-type {\n        vertical-align: middle;\n    }\n\n    .dataframe tbody tr th {\n        vertical-align: top;\n    }\n\n    .dataframe thead th {\n        text-align: right;\n    }\n</style>\n<table border=\"1\" class=\"dataframe\">\n  <thead>\n    <tr style=\"text-align: right;\">\n      <th></th>\n      <th>occured_at</th>\n      <th>user_id</th>\n    </tr>\n  </thead>\n  <tbody>\n    <tr>\n      <th>0</th>\n      <td>2015-07-22 15:00:47.096589</td>\n      <td>1.23.208.26</td>\n    </tr>\n    <tr>\n      <th>1</th>\n      <td>2015-07-22 13:41:40.317662</td>\n      <td>1.39.32.249</td>\n    </tr>\n    <tr>\n      <th>2</th>\n      <td>2015-07-22 14:43:15.430441</td>\n      <td>1.39.33.77</td>\n    </tr>\n    <tr>\n      <th>3</th>\n      <td>2015-07-22 14:41:47.962868</td>\n      <td>1.39.63.5</td>\n    </tr>\n    <tr>\n      <th>4</th>\n      <td>2015-07-22 13:40:57.809077</td>\n      <td>1.39.80.59</td>\n    </tr>\n    <tr>\n      <th>5</th>\n      <td>2015-07-22 15:03:44.730731</td>\n      <td>1.39.96.177</td>\n    </tr>\n    <tr>\n      <th>6</th>\n      <td>2015-07-22 13:13:37.672328</td>\n      <td>103.15.63.34</td>\n    </tr>\n    <tr>\n      <th>7</th>\n      <td>2015-07-22 13:43:56.997234</td>\n      <td>103.15.63.34</td>\n    </tr>\n    <tr>\n      <th>8</th>\n      <td>2015-07-22 13:10:29.969176</td>\n      <td>103.16.71.9</td>\n    </tr>\n    <tr>\n      <th>9</th>\n      <td>2015-07-22 13:42:20.392273</td>\n      <td>103.16.71.9</td>\n    </tr>\n  </tbody>\n</table>\n</div>"
     },
     "metadata": {},
     "execution_count": 23
    }
   ],
   "source": [
    "new_session.select([\"occured_at\", \"user_id\"]).where(\"is_new_session = 1\").limit(10).toPandas()"
   ]
  },
  {
   "cell_type": "code",
   "execution_count": 24,
   "metadata": {
    "tags": []
   },
   "outputs": [
    {
     "output_type": "stream",
     "name": "stdout",
     "text": [
      "+-----------+--------------------+--------------------+--------------+\n|    user_id|          occured_at|          lag_in_day|is_new_session|\n+-----------+--------------------+--------------------+--------------+\n|1.23.208.26|2015-07-22 14:41:...|                null|             0|\n|1.23.208.26|2015-07-22 14:41:...|0.016666666666666666|             0|\n|1.23.208.26|2015-07-22 14:41:...|0.016666666666666666|             0|\n|1.23.208.26|2015-07-22 14:41:...| 0.03333333333333333|             0|\n|1.23.208.26|2015-07-22 14:41:...|                0.15|             0|\n|1.23.208.26|2015-07-22 15:00:...|  18.883333333333333|             1|\n+-----------+--------------------+--------------------+--------------+\n\n"
     ]
    }
   ],
   "source": [
    "new_session.select(\"user_id\", \"occured_at\", \"lag_in_day\", \"is_new_session\").where(\"user_id = '1.23.208.26'\").show()"
   ]
  },
  {
   "cell_type": "code",
   "execution_count": 25,
   "metadata": {},
   "outputs": [],
   "source": [
    "user_session_id = new_session.withColumn(\"user_session_id\", sum('is_new_session').over(Window.partitionBy('user_id').orderBy('occured_at')))"
   ]
  },
  {
   "cell_type": "code",
   "execution_count": 26,
   "metadata": {
    "tags": []
   },
   "outputs": [
    {
     "output_type": "stream",
     "name": "stdout",
     "text": [
      "+------------+--------------------+--------------------+---------------+--------------------+\n|     user_id|          occured_at|          last_event|user_session_id|          lag_in_day|\n+------------+--------------------+--------------------+---------------+--------------------+\n|1.186.143.37|2015-07-22 13:14:...|                null|              0|                null|\n|1.186.143.37|2015-07-22 13:14:...|2015-07-22 13:14:...|              0| 0.13333333333333333|\n|1.187.164.29|2015-07-21 23:43:...|                null|              0|                null|\n|1.187.164.29|2015-07-21 23:43:...|2015-07-21 23:43:...|              0| 0.18333333333333332|\n|1.187.164.29|2015-07-21 23:43:...|2015-07-21 23:43:...|              0| 0.08333333333333333|\n|1.187.164.29|2015-07-21 23:44:...|2015-07-21 23:43:...|              0|  0.5333333333333333|\n|1.187.164.29|2015-07-21 23:44:...|2015-07-21 23:44:...|              0|0.016666666666666666|\n|1.187.164.29|2015-07-21 23:44:...|2015-07-21 23:44:...|              0|0.016666666666666666|\n|1.187.164.29|2015-07-21 23:44:...|2015-07-21 23:44:...|              0| 0.03333333333333333|\n|1.187.164.29|2015-07-21 23:44:...|2015-07-21 23:44:...|              0|                 0.0|\n|1.187.164.29|2015-07-21 23:44:...|2015-07-21 23:44:...|              0|  0.2833333333333333|\n|  1.22.41.76|2015-07-22 13:42:...|                null|              0|                null|\n|  1.22.41.76|2015-07-22 13:43:...|2015-07-22 13:42:...|              0| 0.13333333333333333|\n|  1.22.41.76|2015-07-22 13:43:...|2015-07-22 13:43:...|              0| 0.36666666666666664|\n|  1.22.41.76|2015-07-22 13:43:...|2015-07-22 13:43:...|              0| 0.03333333333333333|\n|  1.22.41.76|2015-07-22 13:43:...|2015-07-22 13:43:...|              0|                 0.4|\n|  1.22.41.76|2015-07-22 13:43:...|2015-07-22 13:43:...|              0| 0.03333333333333333|\n|  1.22.41.76|2015-07-22 13:43:...|2015-07-22 13:43:...|              0| 0.03333333333333333|\n|  1.22.41.76|2015-07-22 13:44:...|2015-07-22 13:43:...|              0| 0.03333333333333333|\n| 1.23.208.26|2015-07-22 14:41:...|                null|              0|                null|\n+------------+--------------------+--------------------+---------------+--------------------+\nonly showing top 20 rows\n\n"
     ]
    }
   ],
   "source": [
    "user_session_id.select('user_id', 'occured_at', 'last_event', 'user_session_id', \"lag_in_day\").show()"
   ]
  },
  {
   "cell_type": "code",
   "execution_count": 27,
   "metadata": {
    "tags": []
   },
   "outputs": [
    {
     "output_type": "stream",
     "name": "stdout",
     "text": [
      "+------------+---------------+--------+--------------------+\n|     user_id|user_session_id|count(1)|     avg(lag_in_day)|\n+------------+---------------+--------+--------------------+\n|1.186.143.37|              0|       2| 0.13333333333333333|\n|1.187.164.29|              0|       9| 0.14375000000000002|\n|  1.22.41.76|              0|       8| 0.14761904761904762|\n| 1.23.208.26|              0|       5| 0.05416666666666667|\n| 1.23.208.26|              1|       1|  18.883333333333333|\n| 1.23.36.184|              0|       4| 0.08333333333333333|\n|   1.38.19.8|              0|       2|                 1.0|\n|  1.38.20.34|              0|      35| 0.09411764705882353|\n|  1.39.13.13|              0|       2| 0.08333333333333333|\n| 1.39.32.249|              0|       4| 0.31666666666666665|\n| 1.39.32.249|              1|       2|  170.89166666666668|\n|  1.39.32.59|              0|       1|                null|\n| 1.39.33.153|              0|       8| 0.09761904761904762|\n|  1.39.33.33|              0|       2| 0.11666666666666667|\n|  1.39.33.77|              0|       2| 0.03333333333333333|\n|  1.39.33.77|              1|       4|             19.6375|\n|   1.39.34.4|              0|       1|                null|\n|  1.39.40.43|              0|       6|  0.5666666666666667|\n|  1.39.60.37|              0|      49|  0.3829861111111112|\n|  1.39.61.53|              0|      19|0.014814814814814815|\n+------------+---------------+--------+--------------------+\nonly showing top 20 rows\n\n"
     ]
    }
   ],
   "source": [
    "user_session_id.select(\"user_id\", \"user_session_id\", \"lag_in_day\").groupBy(\"user_id\", \"user_session_id\").agg(count('*'), avg('lag_in_day')).show()"
   ]
  },
  {
   "cell_type": "code",
   "execution_count": 28,
   "metadata": {},
   "outputs": [],
   "source": [
    "user_session_id.createOrReplaceTempView('user_session_id')"
   ]
  },
  {
   "cell_type": "code",
   "execution_count": 29,
   "metadata": {
    "tags": []
   },
   "outputs": [],
   "source": [
    "aggregated = spark.sql(\"\"\"select user_id, user_session_id, count(*) as count, avg(lag_in_day) as avg_session_time from user_session_id group by user_id, user_session_id\n",
    "\"\"\")"
   ]
  },
  {
   "cell_type": "code",
   "execution_count": 30,
   "metadata": {
    "tags": []
   },
   "outputs": [
    {
     "output_type": "stream",
     "name": "stdout",
     "text": [
      "+------------+---------------+-----+--------------------+\n|     user_id|user_session_id|count|    avg_session_time|\n+------------+---------------+-----+--------------------+\n|1.186.143.37|              0|    2| 0.13333333333333333|\n|1.187.164.29|              0|    9| 0.14375000000000002|\n|  1.22.41.76|              0|    8| 0.14761904761904762|\n| 1.23.208.26|              0|    5| 0.05416666666666667|\n| 1.23.208.26|              1|    1|  18.883333333333333|\n| 1.23.36.184|              0|    4| 0.08333333333333333|\n|   1.38.19.8|              0|    2|                 1.0|\n|  1.38.20.34|              0|   35| 0.09411764705882353|\n|  1.39.13.13|              0|    2| 0.08333333333333333|\n| 1.39.32.249|              0|    4| 0.31666666666666665|\n| 1.39.32.249|              1|    2|  170.89166666666668|\n|  1.39.32.59|              0|    1|                null|\n| 1.39.33.153|              0|    8| 0.09761904761904762|\n|  1.39.33.33|              0|    2| 0.11666666666666667|\n|  1.39.33.77|              0|    2| 0.03333333333333333|\n|  1.39.33.77|              1|    4|             19.6375|\n|   1.39.34.4|              0|    1|                null|\n|  1.39.40.43|              0|    6|  0.5666666666666667|\n|  1.39.60.37|              0|   49|  0.3829861111111112|\n|  1.39.61.53|              0|   19|0.014814814814814815|\n+------------+---------------+-----+--------------------+\nonly showing top 20 rows\n\n"
     ]
    }
   ],
   "source": [
    "aggregated.show()"
   ]
  },
  {
   "source": [
    "## 2. Determine the average session time"
   ],
   "cell_type": "markdown",
   "metadata": {}
  },
  {
   "cell_type": "code",
   "execution_count": 31,
   "metadata": {
    "tags": []
   },
   "outputs": [
    {
     "output_type": "stream",
     "name": "stdout",
     "text": [
      "+---------------------+\n|avg(avg_session_time)|\n+---------------------+\n|    14.60208471323375|\n+---------------------+\n\n"
     ]
    }
   ],
   "source": [
    "aggregated.select('avg_session_time').agg(avg('avg_session_time')).show()"
   ]
  },
  {
   "source": [
    "## 3. Determine unique URL visits per session. To clarify, count a hit to a unique URL only once per session."
   ],
   "cell_type": "markdown",
   "metadata": {}
  },
  {
   "cell_type": "code",
   "execution_count": 32,
   "metadata": {
    "tags": []
   },
   "outputs": [
    {
     "output_type": "stream",
     "name": "stdout",
     "text": [
      "+------------+---------------+------+\n|     user_id|user_session_id|counts|\n+------------+---------------+------+\n|1.186.143.37|              0|     2|\n|1.187.164.29|              0|     7|\n|  1.22.41.76|              0|     5|\n| 1.23.208.26|              0|     4|\n| 1.23.208.26|              1|     1|\n| 1.23.36.184|              0|     4|\n|   1.38.19.8|              0|     2|\n|  1.38.20.34|              0|    12|\n|  1.39.13.13|              0|     2|\n| 1.39.32.249|              0|     4|\n| 1.39.32.249|              1|     2|\n|  1.39.32.59|              0|     1|\n| 1.39.33.153|              0|     5|\n|  1.39.33.33|              0|     2|\n|  1.39.33.77|              0|     2|\n|  1.39.33.77|              1|     3|\n|   1.39.34.4|              0|     1|\n|  1.39.40.43|              0|     5|\n|  1.39.60.37|              0|    11|\n|  1.39.61.53|              0|     7|\n+------------+---------------+------+\nonly showing top 20 rows\n\n"
     ]
    }
   ],
   "source": [
    "unique_ip = spark.sql(\"\"\" select user_id, user_session_id, count(*) as counts from (select distinct user_id, _c3 as visit, user_session_id from user_session_id) group by user_id, user_session_id\n",
    "\"\"\")\n",
    "unique_ip.show()"
   ]
  },
  {
   "source": [
    "## 4. Find the most engaged users, ie the IPs with the longest session times"
   ],
   "cell_type": "markdown",
   "metadata": {}
  },
  {
   "cell_type": "code",
   "execution_count": 33,
   "metadata": {
    "tags": []
   },
   "outputs": [
    {
     "output_type": "stream",
     "name": "stdout",
     "text": [
      "+---------------+---------------+------------------+\n|        user_id|user_session_id|          max_time|\n+---------------+---------------+------------------+\n|   27.120.106.3|              1|1104.9833333333333|\n|117.255.253.155|              1|            957.05|\n|  103.24.125.26|              1| 954.7666666666667|\n| 98.230.153.173|              1|            954.15|\n| 150.228.40.140|              1| 953.5666666666667|\n|   14.139.69.64|              1| 952.8666666666667|\n|  66.249.82.186|              1| 952.1166666666667|\n| 168.235.194.47|              1|             924.6|\n|     1.39.35.89|              1| 922.3333333333334|\n| 37.228.107.126|              1| 922.1166666666667|\n|  163.47.14.170|              1|             922.0|\n| 107.167.109.55|              1| 921.8833333333333|\n|    1.39.63.157|              1|             921.7|\n|  163.47.12.254|              1| 921.6666666666666|\n|107.167.107.108|              1|            921.55|\n|    1.39.12.226|              1| 921.3833333333333|\n|     1.39.32.67|              1| 920.9666666666667|\n| 107.167.107.41|              1| 919.7833333333333|\n| 37.228.104.174|              1|             919.7|\n|    59.177.1.75|              1| 919.1833333333333|\n+---------------+---------------+------------------+\nonly showing top 20 rows\n\n"
     ]
    }
   ],
   "source": [
    "spark.sql(\"\"\" select user_id\n",
    "                   , user_session_id\n",
    "                   , max_time \n",
    "              from (select user_id\n",
    "                         , user_session_id\n",
    "                         , max(lag_in_day) as max_time \n",
    "                    from user_session_id group by user_id\n",
    "                                             , user_session_id) \n",
    "              order by max_time desc\n",
    "\"\"\").show()"
   ]
  },
  {
   "source": [
    "# Saving Data"
   ],
   "cell_type": "markdown",
   "metadata": {}
  },
  {
   "cell_type": "code",
   "execution_count": 34,
   "metadata": {},
   "outputs": [],
   "source": [
    "user_session_id.write.csv('data/user_session_id', header=True)"
   ]
  },
  {
   "cell_type": "code",
   "execution_count": 35,
   "metadata": {},
   "outputs": [],
   "source": [
    "unique_ip.select('user_id', 'counts').write.csv('data/unique_ip', header=True)"
   ]
  },
  {
   "cell_type": "code",
   "execution_count": 36,
   "metadata": {},
   "outputs": [],
   "source": [
    "spark.stop()"
   ]
  }
 ]
}